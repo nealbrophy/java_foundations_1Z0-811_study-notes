{
 "cells": [
  {
   "cell_type": "markdown",
   "id": "769f4163",
   "metadata": {},
   "source": [
    "# Object Oriented Programming (OOP)\n",
    "## What is OOP\n",
    "The basis of OOP is creating *objects* which are collections of __attributes__ and __operations__. *Attributes* usually contain a value representing the state of the attribute. *Operations* are actions carried out by the object and often make use of an attribute. For example, lets say we want to create a `clock` object. To do this we should consider the attributes and operations that make up a clock.\n",
    "\n",
    "- Clock\n",
    "    - Attributes\n",
    "        - __second__=0-59\n",
    "        - __minute__=0-59\n",
    "        - __hour__=0-23\n",
    "        - __second_hand__=second\n",
    "        - __minute_hand__=minute\n",
    "        - __hour_hand__=hour\n",
    "    - Operations\n",
    "        - __update_seconds__: every 1 seconds add `1` to `second` attribute\n",
    "        - __update_minutes__: every 60 seconds add `1` to `minute` attribute\n",
    "        - __update_hours__: every 60 minutes add `1` to `hour` attribute\n",
    "        - __move_second_hand__: move second_hand clockwise 1 notch every time `update_seconds` changes\n",
    "        - __move_minute_hand__: move minute_hand clockwise 1 notch every time `update_minutes` changes\n",
    "        - __move_hour_hand__: move hour_hand clockwise 1 notch every 60 minutes."
   ]
  },
  {
   "cell_type": "markdown",
   "id": "2ea01c37",
   "metadata": {},
   "source": [
    "## Object Oriented Analysis (OOA)\n",
    "Is the process of analysing a problem from an OOP perspective."
   ]
  },
  {
   "cell_type": "markdown",
   "id": "bd034b28",
   "metadata": {},
   "source": [
    "## Problem Domain\n",
    "Since *Java* is an object-oriented programming language one of the main duties/goals of a Java programmer is to develops solutions to solve a particular problem/need. The *scope* of the problem you want to address is called the __problem domain__. Most projects start by defining a *problem domain*. This involves gather requirements and writing a *statement of scope* which briefly outlines what you, the developer, want to achieve.\n",
    "\n",
    "For example, a scope statement for a project to create an ecommerce system might be: \"*create a system allowing the online ordering of products with integrated payment processing*\""
   ]
  },
  {
   "cell_type": "markdown",
   "id": "3f153776",
   "metadata": {},
   "source": [
    "## Objects within a problem domain\n",
    "To validate objects in a problem domain you need to first identify the properties of all the objects:\n",
    "- objects can be __physical__ or __conceptual__\n",
    "    - A customer account is an example of a __conceptual__ object as it doesn't have a physical presence\n",
    "    - A car is an example of a __physical__ object\n",
    "- objects have __attributes__\n",
    "    - Attributes are charactistics such as the size, name, shape, value that represent the state of an object\n",
    "    - The value of all of an objects attributes is often referred to as the object's __current state__\n",
    "- objects have __operations__\n",
    "    - Operations are things an object can do such as changing an attributes value or displaying a particular message.\n",
    "    - Operations *usually* affenct an objects attributes.\n",
    "    - The operations an object performs are often referred to as its *behaviour*\n",
    "    \n",
    "Object names are often nouns such as *account* or *shirt*. Object attributes are often nouns also such as *size* or *colour* but in the context of its value, the attribute is an adjective of the noun describing the object.\n",
    "\n",
    "Object operations are usually verbs or noun-verb combinations, such as *print receipt* or *increase value*.\n",
    "\n",
    "When judging whether or not to recognise an object we need to assess its relevence to the *problem domain*. To determine this you should asses:\n",
    "- Whether the object exists withing the boundaries of the problem domain\n",
    "- Whether the object is required for the solution to be complete\n",
    "- Whether the object is required for the interaction between the user and the solution."
   ]
  },
  {
   "cell_type": "markdown",
   "id": "3a155844",
   "metadata": {},
   "source": [
    "## Booleans\n",
    "A boolean is an attribute with only two states: true or false, on or off etc."
   ]
  },
  {
   "cell_type": "markdown",
   "id": "7d3261f9",
   "metadata": {},
   "source": [
    "## Attributes as references to other objects\n",
    "It's not uncommmon for an object attribute to contain a reference to another object. Consider a *customer* object which has an *order number* attribute referring to the customer's most recent *order* which is itself an object. That *order* object might contain a *product id* which referse to a separate *product* object and so on."
   ]
  },
  {
   "cell_type": "markdown",
   "id": "900ee1b3",
   "metadata": {},
   "source": [
    "## Classes\n",
    "A __class__ in OOP is essentially a blueprint or template (or recipt) for an object. All objects of that class may be referred to as *instances*. A class is the way you define an object. For example, we might have a __car__ class which is used to instantiate various different car objects. "
   ]
  },
  {
   "cell_type": "markdown",
   "id": "789403ed",
   "metadata": {},
   "source": [
    "## Variables and Methods\n",
    "In Java (and many other languages) an objects *attributes* are represented by `variables` and its *operations* are represented by `methods`.\n",
    "- Variables: the Java language mechanism for holding data\n",
    "- Methods: the Java programming language mechanism for perorming operations"
   ]
  },
  {
   "cell_type": "markdown",
   "id": "2dc5f74c",
   "metadata": {},
   "source": [
    "## Modeling classes\n",
    "The first phase of the design stage consists of __modeling__; visually organizing a program and its classes. Each class in a design should be modeled as a closed box with the class name at the top followed by a list of its variables (including a range of possible values) and a list of methods.\n",
    "<br>`+-------------+\n",
    "|ClassName    |\n",
    "+-------------+\n",
    "|size:0-10    |\n",
    "|color: Blue  |\n",
    "+-------------+\n",
    "|changeColor()|\n",
    "+-------------+\n",
    "`\n",
    "\n",
    "Convention in Java is for attribute and method names to be written in *camelCase*.\n",
    "\n",
    "*Unified Modeling Language* (UML) is a tool to aid in the modeling process.\n",
    "\n",
    "Modeling classes are similar to modeling database structures. Your object data can be stored in a Java Database Connectivity (JDBC) API. The JDBC API allows you to read and write records by using Structured Query Language (SQL)."
   ]
  }
 ],
 "metadata": {
  "kernelspec": {
   "display_name": "Java",
   "language": "java",
   "name": "java"
  },
  "language_info": {
   "codemirror_mode": "text/x-java",
   "file_extension": ".java",
   "mimetype": "",
   "name": "Java",
   "nbconverter_exporter": "",
   "version": "1.8.0_121"
  },
  "toc": {
   "base_numbering": 1,
   "nav_menu": {},
   "number_sections": false,
   "sideBar": false,
   "skip_h1_title": false,
   "title_cell": "Table of Contents",
   "title_sidebar": "Contents",
   "toc_cell": false,
   "toc_position": {},
   "toc_section_display": false,
   "toc_window_display": false
  }
 },
 "nbformat": 4,
 "nbformat_minor": 5
}
