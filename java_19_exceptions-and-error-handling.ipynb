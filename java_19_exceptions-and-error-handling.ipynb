{
 "cells": [
  {
   "cell_type": "markdown",
   "id": "9826628b",
   "metadata": {},
   "source": [
    "# Exceptions and Error Handling in Java\n",
    "Exceptions are a special pre-defined error messages that many languages include. When executing complex code which is likely to encounter errors it's beneficial to have a way of handling such errors. In particular you want to:\n",
    "1. Obtain info about why the error occurred\n",
    "2. Supply the user with a useful message"
   ]
  },
  {
   "cell_type": "markdown",
   "id": "cb329d40",
   "metadata": {},
   "source": [
    "When an exception occurs we say it has been \"*thrown*\" and in Java the throwing of an exception creates an object which can be passed to a __catch__ block (that's a piece of code designed to be run if a specified error is thrown, it allows you more control over execution). In Java there are three main types of objects which can be *thrown* and all are derived from a superclass `Throwable`:\n",
    "- `Error`: these are typically external, unchecked errors and are automatically thrown to the calling method\n",
    "- `RuntimeException`: normally caused by programming mistakes (typos, missing syntax etc), these are also unchecked and automatically thrown to the calling method\n",
    "- `Exception`: these errors must be checked which means the exception must be explicitly thrown to the calling method or caught by a `try`/`catch` block\n",
    "\n",
    "A throwable is the only object type which can be used as an argument in a `catch` clause and the only object type that can be \"throw\" to the calling method."
   ]
  },
  {
   "cell_type": "markdown",
   "id": "e51ffefb",
   "metadata": {},
   "source": [
    "## The call stack\n",
    "The \"call stack\" is a sequence of methods each triggered by the previous method. For example, lets say you have a `main` method which calls a `sayHello` method. The `sayHello` method calls an `preferredGreeting` method in turn calls an `obtainName` method and so on. This sequence from origin point to endpoint is the __call stack__. Each method call returns its result to the method that called it. So `obtainName` passes its return back to `preferredGreeting` which returns to `sayHello` etc.\n",
    "\n",
    "If an exception is not __caught__ it will be passed up the call stack in much the same way that a successful execution's result would be albeit with an exception object. If an exception *is* caught it will be thrown to the applicable catch block rather than running back up the call stack."
   ]
  },
  {
   "cell_type": "markdown",
   "id": "73b8ddd8",
   "metadata": {},
   "source": [
    "## Where should exceptions be handled?\n",
    "It's good practice to handle exceptions in the method in which they occur since the calling method may not be eqipped to do so. Since exceptions can't be ignored they need to be either handled within the method that threw it or elsewhere in the call stack (otherwise the program will stop)."
   ]
  },
  {
   "cell_type": "markdown",
   "id": "814162b7",
   "metadata": {},
   "source": [
    "## How to handle an exception\n",
    "The handling of exceptions is done using a `try`/`catch`. The structure looks similar to an `if`/`else`. The idea is that you encase the code which you think is most likely to encounter errors within a `try` block and then in the `catch` block you tell Java what to do if an error occurs.\n",
    "<br>\n",
    "<br>`public void myMethod() {`\n",
    "<br>&nbsp;&nbsp;&nbsp;&nbsp;__`try {`__\n",
    "<br>&nbsp;&nbsp;&nbsp;&nbsp;&nbsp;&nbsp;&nbsp;&nbsp;`..do something...`\n",
    "<br>&nbsp;&nbsp;&nbsp;&nbsp;`}`\n",
    "<br>&nbsp;&nbsp;&nbsp;&nbsp;__`catch (Exception e) {`__\n",
    "<br>&nbsp;&nbsp;&nbsp;&nbsp;&nbsp;&nbsp;&nbsp;&nbsp;`..do something w/ e...`\n",
    "<br>&nbsp;&nbsp;&nbsp;&nbsp;`}`"
   ]
  },
  {
   "cell_type": "code",
   "execution_count": 6,
   "id": "3bae0104",
   "metadata": {},
   "outputs": [
    {
     "data": {
      "text/plain": [
       "test.beaker.ExChecker"
      ]
     },
     "execution_count": 6,
     "metadata": {},
     "output_type": "execute_result"
    }
   ],
   "source": [
    "package test.beaker;\n",
    "\n",
    "public class ExChecker {\n",
    "    public void sayHello() {\n",
    "        try {\n",
    "            getGreeting();\n",
    "        }\n",
    "        catch (Exception e) { // exception is the most general error and should generally not be used like this\n",
    "            System.out.println(\"We got an error: \" + e);\n",
    "        } // catch\n",
    "    } // sayHello\n",
    "    \n",
    "    public void getGreeting() throws Exception { // adding \"throws Exception\" here ensures that it will be thrown to the place that calls it\n",
    "        throw new Exception(); // you can explicitly tell Java to throw an exception, useful for testing & debugging\n",
    "    }\n",
    "} // class"
   ]
  },
  {
   "cell_type": "code",
   "execution_count": 7,
   "id": "54fd0549",
   "metadata": {},
   "outputs": [
    {
     "name": "stdout",
     "output_type": "stream",
     "text": [
      "We got an error: java.lang.Exception\n"
     ]
    },
    {
     "data": {
      "text/plain": [
       "null"
      ]
     },
     "execution_count": 7,
     "metadata": {},
     "output_type": "execute_result"
    }
   ],
   "source": [
    "package test.beaker;\n",
    "\n",
    "ExChecker tester = new ExChecker();\n",
    "tester.sayHello();"
   ]
  },
  {
   "cell_type": "code",
   "execution_count": null,
   "id": "e4d38739",
   "metadata": {},
   "outputs": [],
   "source": []
  }
 ],
 "metadata": {
  "kernelspec": {
   "display_name": "Java",
   "language": "java",
   "name": "java"
  },
  "language_info": {
   "codemirror_mode": "text/x-java",
   "file_extension": ".java",
   "mimetype": "",
   "name": "Java",
   "nbconverter_exporter": "",
   "version": "1.8.0_121"
  },
  "toc": {
   "base_numbering": 1,
   "nav_menu": {},
   "number_sections": false,
   "sideBar": false,
   "skip_h1_title": false,
   "title_cell": "Table of Contents",
   "title_sidebar": "Contents",
   "toc_cell": false,
   "toc_position": {},
   "toc_section_display": false,
   "toc_window_display": false
  }
 },
 "nbformat": 4,
 "nbformat_minor": 5
}
