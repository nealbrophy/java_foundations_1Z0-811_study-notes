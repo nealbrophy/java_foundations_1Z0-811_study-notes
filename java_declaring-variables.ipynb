{
 "cells": [
  {
   "cell_type": "markdown",
   "id": "6e68c5d3",
   "metadata": {},
   "source": [
    "# Declaring Primitive Variables\n",
    "## What are \"Primitive\" variables?\n",
    "Primitive variables are non-object variables that are held in a specific amount of memory dedicated to your program.;"
   ]
  },
  {
   "cell_type": "markdown",
   "id": "2fe5b320",
   "metadata": {},
   "source": [
    "## Types of variables in Java\n",
    "The main types of variables in Java are:\n",
    "\n",
    "Name|Description\n",
    ":--|:--\n",
    "`String`|A sequence of characters encased in double quotes\n",
    "`char`|A single character encased in single quotes\n",
    "`float`|A decimal (32 bits, `1.4e^-45` to `3.4e^38`) must include `f` or `F` at the end of the number\n",
    "`double`|A large decimal (64 bits, `5e^324` to `1.8e^308`)\n",
    "`int`|An integer (32 bits, `-2,147,483,648` to `2,147,483,647`)\n",
    "`boolean`|true or false\n",
    "`byte`|Very small integer (8 bits, `-128` to `127`)\n",
    "`short`|Relatively small integer (16 bits, `-32,768` to `32,767`)\n",
    "`long`|Very large numbers (64 bits, `-2^63` to `2^63-1`) must includ an `L` or `l` at the end of the number\n"
   ]
  },
  {
   "cell_type": "code",
   "execution_count": 32,
   "id": "ea73c55c",
   "metadata": {},
   "outputs": [
    {
     "name": "stdout",
     "output_type": "stream",
     "text": [
      "My name is Dracula\n",
      "I am 32600 years old.\n",
      "I am 5.11 ft\n",
      "I have drunk 2147483648 litres of blood\n",
      "My cloak is 42.45 inches long\n"
     ]
    },
    {
     "data": {
      "text/plain": [
       "null"
      ]
     },
     "execution_count": 32,
     "metadata": {},
     "output_type": "execute_result"
    }
   ],
   "source": [
    "String myName = \"Dracula\";\n",
    "int myKills = 2146333123;\n",
    "float myHeight = 5.11f; // must end with F or f\n",
    "boolean amAlive = true;\n",
    "char myInitial = 'V';\n",
    "byte myFangs = 2;\n",
    "short myAge = 32600;\n",
    "long bloodDrunk = 2147483648L; // must end with L or l\n",
    "double cloakLength = 42.45;\n",
    "\n",
    "\n",
    "System.out.println(\"My name is \"+myName);\n",
    "System.out.println(\"I am \"+myAge+\" years old.\");\n",
    "System.out.println(\"I am \"+myHeight+\" ft\");\n",
    "System.out.println(\"I have drunk \"+bloodDrunk+\" litres of blood\");\n",
    "System.out.println(\"My cloak is \"+cloakLength+\" inches long\");"
   ]
  },
  {
   "cell_type": "markdown",
   "id": "709aeb54",
   "metadata": {},
   "source": [
    "## Declaring a constant\n",
    "If you have a variable which should keep the same value throughout the life of a program you can make it a constant using the keyword `final`."
   ]
  },
  {
   "cell_type": "code",
   "execution_count": 36,
   "id": "e33010e1",
   "metadata": {},
   "outputs": [
    {
     "data": {
      "text/plain": [
       "null"
      ]
     },
     "execution_count": 36,
     "metadata": {},
     "output_type": "execute_result"
    }
   ],
   "source": [
    "final String FORBIDDEN_KNOWLEDGE = \"lament configuration\";"
   ]
  },
  {
   "cell_type": "markdown",
   "id": "3edf17cd",
   "metadata": {},
   "source": [
    "## Assignment operators\n",
    "\n",
    "Operator|Name|Description|Example\n",
    ":--|:--|:--|:--\n",
    "`=`|equals|Assigns the value on the right to the item on the left|`myInt = 10`\n",
    "`+=`|plus-equals|Increases the item on the left by the number on the right|`myInt += 1`\n",
    "`-=`|minus-equals|Decreases the item on the left by the number on the right|`myInt -= 4`\n",
    "`*=`|times-equals|Multiplies the item on the left the number on the right|`myInt *= 3`"
   ]
  },
  {
   "cell_type": "markdown",
   "id": "43f9d9f9",
   "metadata": {},
   "source": [
    "## Increment and Decrement\n",
    "As in many languages Java has a shorthand for incrementing and decrementing by `1`:\n",
    "- `++` increments the value (__up__) by 1\n",
    "- `--` decrements the value (__down__) by 1\n",
    "\n",
    "The placement of the increment/decrement is important as Java includes the concept of *pre*-decrement/increment and *post*-decrement/increment. If you're performing multiple operations at the same time and you place the `++`/`--` *before* the variable to be incremented/decremented then Java will perform the increment/decrement before any other operations. \n",
    "\n",
    "Example:"
   ]
  },
  {
   "cell_type": "code",
   "execution_count": 37,
   "id": "153665c0",
   "metadata": {},
   "outputs": [
    {
     "name": "stdout",
     "output_type": "stream",
     "text": [
      "7\n",
      "8\n"
     ]
    },
    {
     "data": {
      "text/plain": [
       "null"
      ]
     },
     "execution_count": 37,
     "metadata": {},
     "output_type": "execute_result"
    }
   ],
   "source": [
    "int myInt = 7; // initialise myInt with value of 7\n",
    "System.out.println(myInt++); // print and THEN increment by 1\n",
    "System.out.println(myInt); // just print (so we can see that it was in fact incremented)"
   ]
  },
  {
   "cell_type": "code",
   "execution_count": null,
   "id": "a9771c21",
   "metadata": {},
   "outputs": [],
   "source": []
  }
 ],
 "metadata": {
  "kernelspec": {
   "display_name": "Java",
   "language": "java",
   "name": "java"
  },
  "language_info": {
   "codemirror_mode": "text/x-java",
   "file_extension": ".java",
   "mimetype": "",
   "name": "Java",
   "nbconverter_exporter": "",
   "version": "1.8.0_121"
  },
  "toc": {
   "base_numbering": 1,
   "nav_menu": {},
   "number_sections": false,
   "sideBar": false,
   "skip_h1_title": false,
   "title_cell": "Table of Contents",
   "title_sidebar": "Contents",
   "toc_cell": false,
   "toc_position": {},
   "toc_section_display": false,
   "toc_window_display": false
  }
 },
 "nbformat": 4,
 "nbformat_minor": 5
}
