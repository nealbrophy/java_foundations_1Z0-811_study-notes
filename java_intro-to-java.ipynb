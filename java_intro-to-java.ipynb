{
 "cells": [
  {
   "cell_type": "markdown",
   "id": "19375ae6",
   "metadata": {},
   "source": [
    "# Java SE Fundamentals\n",
    "## Introduction to Java\n",
    "The key concepts of Java programming are that it's:\n",
    "1. Object orientated\n",
    "2. Distributed\n",
    "3. Simple\n",
    "4. Multi-threaded\n",
    "5. Secure\n",
    "6. Platform independent"
   ]
  },
  {
   "cell_type": "markdown",
   "id": "c84f22a6",
   "metadata": {},
   "source": [
    "### 1. OOP: Object Orentated Programming\n",
    "The main characteristics of OOP are:\n",
    "- modularity: the code for an object can be written/maintained independently of the code for other objects. After it's created an object can easily be passed around inside the system.\n",
    "- information-hiding: interacting with an objects methods only, the details of it's internals are hidden.\n",
    "- code re-use: if an object already exists it can be used in your program\n",
    "- pluggability and debugging ease: if a particular object has problems you can remove it and replace with a different object"
   ]
  },
  {
   "cell_type": "markdown",
   "id": "878ae58b",
   "metadata": {},
   "source": [
    "### 2. Distributed\n",
    "Java is considered to be a *distributed* language because it provides support for distributed network technologies (__R__emote __M__ethod __I__nvocation, __U__niversal __R__esource __L__ocator). Additionally the dynamic class loading of Java allows code to be downloaded via the internet and executed."
   ]
  },
  {
   "cell_type": "markdown",
   "id": "f043dcaf",
   "metadata": {},
   "source": [
    "### 3. Simple\n",
    "Java is considered *simple* for a number of reasons including: \n",
    "- it's booleans can only have a `true` or `false` value as opposed to other languages where the booleans are represented by one and zero.\n",
    "- complex/obscure constructs such as pointers to memory locations (a feature of C and C++) have been removed. Instead Java only allows the manipulation of objects using object references."
   ]
  },
  {
   "cell_type": "markdown",
   "id": "a8f532f7",
   "metadata": {},
   "source": [
    "### 4. Multi-threaded\n",
    "Java supports *multi-threading* which allows several tasks to run concurrently, such as querying a database, performing long-running and complex calculations, and displaying a user interface. This allows Java to be resource efficient."
   ]
  },
  {
   "cell_type": "markdown",
   "id": "de179549",
   "metadata": {},
   "source": [
    "### 5. Secure\n",
    "Java is considered secure because the JRE (runtime environment) and JDK (development kit) use security measures to protect programs from attack such as:\n",
    "- prohibiting distributed programs from reading/writing to hard disk\n",
    "- verifying that all Java technology programs contain valid code\n",
    "- support for digital signatures which allows you to \"sign\" code for verification\n",
    "- prohibiting the manipulation of memory pointers"
   ]
  },
  {
   "cell_type": "markdown",
   "id": "328708bc",
   "metadata": {},
   "source": [
    "### 6. Platform independent\n",
    "Some languages such as C++ require different platform-specific compilers meaning that a Linux implementation is different from a Windows implementation which is different from a a Mac implementation. Java on the other hand compiles to platform-independent Java bytecode. After the bytecode is created it's interpreted by a bytecode interpreter (the __J__ava __V__irtual __M__achine). In addition to the JVM, Java also needs a collection of standard Java class libraries. The JVM and class libraries are bundled together in the __J__ava __R__untime __E__nvironment."
   ]
  },
  {
   "cell_type": "code",
   "execution_count": null,
   "id": "d71ae0eb",
   "metadata": {},
   "outputs": [],
   "source": []
  }
 ],
 "metadata": {
  "kernelspec": {
   "display_name": "Java",
   "language": "java",
   "name": "java"
  },
  "language_info": {
   "codemirror_mode": "text/x-java",
   "file_extension": ".java",
   "mimetype": "",
   "name": "Java",
   "nbconverter_exporter": "",
   "version": "1.8.0_121"
  },
  "toc": {
   "base_numbering": 1,
   "nav_menu": {},
   "number_sections": false,
   "sideBar": false,
   "skip_h1_title": false,
   "title_cell": "Table of Contents",
   "title_sidebar": "Contents",
   "toc_cell": false,
   "toc_position": {},
   "toc_section_display": false,
   "toc_window_display": false
  }
 },
 "nbformat": 4,
 "nbformat_minor": 5
}
