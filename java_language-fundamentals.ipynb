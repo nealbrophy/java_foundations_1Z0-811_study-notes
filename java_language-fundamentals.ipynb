{
 "cells": [
  {
   "cell_type": "markdown",
   "id": "4a73fd3e",
   "metadata": {},
   "source": [
    "# Java Language Fundamentals\n",
    "Java programs consist of multiple classes made up of various components. There are several ways to test a program including:\n",
    "- Unit tests: testing individual components\n",
    "- End-to-End: testing the entire program in its intended environment\n",
    "\n",
    "A desktop application usually consists of one object, often called the __controller__ object, which acts as the starting point for the program and interacts with other objects. For example, in an order management system you might have a main order entry object which in turn connects to a shipping object, a billing object and so on. Each object is an instance of its own blueprint class."
   ]
  },
  {
   "cell_type": "markdown",
   "id": "9c1b14c0",
   "metadata": {},
   "source": [
    "## Classes\n",
    "Classes are composed of the Java code needed to instantiate objects. A Java class file can be divided into four separate sections:\n",
    "- the class declaration\n",
    "- field declarations\n",
    "- methods (optional)\n",
    "- comments (optional)\n",
    "\n",
    "Class attributes are called __fields__."
   ]
  },
  {
   "cell_type": "markdown",
   "id": "0f0375a9",
   "metadata": {},
   "source": [
    "## Variables\n",
    "Variables are holders of value, containers of data, and the value/data can change during the course of the application. *Fields* are one type of variable. You can also have __local__ variables. Variables can also be initialized at declaration time."
   ]
  },
  {
   "cell_type": "markdown",
   "id": "8f5104a4",
   "metadata": {},
   "source": [
    "## Class structure & content\n",
    "The code for a class is contained within a text file and needs to adhere to a certain structure."
   ]
  },
  {
   "cell_type": "code",
   "execution_count": 7,
   "id": "3dd455d0",
   "metadata": {},
   "outputs": [
    {
     "data": {
      "text/plain": [
       "com.twosigma.beaker.javash.bkr27a68f43.Car"
      ]
     },
     "execution_count": 7,
     "metadata": {},
     "output_type": "execute_result"
    }
   ],
   "source": [
    "public class Car {\n",
    "    \n",
    "    public int carID = 0; // default id\n",
    "    public String description = \n",
    "            \"-description required-\"; // default\n",
    "    // available colors are G=green, R=red, B=blue\n",
    "    public char colorCode = 'G';\n",
    "    public double price = 0.0;\n",
    "    // this method displays the values for an item\n",
    "    public void displayInfo() {\n",
    "        System.out.println(\"Car ID: \" + carID);\n",
    "        System.out.println(\"Car Desc: \" + description);\n",
    "        System.out.println(\"Car Colour: \" + colorCode);\n",
    "        System.out.println(\"Car Price: \" + price);\n",
    "    } // end of method\n",
    "} // end of class\n",
    "\n"
   ]
  },
  {
   "cell_type": "markdown",
   "id": "ed2293bb",
   "metadata": {},
   "source": [
    "The following symbols can be used when defining a Java source:\n",
    "\n",
    "Symbol|Description|Use\n",
    ":--|:--|:--\n",
    "`{}`|braces|Signify a code block e.g. a method or a class\n",
    "`()`|parentheses|Used to indicate arguments (i.e. inputs) that can be passed to a method\n",
    "`;`|semicolons|Signify the end of a statement\n",
    "`,`|commas|Used to separate multiple arguments/values\n",
    "`'`|single quotes|Used to define single characters\n",
    "`\"`|double quotes|Used to define strings (multiple chars)\n",
    "`//`|double forward slash|Indicate a single-line comment"
   ]
  },
  {
   "cell_type": "markdown",
   "id": "b3350f22",
   "metadata": {},
   "source": [
    "## Class declaration\n",
    "When defining a class you must write a class declaration. Class declarations are made up of three components:\n",
    "- modifiers (optional)\n",
    "    - a modifiers variable determines the accessibility that other classes have to this class. This is optional and can be public, abstract, or final.\n",
    "- `class` keyword\n",
    "    - a reserved keyword that denotes the start of a class definition\n",
    "- class identifier i.e. name\n",
    "    - class name should be a noun\n",
    "    - use title-case (first letter of every word capitalised) e.g. `MyClass`\n",
    "    - use whole words rather than abbreviations\n",
    "    \n",
    "For example the `Car` class above has `public` as its modifier, `class` keyword, `Car` as its name."
   ]
  },
  {
   "cell_type": "markdown",
   "id": "94018d26",
   "metadata": {},
   "source": [
    "You can develop classes such that each class has its own file. Java requires that source code file names must match the `public` class name in the file and have a `.java` extension. For example, sticking with the `Car` class above we would save that in a file as:\n",
    "<br>`Car.java`"
   ]
  },
  {
   "cell_type": "markdown",
   "id": "ca061378",
   "metadata": {},
   "source": [
    "### Class field declarations\n",
    "The field declarations & assignments should immediately follow the opening curly brace. Normally you would set-up all the attribute vars for the class here and use a semicolon at the end of each line of code. You should also put clear comments to make it clear what the code is doing.\n",
    "<br>`[modifer] type name = value;`"
   ]
  },
  {
   "cell_type": "code",
   "execution_count": 12,
   "id": "74953d90",
   "metadata": {},
   "outputs": [
    {
     "data": {
      "text/plain": [
       "com.twosigma.beaker.javash.bkr27a68f43.MyClass"
      ]
     },
     "execution_count": 12,
     "metadata": {},
     "output_type": "execute_result"
    }
   ],
   "source": [
    "public class MyClass {\n",
    "    public char myLetter = 'A';\n",
    "}"
   ]
  },
  {
   "cell_type": "markdown",
   "id": "c6a06c0c",
   "metadata": {},
   "source": [
    "### Class method declarations\n",
    "Method declarations should follow the field declarations. The syntax for declaring methods is as follows:\n",
    "<br>`[modifier] return_type identifier(arguments) {method code block}`\n",
    "\n",
    "The return type indicates the type of value returned by the method, if any. Returned values can be used by *calling* the method. Any method can return __at most__ one value. If the method returns nothing the `void` keyword should be used."
   ]
  },
  {
   "cell_type": "code",
   "execution_count": 17,
   "id": "325f01d9",
   "metadata": {},
   "outputs": [
    {
     "data": {
      "text/plain": [
       "com.twosigma.beaker.javash.bkr27a68f43.NewClass"
      ]
     },
     "execution_count": 17,
     "metadata": {},
     "output_type": "execute_result"
    }
   ],
   "source": [
    "public class NewClass {\n",
    "    public String myString=\"this is my string\";\n",
    "    // this method prints the string\n",
    "    public void printString() {\n",
    "        System.out.println(\"My string is: \" + myString);\n",
    "    } // end of printString method\n",
    "} // end of class"
   ]
  },
  {
   "cell_type": "markdown",
   "id": "9c5d3599",
   "metadata": {},
   "source": [
    "## Comments\n",
    "There are three types of comments in Java:\n",
    "- single line comments which use `//`\n",
    "- traditional comments which start `/*` and end `*/`\n",
    "- documentation comments which use `/**` and end `*/` (note the double asterisk on the opening)"
   ]
  },
  {
   "cell_type": "code",
   "execution_count": 9,
   "id": "d934dc9e",
   "metadata": {},
   "outputs": [
    {
     "data": {
      "text/plain": [
       "null"
      ]
     },
     "execution_count": 9,
     "metadata": {},
     "output_type": "execute_result"
    }
   ],
   "source": [
    "// this is a single line comment\n",
    "\n",
    "/* this is a traditional \n",
    "comment which can\n",
    "run across many lines */\n",
    "\n",
    "/**\n",
    "Docmentation string which can be used by the Javadoc tool to create documentation\n",
    "*/"
   ]
  },
  {
   "cell_type": "markdown",
   "id": "e0958f7f",
   "metadata": {},
   "source": [
    "## Keywords\n",
    "Keywords are special, reserved words in Java that give instructions to the compiler. Keywords must not be used as identifiers for classes, methods, variables etc.\n",
    "\n",
    "The words `true`, `false`, and `null` are not keywords but literals and also cannot be used as identifiers.\n",
    "\n",
    "Reserved keywords|\n",
    ":--|\n",
    "`abstract`, `assert`, `boolean`, `break`, `byte`, `case`, `catch`, `char`, `class`, `continue`, `default`\n",
    "`do`, `double`, `else`, `enum`, `extends`, `false`, `final`, `finally`, `float`, `for`, `if`, `implements`\n",
    "`imports`, `instanceof`, `int`, `interface`, `long`, `native`, `new`, `package`, `private`, `protected`\n",
    "`public`, `return`, `short`, `static`, `strictfp`, `super`, `switch`, `synchronized`, `this`, `throw`\n",
    "`throws`, `transient`, `true`, `try`, `void`, `volatile`, `while`"
   ]
  },
  {
   "cell_type": "markdown",
   "id": "588097b1",
   "metadata": {},
   "source": [
    "## Useful escape sequences\n",
    "An escape sequence is a combination of a backslash (`\\`) and a character. The backslash tells Java not to treat the following character as it normally would and instead use a different meaning for it. Here's a table of some of those:\n",
    "\n",
    "Sequence|Meaning\n",
    ":--|:--\n",
    "`\\b`|backspace\n",
    "`\\t`|tab\n",
    "`\\n`|line feed (new line)\n",
    "`\\f`|form feed\n",
    "`\\r`|carriage return\n",
    "`\\\"`|double quote\n",
    "`\\'`|single quote\n",
    "`\\\\`|backslash"
   ]
  },
  {
   "cell_type": "code",
   "execution_count": 5,
   "id": "263628ca",
   "metadata": {},
   "outputs": [
    {
     "name": "stdout",
     "output_type": "stream",
     "text": [
      "This\n",
      "will\n",
      "create\n",
      "new\n",
      "lines\n"
     ]
    },
    {
     "data": {
      "text/plain": [
       "null"
      ]
     },
     "execution_count": 5,
     "metadata": {},
     "output_type": "execute_result"
    }
   ],
   "source": [
    "System.out.println(\"This\\nwill\\ncreate\\nnew\\nlines\");"
   ]
  },
  {
   "cell_type": "code",
   "execution_count": null,
   "id": "7db14d72",
   "metadata": {},
   "outputs": [],
   "source": []
  }
 ],
 "metadata": {
  "kernelspec": {
   "display_name": "Java",
   "language": "java",
   "name": "java"
  },
  "language_info": {
   "codemirror_mode": "text/x-java",
   "file_extension": ".java",
   "mimetype": "",
   "name": "Java",
   "nbconverter_exporter": "",
   "version": "1.8.0_121"
  },
  "toc": {
   "base_numbering": 1,
   "nav_menu": {},
   "number_sections": false,
   "sideBar": false,
   "skip_h1_title": false,
   "title_cell": "Table of Contents",
   "title_sidebar": "Contents",
   "toc_cell": false,
   "toc_position": {},
   "toc_section_display": false,
   "toc_window_display": false
  }
 },
 "nbformat": 4,
 "nbformat_minor": 5
}
