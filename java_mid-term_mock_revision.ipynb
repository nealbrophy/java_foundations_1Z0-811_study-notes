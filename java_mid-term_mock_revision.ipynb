{
 "cells": [
  {
   "cell_type": "markdown",
   "id": "facfaeb4",
   "metadata": {},
   "source": [
    "# Mid-term Mock Exam Revision"
   ]
  },
  {
   "cell_type": "markdown",
   "id": "35e98e0f",
   "metadata": {},
   "source": [
    "## Initialising arrays with BOTH `new <type>[]` and `{entries}`\n",
    "Arrays can be initialised & populated in a number of ways:\n",
    "- Initialising only\n",
    "    <br>Example: `String [] myArray = new String [5];` declares an array (`myArray`) of `String` type and initialises it with a length of `5`.\n",
    "- Initialise and populate:\n",
    "    <br>Example 1: `String [] myArray = new String[] {\"garden\", \"train\", \"desk\"};` declares an array `myArray` of type `String` and populates with `3` entries.\n",
    "    <br>Example 2: `String [] myArray = {\"garden\", \"train\", \"desk\"};` does the same as example 1 but omits the `new String[]` declaration.\n",
    "    \n",
    "However, if you cannot initialise with a length AND populate at the same time:\n",
    "- This syntax is not permitted and will result in error\n",
    "    <br>`String [] myArray = new String [`__`3`__`] {\"garden\",\"train\",\"desk\"};`"
   ]
  },
  {
   "cell_type": "markdown",
   "id": "c965c83e",
   "metadata": {},
   "source": [
    "## Concatenating Strings with ints\n",
    "Using a `+` when assigning a value to a String type variable means concatenation. If you want a calculation to be done before concatenation you need to encase the sum in parentheses:\n",
    "<br>\n",
    "<br>`String newString = \"You're in a JohnnyCab. Hell of a day isn't it?\"+ 23 + 13;` will assign the value of newString to be \"*You're in a JohnnyCab. Hell of a day isn't it?2313*\"\n",
    "<br>`String newString = \"The door opened, you got in.\" + (23+13);` will assign the value of newString to be \"*The door opened, you got in.36*\""
   ]
  },
  {
   "cell_type": "code",
   "execution_count": 5,
   "id": "2b5849fd",
   "metadata": {},
   "outputs": [
    {
     "name": "stdout",
     "output_type": "stream",
     "text": [
      "All work and no play makes Jack a dull boy. -Room No.20037\n",
      "All work and no play makes jack a dull boy. -Room No.237\n"
     ]
    },
    {
     "data": {
      "text/plain": [
       "null"
      ]
     },
     "execution_count": 5,
     "metadata": {},
     "output_type": "execute_result"
    }
   ],
   "source": [
    "String newString1 = \"All work and no play makes Jack a dull boy. -Room No.\" + 200 + 37;\n",
    "System.out.println(newString1);\n",
    "\n",
    "String newString2 = \"All work and no play makes jack a dull boy. -Room No.\" + (200 + 37);\n",
    "System.out.println(newString2);"
   ]
  },
  {
   "cell_type": "markdown",
   "id": "ece26ae3",
   "metadata": {},
   "source": [
    "## Curly braces after an if statement aren't mandatory *provided the code block consists of only __ONE__ statement*\n",
    "While its generally advisable to encase your `if` statement's code block in curly braces (`{}`), foregoing them will __not__ raise an error provided the code block only has one statement to execute.\n",
    "\n",
    "So this is allowed (but not recommended):\n",
    "<br>`if (true)`\n",
    "<br>&nbsp;&nbsp;&nbsp;&nbsp;`System.out.println(\"True!\");`\n",
    "\n",
    "However, this will not work:\n",
    "<br>`if (true)`\n",
    "<br>&nbsp;&nbsp;&nbsp;&nbsp;`System.out.println(\"It's true!\");`\n",
    "<br>&nbsp;&nbsp;&nbsp;&nbsp;`System.out.println(\"It's definitely true!\")`"
   ]
  },
  {
   "cell_type": "code",
   "execution_count": 8,
   "id": "a0a3b110",
   "metadata": {},
   "outputs": [
    {
     "name": "stdout",
     "output_type": "stream",
     "text": [
      "01"
     ]
    },
    {
     "data": {
      "text/plain": [
       "null"
      ]
     },
     "execution_count": 8,
     "metadata": {},
     "output_type": "execute_result"
    }
   ],
   "source": [
    "int y = 5;\n",
    "for (int x=0; x<5; x++) {\n",
    "    y--;\n",
    "    if (x == y)\n",
    "    break;\n",
    "    System.out.print(x+\"\");\n",
    "} // for"
   ]
  },
  {
   "cell_type": "markdown",
   "id": "312c8696",
   "metadata": {},
   "source": [
    "For example, in the below the result should stay as \"Pass\" unless the score is below 60 (which it isn't) but because we've omitted curly braces only the first indented line is treated as part of the `if`. So even if the score is >60 the result gets changed to `Fail`"
   ]
  },
  {
   "cell_type": "code",
   "execution_count": 18,
   "id": "c2a1f4e8",
   "metadata": {},
   "outputs": [
    {
     "name": "stdout",
     "output_type": "stream",
     "text": [
      "Fail\n"
     ]
    },
    {
     "data": {
      "text/plain": [
       "null"
      ]
     },
     "execution_count": 18,
     "metadata": {},
     "output_type": "execute_result"
    }
   ],
   "source": [
    "int score = 75;\n",
    "String result = \"Pass\";\n",
    "if (score<60)\n",
    "    System.out.println(\"You need to study more\");\n",
    "    result = \"Fail\";\n",
    "System.out.println(result);\n",
    "    "
   ]
  },
  {
   "cell_type": "markdown",
   "id": "8666b15d",
   "metadata": {},
   "source": [
    "## The `default` branch of a `switch` statement acts as an entry point to the code\n",
    "As with the other branches of a `switch` statement, if you place the `default` above other branches you need to include a `break;` after it. Otherwise the default acts as an entry point and point and the execution will continue until the next `break;` (or the end of the code)."
   ]
  },
  {
   "cell_type": "code",
   "execution_count": 30,
   "id": "181030f5",
   "metadata": {},
   "outputs": [
    {
     "name": "stdout",
     "output_type": "stream",
     "text": [
      "Green apple!\n",
      "White apple!\n"
     ]
    },
    {
     "data": {
      "text/plain": [
       "null"
      ]
     },
     "execution_count": 30,
     "metadata": {},
     "output_type": "execute_result"
    }
   ],
   "source": [
    "String apple = \"green\";\n",
    "switch (apple) {\n",
    "    case \"blue\":\n",
    "        System.out.println(\"Blue apple!\");\n",
    "        break;\n",
    "    default:\n",
    "        System.out.println(\"Green apple!\");\n",
    "    case \"white\":\n",
    "        System.out.println(\"White apple!\");\n",
    "        break;\n",
    "}"
   ]
  },
  {
   "cell_type": "markdown",
   "id": "5d2c4385",
   "metadata": {},
   "source": [
    "Questions I need an explanation for:\n",
    "- Why does `int x, y, z = 10;` not assign the value 10 to three different int variables? [QUESTION 12]\n",
    "- Why is `for (;x<5;)` permitted? [QUESTION 18]"
   ]
  },
  {
   "cell_type": "code",
   "execution_count": 33,
   "id": "087bb284",
   "metadata": {},
   "outputs": [
    {
     "name": "stdout",
     "output_type": "stream",
     "text": [
      "3\n"
     ]
    },
    {
     "data": {
      "text/plain": [
       "null"
      ]
     },
     "execution_count": 33,
     "metadata": {},
     "output_type": "execute_result"
    }
   ],
   "source": [
    "int x=1, y=1, z=1;\n",
    "System.out.println(x+y+z);"
   ]
  },
  {
   "cell_type": "code",
   "execution_count": 1,
   "id": "7674ad84",
   "metadata": {},
   "outputs": [
    {
     "data": {
      "text/plain": [
       "com.twosigma.beaker.javash.bkr4e04ef2f.Exam_Ready_Quiz1_Q28"
      ]
     },
     "execution_count": 1,
     "metadata": {},
     "output_type": "execute_result"
    }
   ],
   "source": [
    "public class Exam_Ready_Quiz1_Q28{\n",
    "  public static void main(String[] args){\n",
    "   int x = 0;\n",
    "   for(;x<5;){\n",
    "    System.out.print(x + \" \");\n",
    "     x++;\n",
    "   }\n",
    "  }\n",
    "}"
   ]
  },
  {
   "cell_type": "code",
   "execution_count": 5,
   "id": "b5e32490",
   "metadata": {},
   "outputs": [
    {
     "ename": "variable x is already defined in method beakerRun()",
     "evalue": "variable x is already defined in method beakerRun()",
     "output_type": "error",
     "traceback": [
      "\u001b[1;31mvariable x is already defined in method beakerRun()\u001b[0;0m",
      "\u001b[1;31m for(int x=5\u001b[0;0m",
      "\u001b[1;31m     ^      ^ \u001b[0;0m"
     ]
    }
   ],
   "source": [
    "int x = 0;\n",
    "\n",
    "for (int i=0;i<5;i++) {\n",
    "    System.out.println(\"i is \"+i);\n",
    "}\n",
    "\n",
    "int j = 8;\n",
    "\n",
    "for(int x=5;x>=5;x--){\n",
    "    System.out.println(x);\n",
    "}"
   ]
  },
  {
   "cell_type": "code",
   "execution_count": 6,
   "id": "c45de447",
   "metadata": {},
   "outputs": [
    {
     "name": "stdout",
     "output_type": "stream",
     "text": [
      "0\n"
     ]
    },
    {
     "data": {
      "text/plain": [
       "null"
      ]
     },
     "execution_count": 6,
     "metadata": {},
     "output_type": "execute_result"
    }
   ],
   "source": [
    "int x = 5;\n",
    "x = --x-x--;\n",
    "System.out.println(x);"
   ]
  },
  {
   "cell_type": "code",
   "execution_count": null,
   "id": "1d6ee91c",
   "metadata": {},
   "outputs": [],
   "source": []
  }
 ],
 "metadata": {
  "kernelspec": {
   "display_name": "Java",
   "language": "java",
   "name": "java"
  },
  "language_info": {
   "codemirror_mode": "text/x-java",
   "file_extension": ".java",
   "mimetype": "",
   "name": "Java",
   "nbconverter_exporter": "",
   "version": "1.8.0_121"
  },
  "toc": {
   "base_numbering": 1,
   "nav_menu": {},
   "number_sections": false,
   "sideBar": false,
   "skip_h1_title": false,
   "title_cell": "Table of Contents",
   "title_sidebar": "Contents",
   "toc_cell": false,
   "toc_position": {},
   "toc_section_display": false,
   "toc_window_display": false
  }
 },
 "nbformat": 4,
 "nbformat_minor": 5
}
