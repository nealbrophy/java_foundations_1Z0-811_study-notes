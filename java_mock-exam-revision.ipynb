{
 "cells": [
  {
   "cell_type": "markdown",
   "id": "44666fed",
   "metadata": {},
   "source": [
    "# Java Mock-Exam Revision"
   ]
  },
  {
   "cell_type": "markdown",
   "id": "268f1a20",
   "metadata": {},
   "source": [
    "## Import statements in exam questions\n",
    "According to the Oracle website: *if sample code do not include package or import statements and the question doesn't explicitly refer to these missing statements, then assume that all sample code is in the same package or import statements exist to support them*. __However__, in several mock tests assuming import statements were present resulted in incorrect answers. So, it would seem that the the advice isn't always applicable. Upon querying it with eCollege instructors I received the following feedback:\n",
    "- *In the Oracle exam, they won't try and trick you regarding missing import statements. If the question is testing you about imports statements, the point will be clearly made. The key is to watch out for line numbers. If you can clearly see Line 1 marked in the program, you know that there are no previous lines.*\n",
    "- If there are no line numbers...*We don't know what statements there are on Lines 1-3. In the question, unless told to the contrary, we have to then assume that the import statements are present on Lines 1-3.*"
   ]
  },
  {
   "cell_type": "markdown",
   "id": "1d498ee5",
   "metadata": {},
   "source": [
    "## `Iterator`\n",
    "The `Iterator` class is in the `java.util` package and allows for the creation of an iterator object."
   ]
  },
  {
   "cell_type": "markdown",
   "id": "228f312b",
   "metadata": {},
   "source": [
    "## `Random`\n",
    "The `Random` class is in the `java.util` package and allows for the creation of pseudo-random numbers."
   ]
  },
  {
   "cell_type": "markdown",
   "id": "9442a8bd",
   "metadata": {},
   "source": [
    "## `substring()`\n",
    "The first argument passed to the `substring()` method is a __zero-based__ index but the second argument passed is __one-based__ *AND* __inclusive__. So `substring(1,10)` defines the target as starting at the second index and ending at the tenth. \n",
    "\n",
    "__NOTE:__ The value of `substring` isn't stored in memory unless assigned to a variable."
   ]
  },
  {
   "cell_type": "code",
   "execution_count": 4,
   "id": "dffca4fe",
   "metadata": {},
   "outputs": [
    {
     "name": "stdout",
     "output_type": "stream",
     "text": [
      "The char at zero-based index 1 is \"e\"\n",
      "The char at zero-based index 10 is \"d\"\n",
      "The substring starting at zero-based index 1 and ending at ONE-based index 10 is \"ello Worl\"\n"
     ]
    },
    {
     "data": {
      "text/plain": [
       "null"
      ]
     },
     "execution_count": 4,
     "metadata": {},
     "output_type": "execute_result"
    }
   ],
   "source": [
    "String myLongString = \"Hello World!\";\n",
    "String myShortString = myLongString.substring(1,10);\n",
    "char startIndex = myLongString.charAt(1);\n",
    "char endIndex = myLongString.charAt(10);\n",
    "System.out.printf(\"The char at zero-based index 1 is \\\"%s\\\"%nThe char at zero-based index 10 is \\\"%s\\\"%nThe substring starting at zero-based index 1 and ending at ONE-based index 10 is \\\"%s\\\"%n\", \n",
    "                  startIndex, \n",
    "                  endIndex, \n",
    "                  myShortString);"
   ]
  },
  {
   "cell_type": "markdown",
   "id": "f38f13ff",
   "metadata": {},
   "source": [
    "## `switch` statement's `default` argument\n",
    "A `switch` statement's `default` label can be placed anywhere (i.e. it doesn't need to be the last option in a `switch`) and will only be selected if the rest of the `case` branches aren't selected. *However*, the rule regarding `break` still applies; so if you don't include the `break` keyword within your default branch any other outputs below will be executed until the next `break` or the end of the switch statement is reached."
   ]
  },
  {
   "cell_type": "code",
   "execution_count": 7,
   "id": "a17c9d0d",
   "metadata": {},
   "outputs": [
    {
     "name": "stdout",
     "output_type": "stream",
     "text": [
      "The word is \"Rest\"\n"
     ]
    },
    {
     "data": {
      "text/plain": [
       "null"
      ]
     },
     "execution_count": 7,
     "metadata": {},
     "output_type": "execute_result"
    }
   ],
   "source": [
    "String myString = \"Rest\";\n",
    "switch (myString) {\n",
    "    default:\n",
    "        System.out.println(\"None of the words have been found\");\n",
    "    case \"Best\":\n",
    "        System.out.println(\"The word is \\\"Best\\\"\");\n",
    "        break;\n",
    "    case \"Rest\":\n",
    "        System.out.println(\"The word is \\\"Rest\\\"\");\n",
    "        break;\n",
    "    case \"Nest\":\n",
    "        System.out.println(\"The word is \\\"Test\\\"\");\n",
    "        break;\n",
    "}"
   ]
  },
  {
   "cell_type": "markdown",
   "id": "55e46ba6",
   "metadata": {},
   "source": [
    "## Overloading methods\n",
    "To overload a method you need to change either the number or type of the parameters (the arguments passed to the method). It's not enough to change to just change the return type. So the following would result in a compile error:\n",
    "<br>\n",
    "<br>`public int addNums(int a, int b) {`\n",
    "<br>&nbsp;&nbsp;&nbsp;&nbsp;`return (a + b);`\n",
    "<br>`}`\n",
    "<br>\n",
    "<br>`public float addNums(int a, int b) {`\n",
    "<br>&nbsp;&nbsp;&nbsp;&nbsp;`return (a + b);`\n",
    "<br>`}`"
   ]
  },
  {
   "cell_type": "code",
   "execution_count": 9,
   "id": "a778f5bd",
   "metadata": {},
   "outputs": [
    {
     "ename": "ERROR",
     "evalue": " java.lang.IllegalStateException",
     "output_type": "error",
     "traceback": [
      "\u001b[1;31mERROR: java.lang.IllegalStateException: method addNums(int,int) is already defined in class test.beaker.NumClass\u001b[0;0m",
      "\u001b[1;31m public float addNums(int a, int b) { return (a + b); }\u001b[0;0m",
      "\u001b[1;31m ^                                                     ^ \u001b[0;0m"
     ]
    }
   ],
   "source": [
    "package test.beaker;\n",
    "\n",
    "public class NumClass {\n",
    "    public int addNums(int a, int b) {\n",
    "    return (a + b);\n",
    "    }\n",
    "\n",
    "    public float addNums(int a, int b) {\n",
    "        return (a + b);\n",
    "    }\n",
    "}"
   ]
  },
  {
   "cell_type": "markdown",
   "id": "9c71dd50",
   "metadata": {},
   "source": [
    "## `compareTo()`\n",
    "The `.compareTo()` String method will compare two strings *lexicographically* __character-by-character__ based on the unicode code-point value of each character and return an `int` which is the difference between the strings. The comparison will be from the perspective of the string it is called on. So, in this example:\n",
    "<br>\n",
    "<br>`String strA = \"Hello\";`\n",
    "<br>`String strB = \"World\";`\n",
    "<br>`System.out.println(strA.compareTo(strB));`\n",
    "\n",
    "If `strA` has a higher code-point value the value printed will be a positive integer. If `strA` has a lower code-point value the value will be a negative integer. If both strings have the same value `0` will be printed."
   ]
  },
  {
   "cell_type": "code",
   "execution_count": 14,
   "id": "0bc32fb4",
   "metadata": {},
   "outputs": [
    {
     "name": "stdout",
     "output_type": "stream",
     "text": [
      "32\n"
     ]
    },
    {
     "data": {
      "text/plain": [
       "null"
      ]
     },
     "execution_count": 14,
     "metadata": {},
     "output_type": "execute_result"
    }
   ],
   "source": [
    "String firstString = \"hello World\";\n",
    "String secondString = \"Hello World\";\n",
    "System.out.println(firstString.compareTo(secondString));"
   ]
  },
  {
   "cell_type": "markdown",
   "id": "9d9717e2",
   "metadata": {},
   "source": [
    "## `System.out.format()`\n",
    "The `System.out.format()` functions virtually identical to `System.out.println()`"
   ]
  },
  {
   "cell_type": "code",
   "execution_count": 15,
   "id": "62f38f6d",
   "metadata": {},
   "outputs": [
    {
     "name": "stdout",
     "output_type": "stream",
     "text": [
      "Hello\n",
      "World"
     ]
    },
    {
     "data": {
      "text/plain": [
       "null"
      ]
     },
     "execution_count": 15,
     "metadata": {},
     "output_type": "execute_result"
    }
   ],
   "source": [
    "System.out.println(\"Hello\");\n",
    "System.out.format(\"World\");"
   ]
  },
  {
   "cell_type": "markdown",
   "id": "02a01fc0",
   "metadata": {},
   "source": [
    "## Any decimal not explicitly declared or casted as a `float` will be treated as a `double`\n",
    "Anytime you want to use a decimal number, you need to either explicitly cast it as a `float` or treat it as a `double`."
   ]
  },
  {
   "cell_type": "code",
   "execution_count": 32,
   "id": "8e81d73e",
   "metadata": {},
   "outputs": [
    {
     "data": {
      "text/plain": [
       "test.beaker.DecimalsTest"
      ]
     },
     "execution_count": 32,
     "metadata": {},
     "output_type": "execute_result"
    }
   ],
   "source": [
    "package test.beaker;\n",
    "\n",
    "public class DecimalsTest {\n",
    "    public void myFloats(float a, float b) {\n",
    "        System.out.println(a+b);\n",
    "    }\n",
    "}"
   ]
  },
  {
   "cell_type": "code",
   "execution_count": 36,
   "id": "a54318f6",
   "metadata": {},
   "outputs": [
    {
     "ename": "incompatible types",
     "evalue": " possible lossy conversion from double to float",
     "output_type": "error",
     "traceback": [
      "\u001b[1;31mincompatible types: possible lossy conversion from double to float\u001b[0;0m",
      "\u001b[1;31m failTest.myFloats(2.5,4.1)\u001b[0;0m",
      "\u001b[1;31m                   ^  ^      \u001b[0;0m",
      "\u001b[1;31m\u001b[0;0m",
      "\u001b[1;31mSome messages have been simplified; recompile with -Xdiags:verbose to get full output\u001b[0;0m"
     ]
    }
   ],
   "source": [
    "package test.beaker;\n",
    "\n",
    "DecimalsTest failTest = new DecimalsTest();\n",
    "\n",
    "failTest.myFloats(2.5,4.1); // will cause error as the decimals are assumed to be doubles unless declared/cast as floats"
   ]
  },
  {
   "cell_type": "code",
   "execution_count": 37,
   "id": "10c5c9c2",
   "metadata": {},
   "outputs": [
    {
     "name": "stdout",
     "output_type": "stream",
     "text": [
      "6.6\n"
     ]
    },
    {
     "data": {
      "text/plain": [
       "null"
      ]
     },
     "execution_count": 37,
     "metadata": {},
     "output_type": "execute_result"
    }
   ],
   "source": [
    "package test.beaker;\n",
    "\n",
    "DecimalsTest myTest = new DecimalsTest();\n",
    "\n",
    "myTest.myFloats(2.5f,4.1f); // will work since we've declared the numbers as floats using \"f\""
   ]
  },
  {
   "cell_type": "markdown",
   "id": "3f8b2141",
   "metadata": {},
   "source": [
    "## Declaring constructors\n",
    "If you declare a constructor in your class the default no-argument constructor is no longer implicitly declared by Java. This means that if you don't declare a no-argument version of your constructor then trying to instantiate an object from your class without passing any arguments will cause an error. This isn't necessarily undesirable behaviour, you may not want your constructor to accept a no-argument instantiation but is something to be aware of.\n",
    "\n",
    "Additionally, if you create a subclass which extends a class which has an overridden constructor (and doesn't declare a no-argument version of the constructor) you will need to override the default constructor in your subclass as the default constructor implicitly calls `super()` and since the superclass' default constructor was overridden there's no no-argument constructor to be executed leading to a compilation error."
   ]
  },
  {
   "cell_type": "markdown",
   "id": "df9de637",
   "metadata": {},
   "source": [
    "## Multiple `catch` statements\n",
    "If you have multiple `catch` statements you __MUST__ declare them in order from most specific/concrete to least specific/most abstract otherwise you will receive a compilation error. If you get a question with sample code that includes chained `catch` statements make sure to keep this in mind."
   ]
  },
  {
   "cell_type": "markdown",
   "id": "739d5399",
   "metadata": {},
   "source": [
    "## `try`/`finally` \n",
    "The following try/catch/finally combinations are all acceptable:\n",
    "<br>\n",
    "<br>`try {...} catch {...}`\n",
    "<br>`try {...} catch {...} finally {...}`\n",
    "<br>`try {...} finally {...}`"
   ]
  },
  {
   "cell_type": "code",
   "execution_count": 40,
   "id": "47889cf9",
   "metadata": {},
   "outputs": [
    {
     "name": "stdout",
     "output_type": "stream",
     "text": [
      "Hello\n",
      "World\n"
     ]
    },
    {
     "data": {
      "text/plain": [
       "null"
      ]
     },
     "execution_count": 40,
     "metadata": {},
     "output_type": "execute_result"
    }
   ],
   "source": [
    "try {\n",
    "    System.out.println(\"Hello\");\n",
    "}\n",
    "\n",
    "finally {\n",
    "    System.out.println(\"World\");\n",
    "}"
   ]
  },
  {
   "cell_type": "markdown",
   "id": "f5280a9e",
   "metadata": {},
   "source": [
    "## `Iterator` is an `interface`\n",
    "As `Iterator` is an `interface` it cannot be instantiated. To create an `Iterator` you must:\n",
    "1. import it from *java.util*\n",
    "<br>`import java.util.Iterator;`\n",
    "<br><br>\n",
    "2. declare a variable to hold it\n",
    "<br>`Iterator<String> myIter;`\n",
    "<br><br>\n",
    "3. assign a collection object's iterator method to it\n",
    "<br>`myIter = myArrayList.iterator();`\n",
    "<br><br>\n",
    "__NOTE__: Alternatively you can combine 2 & 3 above\n",
    "<br>`Iterator<String> myIter = myArrayList.iterator();`"
   ]
  },
  {
   "cell_type": "code",
   "execution_count": 1,
   "id": "f4b8e301",
   "metadata": {},
   "outputs": [
    {
     "name": "stdout",
     "output_type": "stream",
     "text": [
      "A\n",
      "B\n",
      "C\n"
     ]
    },
    {
     "data": {
      "text/plain": [
       "null"
      ]
     },
     "execution_count": 1,
     "metadata": {},
     "output_type": "execute_result"
    }
   ],
   "source": [
    "import java.util.Iterator;\n",
    "import java.util.ArrayList;\n",
    "\n",
    "ArrayList<String> myArrayList = new ArrayList<>();\n",
    "myArrayList.add(\"A\");\n",
    "myArrayList.add(\"B\");\n",
    "myArrayList.add(\"C\");\n",
    "Iterator<String> myIter;\n",
    "myIter = myArrayList.iterator();\n",
    "\n",
    "while (myIter.hasNext()) {\n",
    "    System.out.println(myIter.next());\n",
    "}"
   ]
  },
  {
   "cell_type": "markdown",
   "id": "12a7f480",
   "metadata": {},
   "source": [
    "## `IOException` is a *checked* exception\n",
    "`IOException` is a checked exception and thus must be handled or declared to avoid compilation errors."
   ]
  },
  {
   "cell_type": "markdown",
   "id": "767fbe65",
   "metadata": {},
   "source": [
    "## Declared exceptions must be handled or thrown by the calling method\n",
    "If you declare an exception in a method signature (e.g. `myMethod() throws Exception {}`) the exception will need to be caught or handled my the calling method even if you include a try/catch statement in the method throwing the exception. For example if we declare the following:\n",
    "<br>\n",
    "<br>`public void myMethod() throws Exception {`\n",
    "<br>&nbsp;&nbsp;&nbsp;&nbsp;`try {...}`\n",
    "<br>&nbsp;&nbsp;&nbsp;&nbsp;`catch(Exception e) {`\n",
    "<br>&nbsp;&nbsp;&nbsp;&nbsp;&nbsp;&nbsp;&nbsp;&nbsp;`System.out.println(e);`\n",
    "<br>&nbsp;&nbsp;&nbsp;&nbsp;`}`\n",
    "<br>`}`\n",
    "\n",
    "Even thought we've included a try/catch here we will need to either handle or declare the exception wherever this method is called because we've explicitly stated that *myMethod* will throw its exception."
   ]
  },
  {
   "cell_type": "markdown",
   "id": "4e8e938c",
   "metadata": {},
   "source": [
    "## It's permitted to instantiate objects without assigning to a variable\n",
    "An object doesn't necessarily need to be assigned to a variable in order to be instantiated. For example, lets say you have a class with several static variables keeping track of how many objects are instantiated and you then instantiate several objects using only `new Objectname();`, those instantiations will still be counted by the static variable even though you haven't assigned them to a variable and thus can't do anything further with them."
   ]
  },
  {
   "cell_type": "code",
   "execution_count": 4,
   "id": "432493ad",
   "metadata": {},
   "outputs": [
    {
     "data": {
      "text/plain": [
       "test.beaker.ClsWithObjectCounter"
      ]
     },
     "execution_count": 4,
     "metadata": {},
     "output_type": "execute_result"
    }
   ],
   "source": [
    "// beaker test pkg\n",
    "package test.beaker;\n",
    "\n",
    "// create class\n",
    "public class ClsWithObjectCounter {\n",
    "    // private class var\n",
    "    private static int numObjCreated;\n",
    "    \n",
    "    // constructor\n",
    "    public ClsWithObjectCounter() {\n",
    "        numObjCreated++; // increment static var\n",
    "    }\n",
    "    \n",
    "    // getter method\n",
    "    public static int getNumObjCreated() {\n",
    "        return numObjCreated;\n",
    "    }\n",
    "}"
   ]
  },
  {
   "cell_type": "code",
   "execution_count": 5,
   "id": "3c66c5d9",
   "metadata": {},
   "outputs": [
    {
     "name": "stdout",
     "output_type": "stream",
     "text": [
      "2\n"
     ]
    },
    {
     "data": {
      "text/plain": [
       "null"
      ]
     },
     "execution_count": 5,
     "metadata": {},
     "output_type": "execute_result"
    }
   ],
   "source": [
    "// beaker test pkg\n",
    "package test.beaker;\n",
    "\n",
    "// instantiate some objects without assigning to variables\n",
    "new ClsWithObjectCounter();\n",
    "new ClsWithObjectCounter();\n",
    "\n",
    "// print the number of objects instantiated\n",
    "System.out.println(ClsWithObjectCounter.getNumObjCreated());"
   ]
  },
  {
   "cell_type": "markdown",
   "id": "b223ea36",
   "metadata": {},
   "source": [
    "## non \"type-safe\" ArrayList can store any object reference\n",
    "Declaring an ArrayList as type-safe using `<Type>` is the recommended practice, however, Java will not prevent you from declaring an ArrayList without this. If you create an ArrayList that isn't type-save you can store any object reference in it."
   ]
  },
  {
   "cell_type": "code",
   "execution_count": 11,
   "id": "5bad35a3",
   "metadata": {},
   "outputs": [
    {
     "data": {
      "text/plain": [
       "test.beaker.Scooter"
      ]
     },
     "execution_count": 11,
     "metadata": {},
     "output_type": "execute_result"
    }
   ],
   "source": [
    "// beakerx test pkg\n",
    "package test.beaker;\n",
    "\n",
    "// create an arbitrary class to use\n",
    "class Scooter {}"
   ]
  },
  {
   "cell_type": "code",
   "execution_count": 13,
   "id": "2c61dc85",
   "metadata": {},
   "outputs": [
    {
     "ename": "no suitable method found for add(test.beaker.Scooter)",
     "evalue": "no suitable method found for add(test.beaker.Scooter)",
     "output_type": "error",
     "traceback": [
      "\u001b[1;31mno suitable method found for add(test.beaker.Scooter)\u001b[0;0m",
      "\u001b[1;31m    method java.util.Collection.add(java.lang.String) is not applicable\u001b[0;0m",
      "\u001b[1;31m      (argument mismatch; test.beaker.Scooter cannot be converted to java.lang.String)\u001b[0;0m",
      "\u001b[1;31m    method java.util.List.add(java.lang.String) is not applicable\u001b[0;0m",
      "\u001b[1;31m      (argument mismatch; test.beaker.Scooter cannot be converted to java.lang.String)\u001b[0;0m",
      "\u001b[1;31m    method java.util.AbstractCollection.add(java.lang.String) is not applicable\u001b[0;0m",
      "\u001b[1;31m      (argument mismatch; test.beaker.Scooter cannot be converted to java.lang.String)\u001b[0;0m",
      "\u001b[1;31m    method java.util.AbstractList.add(java.lang.String) is not applicable\u001b[0;0m",
      "\u001b[1;31m      (argument mismatch; test.beaker.Scooter cannot be converted to java.lang.String)\u001b[0;0m",
      "\u001b[1;31m    method java.util.ArrayList.add(java.lang.String) is not applicable\u001b[0;0m",
      "\u001b[1;31m      (argument mismatch; test.beaker.Scooter cannot be converted to java.lang.String)\u001b[0;0m",
      "\u001b[1;31m myStringAL.add(new Scooter())\u001b[0;0m",
      "\u001b[1;31m ^             ^                \u001b[0;0m",
      "\u001b[1;31m\u001b[0;0m",
      "\u001b[1;31mSome messages have been simplified; recompile with -Xdiags:verbose to get full output\u001b[0;0m"
     ]
    }
   ],
   "source": [
    "// beakerx test pkg\n",
    "package test.beaker;\n",
    "\n",
    "// import ArrayList\n",
    "import java.util.ArrayList;\n",
    "\n",
    "// create an ArrayList type-safe as Strings only\n",
    "ArrayList<String> myStringAL = new ArrayList<>();\n",
    "myStringAL.add(\"Hello\");\n",
    "myStringAL.add(new String(\"World\"));\n",
    "myStringAL.add(new Scooter()); // this will cause an error as we declared myStringAL to be String objects only\n",
    "System.out.println(myStringAL);"
   ]
  },
  {
   "cell_type": "code",
   "execution_count": 14,
   "id": "360b4e6d",
   "metadata": {},
   "outputs": [
    {
     "name": "stdout",
     "output_type": "stream",
     "text": [
      "[Hello, World, test.beaker.Scooter@5aace2fd]\n"
     ]
    },
    {
     "data": {
      "text/plain": [
       "null"
      ]
     },
     "execution_count": 14,
     "metadata": {},
     "output_type": "execute_result"
    }
   ],
   "source": [
    "// beakerx test pkg\n",
    "package test.beaker;\n",
    "\n",
    "// import ArrayList\n",
    "import java.util.ArrayList;\n",
    "\n",
    "// create an ArrayList without declaring object type\n",
    "ArrayList myUnsafeAL = new ArrayList();\n",
    "myUnsafeAL.add(\"Hello\");\n",
    "myUnsafeAL.add(new String(\"World\"));\n",
    "myUnsafeAL.add(new Scooter()); // this will work as the un-safe ArrayList will take ANY object reference\n",
    "System.out.println(myUnsafeAL);"
   ]
  },
  {
   "cell_type": "markdown",
   "id": "c07a1d24",
   "metadata": {},
   "source": [
    "## The `%f` placeholder of `printf`/`format` can round decimals\n",
    "If you specify the number of decimal places to be used in the `%f` placeholder within a `printf` or `format` the decimal will be rounded as needed.\n",
    "\n",
    "__NOTE__: standard rounding rules apply (i.e. decimals of `.5` and above round UP, so `3.500` rounds UP to `4`)"
   ]
  },
  {
   "cell_type": "code",
   "execution_count": 29,
   "id": "eae3e607",
   "metadata": {},
   "outputs": [
    {
     "name": "stdout",
     "output_type": "stream",
     "text": [
      "My float is 12.435000\n",
      "My rounded floar is 12.44\n"
     ]
    },
    {
     "data": {
      "text/plain": [
       "null"
      ]
     },
     "execution_count": 29,
     "metadata": {},
     "output_type": "execute_result"
    }
   ],
   "source": [
    "float myFloat = 12.435f;\n",
    "System.out.format(\"My float is %f%n\", myFloat); // no decimal spaces specified so full float will print\n",
    "System.out.printf(\"My rounded floar is %.2f%n\", myFloat); // rounded to 2 decimal places"
   ]
  },
  {
   "cell_type": "markdown",
   "id": "b7f89ab8",
   "metadata": {},
   "source": [
    "## Incorrectly overloaded methods will fail at compilation\n",
    "If a method is incorrectly overloaded, the program will fail to compile (i.e. the program won't compile and then fail at runtime)."
   ]
  },
  {
   "cell_type": "code",
   "execution_count": 30,
   "id": "394202f5",
   "metadata": {},
   "outputs": [
    {
     "ename": "ERROR",
     "evalue": " java.lang.IllegalStateException",
     "output_type": "error",
     "traceback": [
      "\u001b[1;31mERROR: java.lang.IllegalStateException: method printStuff() is already defined in class test.beaker.MyNewClass\u001b[0;0m",
      "\u001b[1;31m public String printStuff() { return \"Stuff\"; }\u001b[0;0m",
      "\u001b[1;31m ^                                             ^ \u001b[0;0m"
     ]
    }
   ],
   "source": [
    "// beakerx test pkg\n",
    "package test.beaker;\n",
    "\n",
    "// create a class\n",
    "class MyNewClass {\n",
    "    public void printStuff() {\n",
    "        System.out.println(\"Stuff\");\n",
    "    }\n",
    "    \n",
    "    public String printStuff() { // incorrecty overloaded as changing return type only isn't sufficient, type/number of parameters needs to change also\n",
    "        return \"Stuff\";\n",
    "    }\n",
    "}"
   ]
  },
  {
   "cell_type": "markdown",
   "id": "d4264081",
   "metadata": {},
   "source": [
    "## You can't declare `private` *local* variables\n",
    "The `private` access modifier can only be used when declaring class/object variables __NOT__ local (e.g. method) variables."
   ]
  },
  {
   "cell_type": "code",
   "execution_count": 36,
   "id": "f95456fd",
   "metadata": {},
   "outputs": [
    {
     "data": {
      "text/plain": [
       "test.beaker.AccessTest"
      ]
     },
     "execution_count": 36,
     "metadata": {},
     "output_type": "execute_result"
    }
   ],
   "source": [
    "// beakerx test pkg\n",
    "package test.beaker;\n",
    "\n",
    "// create class with private var\n",
    "public class AccessTest {\n",
    "    private boolean secretVar = true; // will work as this is a class var\n",
    "}"
   ]
  },
  {
   "cell_type": "code",
   "execution_count": 37,
   "id": "8ed297e2",
   "metadata": {},
   "outputs": [
    {
     "ename": "ERROR",
     "evalue": " java.lang.IllegalStateException",
     "output_type": "error",
     "traceback": [
      "\u001b[1;31mERROR: java.lang.IllegalStateException: illegal start of expression\u001b[0;0m",
      "\u001b[1;31m private boolean secretVar = tr\u001b[0;0m",
      "\u001b[1;31m ^                              \u001b[0;0m"
     ]
    }
   ],
   "source": [
    "// beakerx test pkg\n",
    "package test.beakerx;\n",
    "\n",
    "// extend the AccessTest class and add a method with a private local var\n",
    "public class ExtraAccess extends AccessTest {\n",
    "    public void thingPrinter() {\n",
    "        private boolean secretVar = true; // will caues an error\n",
    "        System.out.println(secretVar);\n",
    "    }\n",
    "}"
   ]
  },
  {
   "cell_type": "markdown",
   "id": "9fea0ad0",
   "metadata": {},
   "source": [
    "## A non-static method __CANNOT__ be called from a static context\n",
    "Variables/methods declared as `static` can be called without instantiating an object. Non-static variables/methods (any var or method that isn't explicitly declared as `static`) can only be called from an instantiated object.\n",
    "\n",
    "For example, if we have a TextObject class with a printString method declared like this:\n",
    "<br>\n",
    "<br>`public class TextObject {`\n",
    "<br>&nbsp;&nbsp;&nbsp;&nbsp;`public void printString(String foo) {`\n",
    "<br>&nbsp;&nbsp;&nbsp;&nbsp;&nbsp;&nbsp;&nbsp;&nbsp;`System.out.println(foo);`\n",
    "<br>&nbsp;&nbsp;&nbsp;&nbsp;`}`\n",
    "\n",
    "We cannot call that method without instantiating an object, for example trying to call it from a main method like this:\n",
    "<br>\n",
    "<br>`public static void main (String [] args) {`\n",
    "<br>&nbsp;&nbsp;&nbsp;&nbsp;`printString(\"Hello\");`\n",
    "<br>&nbsp;&nbsp;&nbsp;&nbsp;`}`"
   ]
  },
  {
   "cell_type": "code",
   "execution_count": 48,
   "id": "1c1ceb78",
   "metadata": {},
   "outputs": [
    {
     "ename": "ERROR",
     "evalue": " java.lang.IllegalStateException",
     "output_type": "error",
     "traceback": [
      "\u001b[1;31mERROR: java.lang.IllegalStateException: non-static method test() cannot be referenced from a static context\u001b[0;0m",
      "\u001b[1;31m test()\u001b[0;0m",
      "\u001b[1;31m ^   ^   \u001b[0;0m"
     ]
    }
   ],
   "source": [
    "// create a class\n",
    "public class MyTest {\n",
    "    \n",
    "    // non-static \"test\" method\n",
    "    public void test() {\n",
    "        return;\n",
    "    }\n",
    "    \n",
    "    // call method from the static main method\n",
    "    public static void main (String [] args) {\n",
    "        test();\n",
    "    }\n",
    "}"
   ]
  },
  {
   "cell_type": "markdown",
   "id": "ad2b6b83",
   "metadata": {},
   "source": [
    "## Declaring a seed value when instantiating `Random()` object\n",
    "You can set a seed value by passing a `long` value it to the `Random()` constructor when instantiating a `Random` object:\n",
    "<br>\n",
    "<br>`Random randNum = new Random(45);`\n",
    "\n",
    "As with setting a seed in Random using other methods, this will cause the same \"random\" values to be produced when run on the same computer with the same seed value."
   ]
  },
  {
   "cell_type": "code",
   "execution_count": 10,
   "id": "11977935",
   "metadata": {},
   "outputs": [
    {
     "data": {
      "text/plain": [
       "null"
      ]
     },
     "execution_count": 10,
     "metadata": {},
     "output_type": "execute_result"
    }
   ],
   "source": [
    "// import random\n",
    "import java.util.Random;\n",
    "\n",
    "Random randNum = new Random(4);"
   ]
  },
  {
   "cell_type": "markdown",
   "id": "9e06ce55",
   "metadata": {},
   "source": [
    "## Random's `nextInt()` method\n",
    "If you pass an integer value to the `nextInt()` method from the `Random` class, the method will return a pseudo-random integer between 0 and the int you pass."
   ]
  },
  {
   "cell_type": "code",
   "execution_count": 12,
   "id": "b93b8240",
   "metadata": {},
   "outputs": [
    {
     "name": "stdout",
     "output_type": "stream",
     "text": [
      "2\n",
      "3\n",
      "4\n"
     ]
    },
    {
     "data": {
      "text/plain": [
       "null"
      ]
     },
     "execution_count": 12,
     "metadata": {},
     "output_type": "execute_result"
    }
   ],
   "source": [
    "java.util.Random randoNo = new java.util.Random();\n",
    "\n",
    "System.out.println(randoNo.nextInt(3)); // returns random number from 0-2 (inclusive)\n",
    "System.out.println(randoNo.nextInt(4)); // returns random no from 0-3\n",
    "System.out.println(randoNo.nextInt(5)); // returns random no from 0-4"
   ]
  },
  {
   "cell_type": "markdown",
   "id": "dc7a6551",
   "metadata": {},
   "source": [
    "## Be mindful of loop index values\n",
    "Be careful when answering questions that have an Array being accessed by a loop index. If the loop index exceeds the length of the Array being looped through you will receive a Runtime Exception (`ArrayIndexOutOfBoundsException`)."
   ]
  },
  {
   "cell_type": "code",
   "execution_count": 13,
   "id": "5286f965",
   "metadata": {},
   "outputs": [
    {
     "name": "stdout",
     "output_type": "stream",
     "text": [
      "Hello\n",
      "World\n",
      "!\n"
     ]
    },
    {
     "ename": "ERROR",
     "evalue": " java.lang.ArrayIndexOutOfBoundsException",
     "output_type": "error",
     "traceback": [
      "\u001b[1;31mERROR: java.lang.ArrayIndexOutOfBoundsException: 3\u001b[0;0m"
     ]
    }
   ],
   "source": [
    "String [] myArray = new String[3];\n",
    "myArray[0] = \"Hello\"; // index 0\n",
    "myArray[1] = \"World\"; // index 1\n",
    "myArray[2] = \"!\"; // index 2\n",
    "\n",
    "for (int i=0; i<=myArray.length; i++) { // loop has 3 items but they're zero indexed: 0, 1, 2\n",
    "    System.out.println(myArray[i]); // will print the Array items and then throw an exception\n",
    "}"
   ]
  },
  {
   "cell_type": "markdown",
   "id": "2509adb1",
   "metadata": {},
   "source": [
    "## Java Versions\n",
    "- Java SE: used to develop web browser applets and applications that run on servers & desktop computers\n",
    "- Java EE: extends Java SE and is used to develop large client-side, distributed applications (e.g. online stores etc)\n",
    "- Java ME: used to develop appls for \"resource constrained\" devices such as mobile phones\n",
    "- Java Card: smart cards, sim cards"
   ]
  },
  {
   "cell_type": "markdown",
   "id": "bfd72fef",
   "metadata": {},
   "source": [
    "## `Math.round()` rounds to the nearest `int`\n",
    "The `Math.round()` function returns the closest `int` (whole number)."
   ]
  },
  {
   "cell_type": "code",
   "execution_count": 15,
   "id": "64d0022f",
   "metadata": {},
   "outputs": [
    {
     "name": "stdout",
     "output_type": "stream",
     "text": [
      "5\n",
      "99\n",
      "16\n",
      "246\n"
     ]
    },
    {
     "data": {
      "text/plain": [
       "null"
      ]
     },
     "execution_count": 15,
     "metadata": {},
     "output_type": "execute_result"
    }
   ],
   "source": [
    "float numOne = 4.7f;\n",
    "float numTwo = 99.32f;\n",
    "float numThree = 15.5f;\n",
    "float numFour = 245.86f;\n",
    "\n",
    "System.out.println(Math.round(numOne));\n",
    "System.out.println(Math.round(numTwo));\n",
    "System.out.println(Math.round(numThree));\n",
    "System.out.println(Math.round(numFour));"
   ]
  },
  {
   "cell_type": "markdown",
   "id": "a1edac6b",
   "metadata": {},
   "source": [
    "## Declaring multiple variables of same type on one line\n",
    "You can declare multiple variables *of the same type* on a single line by separating the assignments with commas:"
   ]
  },
  {
   "cell_type": "code",
   "execution_count": 18,
   "id": "bc29fe1e",
   "metadata": {},
   "outputs": [
    {
     "name": "stdout",
     "output_type": "stream",
     "text": [
      "X is 1\n",
      "Y is 2\n",
      "Z is 3"
     ]
    },
    {
     "data": {
      "text/plain": [
       "null"
      ]
     },
     "execution_count": 18,
     "metadata": {},
     "output_type": "execute_result"
    }
   ],
   "source": [
    "int x=1, y=2, z=3;\n",
    "\n",
    "System.out.printf(\"X is %d%nY is %d%nZ is %d\", x, y, z);"
   ]
  },
  {
   "cell_type": "markdown",
   "id": "224052fb",
   "metadata": {},
   "source": [
    "## Compile error for un-initialized variables\n",
    "If you declare a variable without assigning a value and try to assign the value within a loop, you'll receive an error if the loop has a chance of not executing the assignation code. The only exception is if the loop will always execute (e.g. `if(true)...` or a `do`/`while` loop)."
   ]
  },
  {
   "cell_type": "code",
   "execution_count": 23,
   "id": "584f59d4",
   "metadata": {},
   "outputs": [
    {
     "ename": "variable c might not have been initialized",
     "evalue": "variable c might not have been initialized",
     "output_type": "error",
     "traceback": [
      "\u001b[1;31mvariable c might not have been initialized\u001b[0;0m",
      "\u001b[1;31m System.out.printf(\"C is %d\", c)\u001b[0;0m",
      "\u001b[1;31m                              ^^  \u001b[0;0m"
     ]
    }
   ],
   "source": [
    "int a = 1;\n",
    "int b = 2;\n",
    "int c;\n",
    "\n",
    "if(b>a){\n",
    "    c = b;\n",
    "}\n",
    "System.out.printf(\"C is %d\", c);"
   ]
  },
  {
   "cell_type": "markdown",
   "id": "990c8d26",
   "metadata": {},
   "source": [
    "## Unchecked exceptions do not need to be handled or declared\n",
    "Even if you declare `throws Exception` in a method signature, if the exception is __unchecked__ you won't be forced to handle/declare it."
   ]
  },
  {
   "cell_type": "code",
   "execution_count": 26,
   "id": "76160748",
   "metadata": {},
   "outputs": [
    {
     "data": {
      "text/plain": [
       "test.beaker.MyExThrower"
      ]
     },
     "execution_count": 26,
     "metadata": {},
     "output_type": "execute_result"
    }
   ],
   "source": [
    "// beaker test pkg\n",
    "package test.beaker;\n",
    "\n",
    "public class MyExThrower {\n",
    "    public void methodA() throws ArrayIndexOutOfBoundsException{}\n",
    "}"
   ]
  },
  {
   "cell_type": "code",
   "execution_count": 27,
   "id": "61932578",
   "metadata": {},
   "outputs": [
    {
     "data": {
      "text/plain": [
       "null"
      ]
     },
     "execution_count": 27,
     "metadata": {},
     "output_type": "execute_result"
    }
   ],
   "source": [
    "// beaker test pkg\n",
    "package test.beaker;\n",
    "\n",
    "MyExThrower myObj = new MyExThrower();\n",
    "myObj.methodA();"
   ]
  },
  {
   "cell_type": "markdown",
   "id": "2eff9f92",
   "metadata": {},
   "source": [
    "## Instance variables get default values\n",
    "In Java, instance variables automatically get default values. The default values are:\n",
    "\n",
    "Type|Default value\n",
    ":--|:--\n",
    "`int`|`0`\n",
    "`String`|`null`\n",
    "`float`|`0.0`\n",
    "`byte`|`0`\n",
    "`double`|`0.00`\n",
    "`char`|`\\u0000` (unicode codepoint for null)\n",
    "`boolean`|`false`"
   ]
  },
  {
   "cell_type": "code",
   "execution_count": 26,
   "id": "3cb7340c",
   "metadata": {},
   "outputs": [
    {
     "data": {
      "text/plain": [
       "test.beaker.DefaultClass"
      ]
     },
     "execution_count": 26,
     "metadata": {},
     "output_type": "execute_result"
    }
   ],
   "source": [
    "package test.beaker;\n",
    "\n",
    "public class DefaultClass {\n",
    "    int a;\n",
    "    String b;\n",
    "    float c;\n",
    "    byte d;\n",
    "    double e;\n",
    "    char f;\n",
    "    boolean g;\n",
    "    \n",
    "    public void printVars() {\n",
    "        System.out.printf(\"a is %d%n\",a);\n",
    "        System.out.printf(\"b is %s%n\",b);\n",
    "        System.out.printf(\"c is %.2f%n\",c);\n",
    "        System.out.printf(\"d is %d%n\",d);\n",
    "        System.out.printf(\"e is %.2f%n\",e);\n",
    "        System.out.printf(\"f is %c%n\",f);\n",
    "        System.out.printf(\"g is %b%n\",g);\n",
    "    }\n",
    "}"
   ]
  },
  {
   "cell_type": "code",
   "execution_count": 27,
   "id": "8b792f02",
   "metadata": {},
   "outputs": [
    {
     "name": "stdout",
     "output_type": "stream",
     "text": [
      "a is 0\n",
      "b is null\n",
      "c is 0.00\n",
      "d is 0\n",
      "e is 0.00\n",
      "f is \u0000\n",
      "g is false\n"
     ]
    },
    {
     "data": {
      "text/plain": [
       "null"
      ]
     },
     "execution_count": 27,
     "metadata": {},
     "output_type": "execute_result"
    }
   ],
   "source": [
    "package test.beaker;\n",
    "\n",
    "DefaultClass defObj = new DefaultClass();\n",
    "defObj.printVars();"
   ]
  },
  {
   "cell_type": "markdown",
   "id": "ed259ce8",
   "metadata": {},
   "source": [
    "## Local variables DO NOT get default values\n",
    "Unlike instance variables, local variables do not get default values. So, trying to access or print an unassigned local variable will result in a compilation error (`<var> may not have been initialized`)."
   ]
  },
  {
   "cell_type": "code",
   "execution_count": 28,
   "id": "ce4b2a86",
   "metadata": {},
   "outputs": [
    {
     "ename": "variable j might not have been initialized",
     "evalue": "variable j might not have been initialized",
     "output_type": "error",
     "traceback": [
      "\u001b[1;31mvariable j might not have been initialized\u001b[0;0m",
      "\u001b[1;31m System.out.println(j)\u001b[0;0m",
      "\u001b[1;31m                    ^^  \u001b[0;0m"
     ]
    }
   ],
   "source": [
    "int j;\n",
    "System.out.println(j);"
   ]
  },
  {
   "cell_type": "markdown",
   "id": "783c62b0",
   "metadata": {},
   "source": [
    "## The value of an unsuccessful modulus operation is the original value of the dividend\n",
    "When using the modulo/modulus operator (`%`) if the division isn't possible (e.g. 4%5, where 4 is the *dividend* and 5 is the *divisor*) the value is the the dividend not the divisor. So, `4%5` evaluates to `4`."
   ]
  },
  {
   "cell_type": "code",
   "execution_count": 29,
   "id": "8e9af894",
   "metadata": {},
   "outputs": [
    {
     "name": "stdout",
     "output_type": "stream",
     "text": [
      "4\n"
     ]
    },
    {
     "data": {
      "text/plain": [
       "null"
      ]
     },
     "execution_count": 29,
     "metadata": {},
     "output_type": "execute_result"
    }
   ],
   "source": [
    "int a = 4;\n",
    "int b = 5;\n",
    "System.out.println(a%b);"
   ]
  },
  {
   "cell_type": "markdown",
   "id": "73e17c8a",
   "metadata": {},
   "source": [
    "## Creating a new string from the full substring of an existing string\n",
    "As we know, creating a string in Java places the string value into a pool and any further string literal creations are first checked against the pool to see if it already exists. If you try to create a new string using the `substring` method but passing the full string (i.e. the first and last indices) the pool comparison will still be done and you will have two variables pointing to the same memory address."
   ]
  },
  {
   "cell_type": "code",
   "execution_count": 31,
   "id": "62515353",
   "metadata": {},
   "outputs": [
    {
     "name": "stdout",
     "output_type": "stream",
     "text": [
      "true\n"
     ]
    },
    {
     "data": {
      "text/plain": [
       "null"
      ]
     },
     "execution_count": 31,
     "metadata": {},
     "output_type": "execute_result"
    }
   ],
   "source": [
    "String myString = \"Hello\";\n",
    "String yourString = myString.substring(0,5); // assign the full string Hello using substring method\n",
    "System.out.println(myString == yourString); // compare memory addresses using =="
   ]
  },
  {
   "cell_type": "markdown",
   "id": "2b964714",
   "metadata": {},
   "source": [
    "## Enhanced For loop works on normal arrays also\n",
    "The *enhanced for loop* can also be used on normal arrays not just ArrayLists."
   ]
  },
  {
   "cell_type": "code",
   "execution_count": 32,
   "id": "baf0d916",
   "metadata": {},
   "outputs": [
    {
     "name": "stdout",
     "output_type": "stream",
     "text": [
      "1\n",
      "2\n",
      "3\n",
      "4\n"
     ]
    },
    {
     "data": {
      "text/plain": [
       "null"
      ]
     },
     "execution_count": 32,
     "metadata": {},
     "output_type": "execute_result"
    }
   ],
   "source": [
    "int [] myInts = new int[] {1,2,3,4};\n",
    "for (int i: myInts) {\n",
    "    System.out.println(i);\n",
    "}"
   ]
  },
  {
   "cell_type": "markdown",
   "id": "bb2ca7ca",
   "metadata": {},
   "source": [
    "## Java Web Start (JWS)\n",
    "__Java Web Start (JWS)__ is a technology that allows you to deploy a desktop Java application directly from a web page."
   ]
  },
  {
   "cell_type": "code",
   "execution_count": null,
   "id": "359e3a58",
   "metadata": {},
   "outputs": [],
   "source": []
  }
 ],
 "metadata": {
  "kernelspec": {
   "display_name": "Java",
   "language": "java",
   "name": "java"
  },
  "language_info": {
   "codemirror_mode": "text/x-java",
   "file_extension": ".java",
   "mimetype": "",
   "name": "Java",
   "nbconverter_exporter": "",
   "version": "1.8.0_121"
  },
  "toc": {
   "base_numbering": 1,
   "nav_menu": {},
   "number_sections": false,
   "sideBar": false,
   "skip_h1_title": false,
   "title_cell": "Table of Contents",
   "title_sidebar": "Contents",
   "toc_cell": false,
   "toc_position": {},
   "toc_section_display": false,
   "toc_window_display": false
  }
 },
 "nbformat": 4,
 "nbformat_minor": 5
}
