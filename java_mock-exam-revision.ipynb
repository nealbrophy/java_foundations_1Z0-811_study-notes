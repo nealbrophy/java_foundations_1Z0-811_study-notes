{
 "cells": [
  {
   "cell_type": "markdown",
   "id": "44666fed",
   "metadata": {},
   "source": [
    "# Java Mock-Exam Revision"
   ]
  },
  {
   "cell_type": "markdown",
   "id": "268f1a20",
   "metadata": {},
   "source": [
    "## Import statements in exam questions\n",
    "According to the Oracle website: *if sample code do not include package or import statements and the question doesn't explicitly refer to these missing statements, then assume that all sample code is in the same package or import statements exist to support them*. __However__, in several mock tests assuming import statements were present resulted in incorrect answers. So, it would seem that the the advice isn't always applicable. Upon querying it with eCollege instructors I received the following feedback:\n",
    "- *In the Oracle exam, they won't try and trick you regarding missing import statements. If the question is testing you about imports statements, the point will be clearly made. The key is to watch out for line numbers. If you can clearly see Line 1 marked in the program, you know that there are no previous lines.*\n",
    "- If there are no line numbers...*We don't know what statements there are on Lines 1-3. In the question, unless told to the contrary, we have to then assume that the import statements are present on Lines 1-3.*"
   ]
  },
  {
   "cell_type": "markdown",
   "id": "1d498ee5",
   "metadata": {},
   "source": [
    "## `Iterator`\n",
    "The `Iterator` class is in the `java.util` package and allows for the creation of an iterator object."
   ]
  },
  {
   "cell_type": "markdown",
   "id": "228f312b",
   "metadata": {},
   "source": [
    "## `Random`\n",
    "The `Random` class is in the `java.util` package and allows for the creation of pseudo-random numbers.\n",
    "\n",
    "If you pass a *seed* value to the `Random` constructor, the `nextInt()` method will consistently return the same sequence of `int` values. Passing an `int` argument to the `nextInt()` method will return a random number up to but not including the number you passed."
   ]
  },
  {
   "cell_type": "markdown",
   "id": "9442a8bd",
   "metadata": {},
   "source": [
    "## `substring()`\n",
    "The first argument passed to the `substring()` method is a __zero-based__ index but the second argument passed is __one-based__ *AND* __inclusive__. So `substring(1,10)` defines the target as starting at the second index and ending at the tenth. \n",
    "\n",
    "__NOTE:__ The value of `substring` isn't stored in memory unless assigned to a variable."
   ]
  },
  {
   "cell_type": "code",
   "execution_count": 4,
   "id": "dffca4fe",
   "metadata": {},
   "outputs": [
    {
     "name": "stdout",
     "output_type": "stream",
     "text": [
      "The char at zero-based index 1 is \"e\"\n",
      "The char at zero-based index 10 is \"d\"\n",
      "The substring starting at zero-based index 1 and ending at ONE-based index 10 is \"ello Worl\"\n"
     ]
    },
    {
     "data": {
      "text/plain": [
       "null"
      ]
     },
     "execution_count": 4,
     "metadata": {},
     "output_type": "execute_result"
    }
   ],
   "source": [
    "String myLongString = \"Hello World!\";\n",
    "String myShortString = myLongString.substring(1,10);\n",
    "char startIndex = myLongString.charAt(1);\n",
    "char endIndex = myLongString.charAt(10);\n",
    "System.out.printf(\"The char at zero-based index 1 is \\\"%s\\\"%nThe char at zero-based index 10 is \\\"%s\\\"%nThe substring starting at zero-based index 1 and ending at ONE-based index 10 is \\\"%s\\\"%n\", \n",
    "                  startIndex, \n",
    "                  endIndex, \n",
    "                  myShortString);"
   ]
  },
  {
   "cell_type": "markdown",
   "id": "f38f13ff",
   "metadata": {},
   "source": [
    "## `switch` statement's `default` argument\n",
    "A `switch` statement's `default` label can be placed anywhere (i.e. it doesn't need to be the last option in a `switch`) and will only be selected if the rest of the `case` branches aren't selected. *However*, the rule regarding `break` still applies; so if you don't include the `break` keyword within your default branch any other outputs below will be executed until the next `break` or the end of the switch statement is reached."
   ]
  },
  {
   "cell_type": "code",
   "execution_count": 7,
   "id": "a17c9d0d",
   "metadata": {},
   "outputs": [
    {
     "name": "stdout",
     "output_type": "stream",
     "text": [
      "The word is \"Rest\"\n"
     ]
    },
    {
     "data": {
      "text/plain": [
       "null"
      ]
     },
     "execution_count": 7,
     "metadata": {},
     "output_type": "execute_result"
    }
   ],
   "source": [
    "String myString = \"Rest\";\n",
    "switch (myString) {\n",
    "    default:\n",
    "        System.out.println(\"None of the words have been found\");\n",
    "    case \"Best\":\n",
    "        System.out.println(\"The word is \\\"Best\\\"\");\n",
    "        break;\n",
    "    case \"Rest\":\n",
    "        System.out.println(\"The word is \\\"Rest\\\"\");\n",
    "        break;\n",
    "    case \"Nest\":\n",
    "        System.out.println(\"The word is \\\"Test\\\"\");\n",
    "        break;\n",
    "}"
   ]
  },
  {
   "cell_type": "markdown",
   "id": "55e46ba6",
   "metadata": {},
   "source": [
    "## Overloading methods\n",
    "To overload a method you need to change either the number or type of the parameters (the arguments passed to the method). It's not enough to change to just change the return type. So the following would result in a compile error:\n",
    "<br>\n",
    "<br>`public int addNums(int a, int b) {`\n",
    "<br>&nbsp;&nbsp;&nbsp;&nbsp;`return (a + b);`\n",
    "<br>`}`\n",
    "<br>\n",
    "<br>`public float addNums(int a, int b) {`\n",
    "<br>&nbsp;&nbsp;&nbsp;&nbsp;`return (a + b);`\n",
    "<br>`}`"
   ]
  },
  {
   "cell_type": "code",
   "execution_count": 9,
   "id": "a778f5bd",
   "metadata": {},
   "outputs": [
    {
     "ename": "ERROR",
     "evalue": " java.lang.IllegalStateException",
     "output_type": "error",
     "traceback": [
      "\u001b[1;31mERROR: java.lang.IllegalStateException: method addNums(int,int) is already defined in class test.beaker.NumClass\u001b[0;0m",
      "\u001b[1;31m public float addNums(int a, int b) { return (a + b); }\u001b[0;0m",
      "\u001b[1;31m ^                                                     ^ \u001b[0;0m"
     ]
    }
   ],
   "source": [
    "package test.beaker;\n",
    "\n",
    "public class NumClass {\n",
    "    public int addNums(int a, int b) {\n",
    "    return (a + b);\n",
    "    }\n",
    "\n",
    "    public float addNums(int a, int b) {\n",
    "        return (a + b);\n",
    "    }\n",
    "}"
   ]
  },
  {
   "cell_type": "markdown",
   "id": "9c71dd50",
   "metadata": {},
   "source": [
    "## `compareTo()`\n",
    "The `.compareTo()` String method will compare two strings *lexicographically* __character-by-character__ based on the unicode code-point value of each character and return an `int` which is the difference between the strings. The comparison will be from the perspective of the string it is called on. So, in this example:\n",
    "<br>\n",
    "<br>`String strA = \"Hello\";`\n",
    "<br>`String strB = \"World\";`\n",
    "<br>`System.out.println(strA.compareTo(strB));`\n",
    "\n",
    "If `strA` has a higher code-point value the value printed will be a positive integer. If `strA` has a lower code-point value the value will be a negative integer. If both strings have the same value `0` will be printed."
   ]
  },
  {
   "cell_type": "code",
   "execution_count": 14,
   "id": "0bc32fb4",
   "metadata": {},
   "outputs": [
    {
     "name": "stdout",
     "output_type": "stream",
     "text": [
      "32\n"
     ]
    },
    {
     "data": {
      "text/plain": [
       "null"
      ]
     },
     "execution_count": 14,
     "metadata": {},
     "output_type": "execute_result"
    }
   ],
   "source": [
    "String firstString = \"hello World\";\n",
    "String secondString = \"Hello World\";\n",
    "System.out.println(firstString.compareTo(secondString));"
   ]
  },
  {
   "cell_type": "markdown",
   "id": "9d9717e2",
   "metadata": {},
   "source": [
    "## `System.out.format()`\n",
    "The `System.out.format()` functions virtually identical to `System.out.println()`"
   ]
  },
  {
   "cell_type": "code",
   "execution_count": 15,
   "id": "62f38f6d",
   "metadata": {},
   "outputs": [
    {
     "name": "stdout",
     "output_type": "stream",
     "text": [
      "Hello\n",
      "World"
     ]
    },
    {
     "data": {
      "text/plain": [
       "null"
      ]
     },
     "execution_count": 15,
     "metadata": {},
     "output_type": "execute_result"
    }
   ],
   "source": [
    "System.out.println(\"Hello\");\n",
    "System.out.format(\"World\");"
   ]
  },
  {
   "cell_type": "markdown",
   "id": "02a01fc0",
   "metadata": {},
   "source": [
    "## Any decimal not explicitly declared or casted as a `float` will be treated as a `double`\n",
    "Anytime you want to use a decimal number, you need to either explicitly cast it as a `float` or treat it as a `double`."
   ]
  },
  {
   "cell_type": "code",
   "execution_count": 32,
   "id": "8e81d73e",
   "metadata": {},
   "outputs": [
    {
     "data": {
      "text/plain": [
       "test.beaker.DecimalsTest"
      ]
     },
     "execution_count": 32,
     "metadata": {},
     "output_type": "execute_result"
    }
   ],
   "source": [
    "package test.beaker;\n",
    "\n",
    "public class DecimalsTest {\n",
    "    public void myFloats(float a, float b) {\n",
    "        System.out.println(a+b);\n",
    "    }\n",
    "}"
   ]
  },
  {
   "cell_type": "code",
   "execution_count": 36,
   "id": "a54318f6",
   "metadata": {},
   "outputs": [
    {
     "ename": "incompatible types",
     "evalue": " possible lossy conversion from double to float",
     "output_type": "error",
     "traceback": [
      "\u001b[1;31mincompatible types: possible lossy conversion from double to float\u001b[0;0m",
      "\u001b[1;31m failTest.myFloats(2.5,4.1)\u001b[0;0m",
      "\u001b[1;31m                   ^  ^      \u001b[0;0m",
      "\u001b[1;31m\u001b[0;0m",
      "\u001b[1;31mSome messages have been simplified; recompile with -Xdiags:verbose to get full output\u001b[0;0m"
     ]
    }
   ],
   "source": [
    "package test.beaker;\n",
    "\n",
    "DecimalsTest failTest = new DecimalsTest();\n",
    "\n",
    "failTest.myFloats(2.5,4.1); // will cause error as the decimals are assumed to be doubles unless declared/cast as floats"
   ]
  },
  {
   "cell_type": "code",
   "execution_count": 37,
   "id": "10c5c9c2",
   "metadata": {},
   "outputs": [
    {
     "name": "stdout",
     "output_type": "stream",
     "text": [
      "6.6\n"
     ]
    },
    {
     "data": {
      "text/plain": [
       "null"
      ]
     },
     "execution_count": 37,
     "metadata": {},
     "output_type": "execute_result"
    }
   ],
   "source": [
    "package test.beaker;\n",
    "\n",
    "DecimalsTest myTest = new DecimalsTest();\n",
    "\n",
    "myTest.myFloats(2.5f,4.1f); // will work since we've declared the numbers as floats using \"f\""
   ]
  },
  {
   "cell_type": "markdown",
   "id": "3f8b2141",
   "metadata": {},
   "source": [
    "## Declaring constructors\n",
    "If you declare a constructor in your class the default no-argument constructor is no longer implicitly declared by Java. This means that if you don't declare a no-argument version of your constructor then trying to instantiate an object from your class without passing any arguments will cause an error. This isn't necessarily undesirable behaviour, you may not want your constructor to accept a no-argument instantiation but is something to be aware of.\n",
    "\n",
    "Additionally, if you create a subclass which extends a class which has an overridden constructor (and doesn't declare a no-argument version of the constructor) you will need to override the default constructor in your subclass as the default constructor implicitly calls `super()` and since the superclass' default constructor was overridden there's no no-argument constructor to be executed leading to a compilation error."
   ]
  },
  {
   "cell_type": "markdown",
   "id": "df9de637",
   "metadata": {},
   "source": [
    "## Multiple `catch` statements\n",
    "If you have multiple `catch` statements you __MUST__ declare them in order from most specific/concrete to least specific/most abstract otherwise you will receive a compilation error. If you get a question with sample code that includes chained `catch` statements make sure to keep this in mind."
   ]
  },
  {
   "cell_type": "markdown",
   "id": "739d5399",
   "metadata": {},
   "source": [
    "## `try`/`finally` \n",
    "The following try/catch/finally combinations are all acceptable:\n",
    "<br>\n",
    "<br>`try {...} catch {...}`\n",
    "<br>`try {...} catch {...} finally {...}`\n",
    "<br>`try {...} finally {...}`"
   ]
  },
  {
   "cell_type": "code",
   "execution_count": 40,
   "id": "47889cf9",
   "metadata": {},
   "outputs": [
    {
     "name": "stdout",
     "output_type": "stream",
     "text": [
      "Hello\n",
      "World\n"
     ]
    },
    {
     "data": {
      "text/plain": [
       "null"
      ]
     },
     "execution_count": 40,
     "metadata": {},
     "output_type": "execute_result"
    }
   ],
   "source": [
    "try {\n",
    "    System.out.println(\"Hello\");\n",
    "}\n",
    "\n",
    "finally {\n",
    "    System.out.println(\"World\");\n",
    "}"
   ]
  },
  {
   "cell_type": "markdown",
   "id": "f5280a9e",
   "metadata": {},
   "source": [
    "## `Iterator` is an `interface`\n",
    "As `Iterator` is an `interface` it cannot be instantiated. To create an `Iterator` you must:\n",
    "1. import it from *java.util*\n",
    "<br>`import java.util.Iterator;`\n",
    "<br><br>\n",
    "2. declare a variable to hold it\n",
    "<br>`Iterator<String> myIter;`\n",
    "<br><br>\n",
    "3. assign a collection object's iterator method to it\n",
    "<br>`myIter = myArrayList.iterator();`\n",
    "<br><br>\n",
    "__NOTE__: Alternatively you can combine 2 & 3 above\n",
    "<br>`Iterator<String> myIter = myArrayList.iterator();`"
   ]
  },
  {
   "cell_type": "code",
   "execution_count": 1,
   "id": "f4b8e301",
   "metadata": {},
   "outputs": [
    {
     "name": "stdout",
     "output_type": "stream",
     "text": [
      "A\n",
      "B\n",
      "C\n"
     ]
    },
    {
     "data": {
      "text/plain": [
       "null"
      ]
     },
     "execution_count": 1,
     "metadata": {},
     "output_type": "execute_result"
    }
   ],
   "source": [
    "import java.util.Iterator;\n",
    "import java.util.ArrayList;\n",
    "\n",
    "ArrayList<String> myArrayList = new ArrayList<>();\n",
    "myArrayList.add(\"A\");\n",
    "myArrayList.add(\"B\");\n",
    "myArrayList.add(\"C\");\n",
    "Iterator<String> myIter;\n",
    "myIter = myArrayList.iterator();\n",
    "\n",
    "while (myIter.hasNext()) {\n",
    "    System.out.println(myIter.next());\n",
    "}"
   ]
  },
  {
   "cell_type": "markdown",
   "id": "12a7f480",
   "metadata": {},
   "source": [
    "## `IOException` is a *checked* exception\n",
    "`IOException` is a checked exception and thus must be handled or declared to avoid compilation errors."
   ]
  },
  {
   "cell_type": "markdown",
   "id": "767fbe65",
   "metadata": {},
   "source": [
    "## Declared exceptions must be handled or thrown by the calling method\n",
    "If you declare an exception in a method signature (e.g. `myMethod() throws Exception {}`) the exception will need to be caught or handled my the calling method even if you include a try/catch statement in the method throwing the exception. For example if we declare the following:\n",
    "<br>\n",
    "<br>`public void myMethod() throws Exception {`\n",
    "<br>&nbsp;&nbsp;&nbsp;&nbsp;`try {...}`\n",
    "<br>&nbsp;&nbsp;&nbsp;&nbsp;`catch(Exception e) {`\n",
    "<br>&nbsp;&nbsp;&nbsp;&nbsp;&nbsp;&nbsp;&nbsp;&nbsp;`System.out.println(e);`\n",
    "<br>&nbsp;&nbsp;&nbsp;&nbsp;`}`\n",
    "<br>`}`\n",
    "\n",
    "Even thought we've included a try/catch here we will need to either handle or declare the exception wherever this method is called because we've explicitly stated that *myMethod* will throw its exception."
   ]
  },
  {
   "cell_type": "markdown",
   "id": "4e8e938c",
   "metadata": {},
   "source": [
    "## It's permitted to instantiate objects without assigning to a variable\n",
    "An object doesn't necessarily need to be assigned to a variable in order to be instantiated. For example, lets say you have a class with several static variables keeping track of how many objects are instantiated and you then instantiate several objects using only `new Objectname();`, those instantiations will still be counted by the static variable even though you haven't assigned them to a variable and thus can't do anything further with them."
   ]
  },
  {
   "cell_type": "code",
   "execution_count": 4,
   "id": "432493ad",
   "metadata": {},
   "outputs": [
    {
     "data": {
      "text/plain": [
       "test.beaker.ClsWithObjectCounter"
      ]
     },
     "execution_count": 4,
     "metadata": {},
     "output_type": "execute_result"
    }
   ],
   "source": [
    "// beaker test pkg\n",
    "package test.beaker;\n",
    "\n",
    "// create class\n",
    "public class ClsWithObjectCounter {\n",
    "    // private class var\n",
    "    private static int numObjCreated;\n",
    "    \n",
    "    // constructor\n",
    "    public ClsWithObjectCounter() {\n",
    "        numObjCreated++; // increment static var\n",
    "    }\n",
    "    \n",
    "    // getter method\n",
    "    public static int getNumObjCreated() {\n",
    "        return numObjCreated;\n",
    "    }\n",
    "}"
   ]
  },
  {
   "cell_type": "code",
   "execution_count": 5,
   "id": "3c66c5d9",
   "metadata": {},
   "outputs": [
    {
     "name": "stdout",
     "output_type": "stream",
     "text": [
      "2\n"
     ]
    },
    {
     "data": {
      "text/plain": [
       "null"
      ]
     },
     "execution_count": 5,
     "metadata": {},
     "output_type": "execute_result"
    }
   ],
   "source": [
    "// beaker test pkg\n",
    "package test.beaker;\n",
    "\n",
    "// instantiate some objects without assigning to variables\n",
    "new ClsWithObjectCounter();\n",
    "new ClsWithObjectCounter();\n",
    "\n",
    "// print the number of objects instantiated\n",
    "System.out.println(ClsWithObjectCounter.getNumObjCreated());"
   ]
  },
  {
   "cell_type": "markdown",
   "id": "b223ea36",
   "metadata": {},
   "source": [
    "## non \"type-safe\" ArrayList can store any object reference\n",
    "Declaring an ArrayList as type-safe using `<Type>` is the recommended practice, however, Java will not prevent you from declaring an ArrayList without this. If you create an ArrayList that isn't type-save you can store any object reference in it."
   ]
  },
  {
   "cell_type": "code",
   "execution_count": 11,
   "id": "5bad35a3",
   "metadata": {},
   "outputs": [
    {
     "data": {
      "text/plain": [
       "test.beaker.Scooter"
      ]
     },
     "execution_count": 11,
     "metadata": {},
     "output_type": "execute_result"
    }
   ],
   "source": [
    "// beakerx test pkg\n",
    "package test.beaker;\n",
    "\n",
    "// create an arbitrary class to use\n",
    "class Scooter {}"
   ]
  },
  {
   "cell_type": "code",
   "execution_count": 13,
   "id": "2c61dc85",
   "metadata": {},
   "outputs": [
    {
     "ename": "no suitable method found for add(test.beaker.Scooter)",
     "evalue": "no suitable method found for add(test.beaker.Scooter)",
     "output_type": "error",
     "traceback": [
      "\u001b[1;31mno suitable method found for add(test.beaker.Scooter)\u001b[0;0m",
      "\u001b[1;31m    method java.util.Collection.add(java.lang.String) is not applicable\u001b[0;0m",
      "\u001b[1;31m      (argument mismatch; test.beaker.Scooter cannot be converted to java.lang.String)\u001b[0;0m",
      "\u001b[1;31m    method java.util.List.add(java.lang.String) is not applicable\u001b[0;0m",
      "\u001b[1;31m      (argument mismatch; test.beaker.Scooter cannot be converted to java.lang.String)\u001b[0;0m",
      "\u001b[1;31m    method java.util.AbstractCollection.add(java.lang.String) is not applicable\u001b[0;0m",
      "\u001b[1;31m      (argument mismatch; test.beaker.Scooter cannot be converted to java.lang.String)\u001b[0;0m",
      "\u001b[1;31m    method java.util.AbstractList.add(java.lang.String) is not applicable\u001b[0;0m",
      "\u001b[1;31m      (argument mismatch; test.beaker.Scooter cannot be converted to java.lang.String)\u001b[0;0m",
      "\u001b[1;31m    method java.util.ArrayList.add(java.lang.String) is not applicable\u001b[0;0m",
      "\u001b[1;31m      (argument mismatch; test.beaker.Scooter cannot be converted to java.lang.String)\u001b[0;0m",
      "\u001b[1;31m myStringAL.add(new Scooter())\u001b[0;0m",
      "\u001b[1;31m ^             ^                \u001b[0;0m",
      "\u001b[1;31m\u001b[0;0m",
      "\u001b[1;31mSome messages have been simplified; recompile with -Xdiags:verbose to get full output\u001b[0;0m"
     ]
    }
   ],
   "source": [
    "// beakerx test pkg\n",
    "package test.beaker;\n",
    "\n",
    "// import ArrayList\n",
    "import java.util.ArrayList;\n",
    "\n",
    "// create an ArrayList type-safe as Strings only\n",
    "ArrayList<String> myStringAL = new ArrayList<>();\n",
    "myStringAL.add(\"Hello\");\n",
    "myStringAL.add(new String(\"World\"));\n",
    "myStringAL.add(new Scooter()); // this will cause an error as we declared myStringAL to be String objects only\n",
    "System.out.println(myStringAL);"
   ]
  },
  {
   "cell_type": "code",
   "execution_count": 14,
   "id": "360b4e6d",
   "metadata": {},
   "outputs": [
    {
     "name": "stdout",
     "output_type": "stream",
     "text": [
      "[Hello, World, test.beaker.Scooter@5aace2fd]\n"
     ]
    },
    {
     "data": {
      "text/plain": [
       "null"
      ]
     },
     "execution_count": 14,
     "metadata": {},
     "output_type": "execute_result"
    }
   ],
   "source": [
    "// beakerx test pkg\n",
    "package test.beaker;\n",
    "\n",
    "// import ArrayList\n",
    "import java.util.ArrayList;\n",
    "\n",
    "// create an ArrayList without declaring object type\n",
    "ArrayList myUnsafeAL = new ArrayList();\n",
    "myUnsafeAL.add(\"Hello\");\n",
    "myUnsafeAL.add(new String(\"World\"));\n",
    "myUnsafeAL.add(new Scooter()); // this will work as the un-safe ArrayList will take ANY object reference\n",
    "System.out.println(myUnsafeAL);"
   ]
  },
  {
   "cell_type": "markdown",
   "id": "c07a1d24",
   "metadata": {},
   "source": [
    "## The `%f` placeholder of `printf`/`format` can round decimals\n",
    "If you specify the number of decimal places to be used in the `%f` placeholder within a `printf` or `format` the decimal will be rounded as needed.\n",
    "\n",
    "__NOTE__: standard rounding rules apply (i.e. decimals of `.5` and above round UP, so `3.500` rounds UP to `4`)"
   ]
  },
  {
   "cell_type": "code",
   "execution_count": 29,
   "id": "eae3e607",
   "metadata": {},
   "outputs": [
    {
     "name": "stdout",
     "output_type": "stream",
     "text": [
      "My float is 12.435000\n",
      "My rounded floar is 12.44\n"
     ]
    },
    {
     "data": {
      "text/plain": [
       "null"
      ]
     },
     "execution_count": 29,
     "metadata": {},
     "output_type": "execute_result"
    }
   ],
   "source": [
    "float myFloat = 12.435f;\n",
    "System.out.format(\"My float is %f%n\", myFloat); // no decimal spaces specified so full float will print\n",
    "System.out.printf(\"My rounded floar is %.2f%n\", myFloat); // rounded to 2 decimal places"
   ]
  },
  {
   "cell_type": "markdown",
   "id": "b7f89ab8",
   "metadata": {},
   "source": [
    "## Incorrectly overloaded methods will fail at compilation\n",
    "If a method is incorrectly overloaded, the program will fail to compile (i.e. the program won't compile and then fail at runtime)."
   ]
  },
  {
   "cell_type": "code",
   "execution_count": 30,
   "id": "394202f5",
   "metadata": {},
   "outputs": [
    {
     "ename": "ERROR",
     "evalue": " java.lang.IllegalStateException",
     "output_type": "error",
     "traceback": [
      "\u001b[1;31mERROR: java.lang.IllegalStateException: method printStuff() is already defined in class test.beaker.MyNewClass\u001b[0;0m",
      "\u001b[1;31m public String printStuff() { return \"Stuff\"; }\u001b[0;0m",
      "\u001b[1;31m ^                                             ^ \u001b[0;0m"
     ]
    }
   ],
   "source": [
    "// beakerx test pkg\n",
    "package test.beaker;\n",
    "\n",
    "// create a class\n",
    "class MyNewClass {\n",
    "    public void printStuff() {\n",
    "        System.out.println(\"Stuff\");\n",
    "    }\n",
    "    \n",
    "    public String printStuff() { // incorrecty overloaded as changing return type only isn't sufficient, type/number of parameters needs to change also\n",
    "        return \"Stuff\";\n",
    "    }\n",
    "}"
   ]
  },
  {
   "cell_type": "markdown",
   "id": "d4264081",
   "metadata": {},
   "source": [
    "## You can't declare `private` *local* variables\n",
    "The `private` access modifier can only be used when declaring class/object variables __NOT__ local (e.g. method) variables."
   ]
  },
  {
   "cell_type": "code",
   "execution_count": 36,
   "id": "f95456fd",
   "metadata": {},
   "outputs": [
    {
     "data": {
      "text/plain": [
       "test.beaker.AccessTest"
      ]
     },
     "execution_count": 36,
     "metadata": {},
     "output_type": "execute_result"
    }
   ],
   "source": [
    "// beakerx test pkg\n",
    "package test.beaker;\n",
    "\n",
    "// create class with private var\n",
    "public class AccessTest {\n",
    "    private boolean secretVar = true; // will work as this is a class var\n",
    "}"
   ]
  },
  {
   "cell_type": "code",
   "execution_count": 37,
   "id": "8ed297e2",
   "metadata": {},
   "outputs": [
    {
     "ename": "ERROR",
     "evalue": " java.lang.IllegalStateException",
     "output_type": "error",
     "traceback": [
      "\u001b[1;31mERROR: java.lang.IllegalStateException: illegal start of expression\u001b[0;0m",
      "\u001b[1;31m private boolean secretVar = tr\u001b[0;0m",
      "\u001b[1;31m ^                              \u001b[0;0m"
     ]
    }
   ],
   "source": [
    "// beakerx test pkg\n",
    "package test.beakerx;\n",
    "\n",
    "// extend the AccessTest class and add a method with a private local var\n",
    "public class ExtraAccess extends AccessTest {\n",
    "    public void thingPrinter() {\n",
    "        private boolean secretVar = true; // will caues an error\n",
    "        System.out.println(secretVar);\n",
    "    }\n",
    "}"
   ]
  },
  {
   "cell_type": "markdown",
   "id": "9fea0ad0",
   "metadata": {},
   "source": [
    "## A non-static method __CANNOT__ be called from a static context\n",
    "Variables/methods declared as `static` can be called without instantiating an object. Non-static variables/methods (any var or method that isn't explicitly declared as `static`) can only be called from an instantiated object.\n",
    "\n",
    "For example, if we have a TextObject class with a printString method declared like this:\n",
    "<br>\n",
    "<br>`public class TextObject {`\n",
    "<br>&nbsp;&nbsp;&nbsp;&nbsp;`public void printString(String foo) {`\n",
    "<br>&nbsp;&nbsp;&nbsp;&nbsp;&nbsp;&nbsp;&nbsp;&nbsp;`System.out.println(foo);`\n",
    "<br>&nbsp;&nbsp;&nbsp;&nbsp;`}`\n",
    "\n",
    "We cannot call that method without instantiating an object, for example trying to call it from a main method like this:\n",
    "<br>\n",
    "<br>`public static void main (String [] args) {`\n",
    "<br>&nbsp;&nbsp;&nbsp;&nbsp;`printString(\"Hello\");`\n",
    "<br>&nbsp;&nbsp;&nbsp;&nbsp;`}`"
   ]
  },
  {
   "cell_type": "code",
   "execution_count": 48,
   "id": "1c1ceb78",
   "metadata": {},
   "outputs": [
    {
     "ename": "ERROR",
     "evalue": " java.lang.IllegalStateException",
     "output_type": "error",
     "traceback": [
      "\u001b[1;31mERROR: java.lang.IllegalStateException: non-static method test() cannot be referenced from a static context\u001b[0;0m",
      "\u001b[1;31m test()\u001b[0;0m",
      "\u001b[1;31m ^   ^   \u001b[0;0m"
     ]
    }
   ],
   "source": [
    "// create a class\n",
    "public class MyTest {\n",
    "    \n",
    "    // non-static \"test\" method\n",
    "    public void test() {\n",
    "        return;\n",
    "    }\n",
    "    \n",
    "    // call method from the static main method\n",
    "    public static void main (String [] args) {\n",
    "        test();\n",
    "    }\n",
    "}"
   ]
  },
  {
   "cell_type": "markdown",
<<<<<<< HEAD
   "id": "a81ef56b",
   "metadata": {},
   "source": [
    "## Multiple dependent classes where one class fails to compile\n",
    "If you have multiple classes defined in a single `.java` file which depend on each other (e.g. class A has a `main` method that instantiates objects using class B) and one of those classes fails to compile, then none of the classes will compile."
=======
   "id": "ad2b6b83",
   "metadata": {},
   "source": [
    "## Declaring a seed value when instantiating `Random()` object\n",
    "You can set a seed value by passing a `long` value it to the `Random()` constructor when instantiating a `Random` object:\n",
    "<br>\n",
    "<br>`Random randNum = new Random(45);`\n",
    "\n",
    "As with setting a seed in Random using other methods, this will cause the same \"random\" values to be produced when run on the same computer with the same seed value."
>>>>>>> 070f3157b54f07342111cfd7dd0d3ad02aa8c076
   ]
  },
  {
   "cell_type": "code",
<<<<<<< HEAD
   "execution_count": 9,
   "id": "01e926cf",
   "metadata": {},
   "outputs": [
    {
     "ename": "ERROR",
     "evalue": " java.lang.IllegalStateException",
     "output_type": "error",
     "traceback": [
      "\u001b[0;31mERROR: java.lang.IllegalStateException: constructor B in class com.twosigma.beaker.javash.bkr4e35a426.B cannot be applied to given types;\u001b[0;0m",
      "\u001b[0;31m  required: java.lang.String\u001b[0;0m",
      "\u001b[0;31m  found: no arguments\u001b[0;0m",
      "\u001b[0;31m  reason: actual and formal argument lists differ in length\u001b[0;0m",
      "\u001b[0;31m B bObj = new B()\u001b[0;0m",
      "\u001b[0;31m          ^      ^ \u001b[0;0m"
=======
   "execution_count": 10,
   "id": "11977935",
   "metadata": {},
   "outputs": [
    {
     "data": {
      "text/plain": [
       "null"
      ]
     },
     "execution_count": 10,
     "metadata": {},
     "output_type": "execute_result"
    }
   ],
   "source": [
    "// import random\n",
    "import java.util.Random;\n",
    "\n",
    "Random randNum = new Random(4);"
   ]
  },
  {
   "cell_type": "markdown",
   "id": "9e06ce55",
   "metadata": {},
   "source": [
    "## Random's `nextInt()` method\n",
    "If you pass an integer value to the `nextInt()` method from the `Random` class, the method will return a pseudo-random integer between 0 and the int you pass."
   ]
  },
  {
   "cell_type": "code",
   "execution_count": 12,
   "id": "b93b8240",
   "metadata": {},
   "outputs": [
    {
     "name": "stdout",
     "output_type": "stream",
     "text": [
      "2\n",
      "3\n",
      "4\n"
     ]
    },
    {
     "data": {
      "text/plain": [
       "null"
      ]
     },
     "execution_count": 12,
     "metadata": {},
     "output_type": "execute_result"
    }
   ],
   "source": [
    "java.util.Random randoNo = new java.util.Random();\n",
    "\n",
    "System.out.println(randoNo.nextInt(3)); // returns random number from 0-2 (inclusive)\n",
    "System.out.println(randoNo.nextInt(4)); // returns random no from 0-3\n",
    "System.out.println(randoNo.nextInt(5)); // returns random no from 0-4"
   ]
  },
  {
   "cell_type": "markdown",
   "id": "dc7a6551",
   "metadata": {},
   "source": [
    "## Be mindful of loop index values\n",
    "Be careful when answering questions that have an Array being accessed by a loop index. If the loop index exceeds the length of the Array being looped through you will receive a Runtime Exception (`ArrayIndexOutOfBoundsException`)."
   ]
  },
  {
   "cell_type": "code",
   "execution_count": 13,
   "id": "5286f965",
   "metadata": {},
   "outputs": [
    {
     "name": "stdout",
     "output_type": "stream",
     "text": [
      "Hello\n",
      "World\n",
      "!\n"
     ]
    },
    {
     "ename": "ERROR",
     "evalue": " java.lang.ArrayIndexOutOfBoundsException",
     "output_type": "error",
     "traceback": [
      "\u001b[1;31mERROR: java.lang.ArrayIndexOutOfBoundsException: 3\u001b[0;0m"
>>>>>>> 070f3157b54f07342111cfd7dd0d3ad02aa8c076
     ]
    }
   ],
   "source": [
<<<<<<< HEAD
    "/* \n",
    "Two classes in a single file where the main class (class A) depends on the other (class B). Since the attempt to instantiate an object in class A will fail\n",
    "neither of the classes will compile (you will thus get 0 .class files)\n",
    "*/\n",
    "public class A {\n",
    "    public static void main(String [] args) {\n",
    "        B bObj = new B(); // try to instantiate an object using an argument-less constructor\n",
    "    }\n",
    "}\n",
    "\n",
    "class B {\n",
    "    public B(String input){} // we've overwritten the default constructor with a constructor that requires a string argument\n",
=======
    "String [] myArray = new String[3];\n",
    "myArray[0] = \"Hello\"; // index 0\n",
    "myArray[1] = \"World\"; // index 1\n",
    "myArray[2] = \"!\"; // index 2\n",
    "\n",
    "for (int i=0; i<=myArray.length; i++) { // loop has 3 items but they're zero indexed: 0, 1, 2\n",
    "    System.out.println(myArray[i]); // will print the Array items and then throw an exception\n",
>>>>>>> 070f3157b54f07342111cfd7dd0d3ad02aa8c076
    "}"
   ]
  },
  {
   "cell_type": "markdown",
<<<<<<< HEAD
   "id": "8d9f61b5",
   "metadata": {},
   "source": [
    "## `this` and `super` are not the same\n",
    "As we know, using the keyword `this` is a handy way to refer to the/a object being instantiated at the time the method in question is being called. For example, if we have a class which creates objects with a `name` field, we might have a method `addName` within which we assign a name using `this.name=something`. So, we're using `this` to represent *whatever object is currently being instantiated when this method is called*.\n",
    "\n",
    "It's important to keep in mind that `this` refers to an object whereas `super` refers to the parent/superclass of the current class.\n",
    "- `this`: points to an object\n",
    "- `super`: points to a class\n",
    "\n",
    "Similarly, using a class' name within a method would point to the class and possibly a static variable or static method. You cannot use the class name to assign value to an instance variable. E.g. `MyClass.someVariable = 0` might assign `0` to a static/class variable but could not be used to assign `0` to an instance variable.\n",
    "\n",
    "The only exception to this would be if you add parentheses after the class name (or `super`) e.g. `super().myVariable`. In that case you would be instantiating an object.\n",
    "- `ClassName.variableName`: would be an attempt to access a static variable (*variableName*) of the class (*ClassName*)\n",
    "- `ClassName().variableName`: would be an attempt to instantiate an object of the class *ClassName* and access an instance variable (*variableName*)"
=======
   "id": "2509adb1",
   "metadata": {},
   "source": [
    "## Java Versions\n",
    "- Java SE: used to develop web browser applets and applications that run on servers & desktop computers\n",
    "- Java EE: extends Java SE and is used to develop large client-side, distributed applications (e.g. online stores etc)\n",
    "- Java ME: used to develop appls for \"resource constrained\" devices such as mobile phones\n",
    "- Java Card: smart cards, sim cards"
>>>>>>> 070f3157b54f07342111cfd7dd0d3ad02aa8c076
   ]
  },
  {
   "cell_type": "markdown",
<<<<<<< HEAD
   "id": "6e01da27",
   "metadata": {},
   "source": [
    "## It's possible (though inadvisable) to use the same variable name for multiple variables *providing they have different scopes*\n",
    "Java will allow you to use the same variable name for multiple variables as long as they have different scopes. However, in most cases this is inadvisable as it will make your code confusing to read."
=======
   "id": "bfd72fef",
   "metadata": {},
   "source": [
    "## `Math.round()` rounds to the nearest `int`\n",
    "The `Math.round()` function returns the closest `int` (whole number)."
>>>>>>> 070f3157b54f07342111cfd7dd0d3ad02aa8c076
   ]
  },
  {
   "cell_type": "code",
<<<<<<< HEAD
   "execution_count": 19,
   "id": "5db8817c",
   "metadata": {},
   "outputs": [
    {
     "data": {
      "text/plain": [
       "test.beaker.MyClass"
      ]
     },
     "execution_count": 19,
=======
   "execution_count": 15,
   "id": "64d0022f",
   "metadata": {},
   "outputs": [
    {
     "name": "stdout",
     "output_type": "stream",
     "text": [
      "5\n",
      "99\n",
      "16\n",
      "246\n"
     ]
    },
    {
     "data": {
      "text/plain": [
       "null"
      ]
     },
     "execution_count": 15,
>>>>>>> 070f3157b54f07342111cfd7dd0d3ad02aa8c076
     "metadata": {},
     "output_type": "execute_result"
    }
   ],
   "source": [
<<<<<<< HEAD
    "package test.beaker;\n",
    "\n",
    "public class MyClass {\n",
    "    int x = 81; // declare variable\n",
    "    \n",
    "    public void printSomething(){\n",
    "        while (x<=100) { // use x in while loop\n",
    "            for (int x=0; x<5; x++){ // create for loop with a second x variable\n",
    "                System.out.print(x + \" ,\"); // print the second x variable\n",
    "            }\n",
    "            x++; // increment original x\n",
    "        }\n",
    "    }\n",
    "}\n"
=======
    "float numOne = 4.7f;\n",
    "float numTwo = 99.32f;\n",
    "float numThree = 15.5f;\n",
    "float numFour = 245.86f;\n",
    "\n",
    "System.out.println(Math.round(numOne));\n",
    "System.out.println(Math.round(numTwo));\n",
    "System.out.println(Math.round(numThree));\n",
    "System.out.println(Math.round(numFour));"
   ]
  },
  {
   "cell_type": "markdown",
   "id": "a1edac6b",
   "metadata": {},
   "source": [
    "## Declaring multiple variables of same type on one line\n",
    "You can declare multiple variables *of the same type* on a single line by separating the assignments with commas:"
>>>>>>> 070f3157b54f07342111cfd7dd0d3ad02aa8c076
   ]
  },
  {
   "cell_type": "code",
<<<<<<< HEAD
   "execution_count": 17,
   "id": "7a74e319",
=======
   "execution_count": 18,
   "id": "bc29fe1e",
>>>>>>> 070f3157b54f07342111cfd7dd0d3ad02aa8c076
   "metadata": {},
   "outputs": [
    {
     "name": "stdout",
     "output_type": "stream",
     "text": [
<<<<<<< HEAD
      "0 ,1 ,2 ,3 ,4 ,0 ,1 ,2 ,3 ,4 ,0 ,1 ,2 ,3 ,4 ,0 ,1 ,2 ,3 ,4 ,0 ,1 ,2 ,3 ,4 ,0 ,1 ,2 ,3 ,4 ,"
=======
      "X is 1\n",
      "Y is 2\n",
      "Z is 3"
>>>>>>> 070f3157b54f07342111cfd7dd0d3ad02aa8c076
     ]
    },
    {
     "data": {
      "text/plain": [
       "null"
      ]
     },
<<<<<<< HEAD
     "execution_count": 17,
=======
     "execution_count": 18,
>>>>>>> 070f3157b54f07342111cfd7dd0d3ad02aa8c076
     "metadata": {},
     "output_type": "execute_result"
    }
   ],
   "source": [
<<<<<<< HEAD
    "package test.beaker;\n",
    "\n",
    "new MyClass().printSomething();"
=======
    "int x=1, y=2, z=3;\n",
    "\n",
    "System.out.printf(\"X is %d%nY is %d%nZ is %d\", x, y, z);"
>>>>>>> 070f3157b54f07342111cfd7dd0d3ad02aa8c076
   ]
  },
  {
   "cell_type": "markdown",
<<<<<<< HEAD
   "id": "a6e8bc9d",
   "metadata": {},
   "source": [
    "## Static (aka class) methods CANNOT access instance variables\n",
    "The three types of variables are:\n",
    "- __Class variables__ (also known as static variables): *can be accessed by all methods defined in a class (static and non-static alike).*\n",
    "- __Instance variables__: *can be accessed by non-static methods defined in a class.*\n",
    "- __Local variables__: *can only be accessed within the method in which they're defined.*"
=======
   "id": "224052fb",
   "metadata": {},
   "source": [
    "## Compile error for un-initialized variables\n",
    "If you declare a variable without assigning a value and try to assign the value within a loop, you'll receive an error if the loop has a chance of not executing the assignation code. The only exception is if the loop will always execute (e.g. `if(true)...` or a `do`/`while` loop)."
   ]
  },
  {
   "cell_type": "code",
   "execution_count": 23,
   "id": "584f59d4",
   "metadata": {},
   "outputs": [
    {
     "ename": "variable c might not have been initialized",
     "evalue": "variable c might not have been initialized",
     "output_type": "error",
     "traceback": [
      "\u001b[1;31mvariable c might not have been initialized\u001b[0;0m",
      "\u001b[1;31m System.out.printf(\"C is %d\", c)\u001b[0;0m",
      "\u001b[1;31m                              ^^  \u001b[0;0m"
     ]
    }
   ],
   "source": [
    "int a = 1;\n",
    "int b = 2;\n",
    "int c;\n",
    "\n",
    "if(b>a){\n",
    "    c = b;\n",
    "}\n",
    "System.out.printf(\"C is %d\", c);"
>>>>>>> 070f3157b54f07342111cfd7dd0d3ad02aa8c076
   ]
  },
  {
   "cell_type": "markdown",
<<<<<<< HEAD
   "id": "9485b5c7",
   "metadata": {},
   "source": [
    "## Generics: the following are accepted/permitted uses ArrayList declarations\n",
    "Type-safe ArrayLists\n",
    "- Two matching diamond operators: `ArrayList<type> myArray = new ArrayList<type>();`\n",
    "- 1st diamond operator populated 2nd empty: `ArrayList<type> myArray = new ArrayList<>();`\n",
    "- One diamond operator at start: `ArrayList<type> myArray = new ArrayList();`\n",
    "\n",
    "Unsafe ArrayLists\n",
    "- No diamond operators: `ArrayList myArray = new ArrayList();`\n",
    "- One diamond operator at end: `ArrayList myArray = new ArrayList<type>();` *this is basically the same as not having any generics*"
=======
   "id": "990c8d26",
   "metadata": {},
   "source": [
    "## Unchecked exceptions do not need to be handled or declared\n",
    "Even if you declare `throws Exception` in a method signature, if the exception is __unchecked__ you won't be forced to handle/declare it."
   ]
  },
  {
   "cell_type": "code",
   "execution_count": 26,
   "id": "76160748",
   "metadata": {},
   "outputs": [
    {
     "data": {
      "text/plain": [
       "test.beaker.MyExThrower"
      ]
     },
     "execution_count": 26,
     "metadata": {},
     "output_type": "execute_result"
    }
   ],
   "source": [
    "// beaker test pkg\n",
    "package test.beaker;\n",
    "\n",
    "public class MyExThrower {\n",
    "    public void methodA() throws ArrayIndexOutOfBoundsException{}\n",
    "}"
>>>>>>> 070f3157b54f07342111cfd7dd0d3ad02aa8c076
   ]
  },
  {
   "cell_type": "code",
<<<<<<< HEAD
   "execution_count": 28,
   "id": "4997d7d3",
=======
   "execution_count": 27,
   "id": "61932578",
>>>>>>> 070f3157b54f07342111cfd7dd0d3ad02aa8c076
   "metadata": {},
   "outputs": [
    {
     "data": {
      "text/plain": [
       "null"
      ]
     },
<<<<<<< HEAD
     "execution_count": 28,
=======
     "execution_count": 27,
>>>>>>> 070f3157b54f07342111cfd7dd0d3ad02aa8c076
     "metadata": {},
     "output_type": "execute_result"
    }
   ],
   "source": [
<<<<<<< HEAD
    "// import ArrayList\n",
    "import java.util.ArrayList;\n",
    "\n",
    "// type-safe\n",
    "ArrayList<String> myArray1 = new ArrayList<String>();\n",
    "ArrayList<String> myArray2 = new ArrayList<>();\n",
    "ArrayList<String> myArray3 = new ArrayList();\n",
    "\n",
    "// unsafe\n",
    "ArrayList myArray4 = new ArrayList<String>();\n",
    "ArrayList myArray5 = new ArrayList<>();\n",
    "ArrayList myArray6 = new ArrayList();"
=======
    "// beaker test pkg\n",
    "package test.beaker;\n",
    "\n",
    "MyExThrower myObj = new MyExThrower();\n",
    "myObj.methodA();"
>>>>>>> 070f3157b54f07342111cfd7dd0d3ad02aa8c076
   ]
  },
  {
   "cell_type": "markdown",
<<<<<<< HEAD
   "id": "24b2fbfa",
   "metadata": {},
   "source": [
    "The following are NOT permitted\n",
    "- Two empty diamond operators: `ArrayList<> myArray = new ArrayList<>();`\n",
    "- One empty diamond operator at start: `ArrayList<> myArray = new ArrayList();`\n",
    "- One empty diamond operator at end: `ArrayList myArray = new ArrayList<>();`\n",
    "- Two diamond operators, 1st empty: `ArrayList<> myArray = new ArrayList<type>();`"
=======
   "id": "2eff9f92",
   "metadata": {},
   "source": [
    "## Instance variables get default values\n",
    "In Java, instance variables automatically get default values. The default values are:\n",
    "\n",
    "Type|Default value\n",
    ":--|:--\n",
    "`int`|`0`\n",
    "`String`|`null`\n",
    "`float`|`0.0`\n",
    "`byte`|`0`\n",
    "`double`|`0.00`\n",
    "`char`|`\\u0000` (unicode codepoint for null)\n",
    "`boolean`|`false`"
>>>>>>> 070f3157b54f07342111cfd7dd0d3ad02aa8c076
   ]
  },
  {
   "cell_type": "code",
   "execution_count": 26,
<<<<<<< HEAD
   "id": "a5b4aedf",
   "metadata": {},
   "outputs": [
    {
     "ename": "illegal start of type",
     "evalue": "illegal start of type",
     "output_type": "error",
     "traceback": [
      "\u001b[1;31millegal start of type\u001b[0;0m",
      "\u001b[1;31m ArrayList<> myArray1 = new ArrayList<>()\u001b[0;0m",
      "\u001b[1;31m           ^                              \u001b[0;0m",
      "\u001b[1;31m\u001b[0;0m",
      "\u001b[1;31millegal start of type\u001b[0;0m",
      "\u001b[1;31m ArrayList<> myArray2 = new ArrayList()\u001b[0;0m",
      "\u001b[1;31m           ^                            \u001b[0;0m",
      "\u001b[1;31m\u001b[0;0m",
      "\u001b[1;31millegal start of type\u001b[0;0m",
      "\u001b[1;31m ArrayList<> myArray4 = new ArrayList<Str\u001b[0;0m",
      "\u001b[1;31m           ^                              \u001b[0;0m"
     ]
    }
   ],
   "source": [
    "// import ArrayList\n",
    "import java.util.ArrayList;\n",
    "\n",
    "// the following are not permitted\n",
    "ArrayList<> myArray1 = new ArrayList<>();\n",
    "ArrayList<> myArray2 = new ArrayList();\n",
    "ArrayList<> myArray4 = new ArrayList<String>();"
   ]
  },
  {
   "cell_type": "markdown",
   "id": "b8ec032e",
   "metadata": {},
   "source": [
    "## Java's `main` method can be overloaded\n",
    "Java's main method can, like most methods, be overloaded by declaring it with different types or amounts of arguments."
=======
   "id": "3cb7340c",
   "metadata": {},
   "outputs": [
    {
     "data": {
      "text/plain": [
       "test.beaker.DefaultClass"
      ]
     },
     "execution_count": 26,
     "metadata": {},
     "output_type": "execute_result"
    }
   ],
   "source": [
    "package test.beaker;\n",
    "\n",
    "public class DefaultClass {\n",
    "    int a;\n",
    "    String b;\n",
    "    float c;\n",
    "    byte d;\n",
    "    double e;\n",
    "    char f;\n",
    "    boolean g;\n",
    "    \n",
    "    public void printVars() {\n",
    "        System.out.printf(\"a is %d%n\",a);\n",
    "        System.out.printf(\"b is %s%n\",b);\n",
    "        System.out.printf(\"c is %.2f%n\",c);\n",
    "        System.out.printf(\"d is %d%n\",d);\n",
    "        System.out.printf(\"e is %.2f%n\",e);\n",
    "        System.out.printf(\"f is %c%n\",f);\n",
    "        System.out.printf(\"g is %b%n\",g);\n",
    "    }\n",
    "}"
>>>>>>> 070f3157b54f07342111cfd7dd0d3ad02aa8c076
   ]
  },
  {
   "cell_type": "code",
<<<<<<< HEAD
   "execution_count": 33,
   "id": "0b2e9269",
   "metadata": {},
   "outputs": [
    {
     "data": {
      "text/plain": [
       "test.beaker.MyExample"
      ]
     },
     "execution_count": 33,
=======
   "execution_count": 27,
   "id": "8b792f02",
   "metadata": {},
   "outputs": [
    {
     "name": "stdout",
     "output_type": "stream",
     "text": [
      "a is 0\n",
      "b is null\n",
      "c is 0.00\n",
      "d is 0\n",
      "e is 0.00\n",
      "f is \u0000\n",
      "g is false\n"
     ]
    },
    {
     "data": {
      "text/plain": [
       "null"
      ]
     },
     "execution_count": 27,
>>>>>>> 070f3157b54f07342111cfd7dd0d3ad02aa8c076
     "metadata": {},
     "output_type": "execute_result"
    }
   ],
   "source": [
    "package test.beaker;\n",
    "\n",
<<<<<<< HEAD
    "public class MyExample {\n",
    "    public static void main (String [] args) {\n",
    "        System.out.println(\"Hello\");\n",
    "    }\n",
    "\n",
    "    public static void main (String args) {\n",
    "        System.out.println(\"Hallo\");\n",
    "    }\n",
    "\n",
    "    public static void main (int arg) {\n",
    "        System.out.println(\"Hola\");\n",
    "    }\n",
    "}"
=======
    "DefaultClass defObj = new DefaultClass();\n",
    "defObj.printVars();"
>>>>>>> 070f3157b54f07342111cfd7dd0d3ad02aa8c076
   ]
  },
  {
   "cell_type": "markdown",
<<<<<<< HEAD
   "id": "102eaf50",
   "metadata": {},
   "source": [
    "## Some features of Java\n",
    "- Automatic garbage collection\n",
    "- Allows multiple concurrent threads of execution to be active at once\n",
    "- Solves problems using an __object-oriented__ methodology"
=======
   "id": "ed259ce8",
   "metadata": {},
   "source": [
    "## Local variables DO NOT get default values\n",
    "Unlike instance variables, local variables do not get default values. So, trying to access or print an unassigned local variable will result in a compilation error (`<var> may not have been initialized`)."
   ]
  },
  {
   "cell_type": "code",
   "execution_count": 28,
   "id": "ce4b2a86",
   "metadata": {},
   "outputs": [
    {
     "ename": "variable j might not have been initialized",
     "evalue": "variable j might not have been initialized",
     "output_type": "error",
     "traceback": [
      "\u001b[1;31mvariable j might not have been initialized\u001b[0;0m",
      "\u001b[1;31m System.out.println(j)\u001b[0;0m",
      "\u001b[1;31m                    ^^  \u001b[0;0m"
     ]
    }
   ],
   "source": [
    "int j;\n",
    "System.out.println(j);"
>>>>>>> 070f3157b54f07342111cfd7dd0d3ad02aa8c076
   ]
  },
  {
   "cell_type": "markdown",
<<<<<<< HEAD
   "id": "e8c56666",
   "metadata": {},
   "source": [
    "## Concatenating strings in `println`/`print`\n",
    "Java's `print` and `println` methods will allow you to mix strings with other data types as long as the strings are surrounded by `+` operators. In such a case the method will switch to concatenating mode for the string(s). If you try to use operators other than `+` with strings an error will be thrown."
=======
   "id": "783c62b0",
   "metadata": {},
   "source": [
    "## The value of an unsuccessful modulus operation is the original value of the dividend\n",
    "When using the modulo/modulus operator (`%`) if the division isn't possible (e.g. 4%5, where 4 is the *dividend* and 5 is the *divisor*) the value is the the dividend not the divisor. So, `4%5` evaluates to `4`."
>>>>>>> 070f3157b54f07342111cfd7dd0d3ad02aa8c076
   ]
  },
  {
   "cell_type": "code",
<<<<<<< HEAD
   "execution_count": 43,
   "id": "ce4c6f48",
=======
   "execution_count": 29,
   "id": "8e9af894",
>>>>>>> 070f3157b54f07342111cfd7dd0d3ad02aa8c076
   "metadata": {},
   "outputs": [
    {
     "name": "stdout",
     "output_type": "stream",
     "text": [
<<<<<<< HEAD
      "47.0?1Hi\n"
=======
      "4\n"
>>>>>>> 070f3157b54f07342111cfd7dd0d3ad02aa8c076
     ]
    },
    {
     "data": {
      "text/plain": [
       "null"
      ]
     },
<<<<<<< HEAD
     "execution_count": 43,
=======
     "execution_count": 29,
>>>>>>> 070f3157b54f07342111cfd7dd0d3ad02aa8c076
     "metadata": {},
     "output_type": "execute_result"
    }
   ],
   "source": [
<<<<<<< HEAD
    "System.out.println(5+7.0*6+\"?\"+9/7%2+\"Hi\");"
=======
    "int a = 4;\n",
    "int b = 5;\n",
    "System.out.println(a%b);"
>>>>>>> 070f3157b54f07342111cfd7dd0d3ad02aa8c076
   ]
  },
  {
   "cell_type": "markdown",
<<<<<<< HEAD
   "id": "6af098df",
   "metadata": {},
   "source": [
    "## It's possible to mix assignment with logical tests in an if statement's conditional\n",
    "Normally you will see logical tests in the conditional section of an if statement: `if (conditional test) { code to execute }` e.g. `if (x >= y) {}`."
=======
   "id": "73e17c8a",
   "metadata": {},
   "source": [
    "## Creating a new string from the full substring of an existing string\n",
    "As we know, creating a string in Java places the string value into a pool and any further string literal creations are first checked against the pool to see if it already exists. If you try to create a new string using the `substring` method but passing the full string (i.e. the first and last indices) the pool comparison will still be done and you will have two variables pointing to the same memory address."
>>>>>>> 070f3157b54f07342111cfd7dd0d3ad02aa8c076
   ]
  },
  {
   "cell_type": "code",
<<<<<<< HEAD
   "execution_count": 63,
   "id": "6ee54325",
=======
   "execution_count": 31,
   "id": "62515353",
>>>>>>> 070f3157b54f07342111cfd7dd0d3ad02aa8c076
   "metadata": {},
   "outputs": [
    {
     "name": "stdout",
     "output_type": "stream",
     "text": [
<<<<<<< HEAD
      "TRUE!\n"
=======
      "true\n"
>>>>>>> 070f3157b54f07342111cfd7dd0d3ad02aa8c076
     ]
    },
    {
     "data": {
      "text/plain": [
       "null"
      ]
     },
<<<<<<< HEAD
     "execution_count": 63,
=======
     "execution_count": 31,
>>>>>>> 070f3157b54f07342111cfd7dd0d3ad02aa8c076
     "metadata": {},
     "output_type": "execute_result"
    }
   ],
   "source": [
<<<<<<< HEAD
    "int x = 5;\n",
    "boolean y = false;\n",
    "\n",
    "if ((x >= 4) && (y = true)) { // y is re-assigned to be true here so the conditional is essentially \"if x >= 4 AND true\" (which evaluates to if true AND true)\n",
    "    System.out.println(\"TRUE!\");\n",
    "} \n",
    "else {\n",
    "    System.out.println(\"FALSE\");\n",
    "}"
=======
    "String myString = \"Hello\";\n",
    "String yourString = myString.substring(0,5); // assign the full string Hello using substring method\n",
    "System.out.println(myString == yourString); // compare memory addresses using =="
>>>>>>> 070f3157b54f07342111cfd7dd0d3ad02aa8c076
   ]
  },
  {
   "cell_type": "markdown",
<<<<<<< HEAD
   "id": "aa7df849",
   "metadata": {},
   "source": [
    "## REMEMBER: any decimal *literal* will be treated as a double unless specifically casted/declared as float\n",
    "In order for Java to see a decimal `literal` as a float you need to either cast (e.g. `(float) 1.5`) or declared using `f` (e.g. `1.5f`). Otherwise, Java will assume it to be a `double`."
=======
   "id": "2b964714",
   "metadata": {},
   "source": [
    "## Enhanced For loop works on normal arrays also\n",
    "The *enhanced for loop* can also be used on normal arrays not just ArrayLists."
>>>>>>> 070f3157b54f07342111cfd7dd0d3ad02aa8c076
   ]
  },
  {
   "cell_type": "code",
<<<<<<< HEAD
   "execution_count": 74,
   "id": "1b6c5ca0",
=======
   "execution_count": 32,
   "id": "baf0d916",
>>>>>>> 070f3157b54f07342111cfd7dd0d3ad02aa8c076
   "metadata": {},
   "outputs": [
    {
     "name": "stdout",
     "output_type": "stream",
     "text": [
<<<<<<< HEAD
      "class java.lang.Double\n",
      "class java.lang.Float\n",
      "class java.lang.Float\n"
=======
      "1\n",
      "2\n",
      "3\n",
      "4\n"
>>>>>>> 070f3157b54f07342111cfd7dd0d3ad02aa8c076
     ]
    },
    {
     "data": {
      "text/plain": [
       "null"
      ]
     },
<<<<<<< HEAD
     "execution_count": 74,
=======
     "execution_count": 32,
>>>>>>> 070f3157b54f07342111cfd7dd0d3ad02aa8c076
     "metadata": {},
     "output_type": "execute_result"
    }
   ],
   "source": [
<<<<<<< HEAD
    "Object o = 2.4; // no cast or f\n",
    "\n",
    "System.out.println(o.getClass()); // prints Double\n",
    "\n",
    "o = 2.4f; // using f\n",
    "\n",
    "System.out.println(o.getClass()); // prints float\n",
    "\n",
    "o = (float) 2.4; // using casting\n",
    "\n",
    "System.out.println(o.getClass()); // prints float"
=======
    "int [] myInts = new int[] {1,2,3,4};\n",
    "for (int i: myInts) {\n",
    "    System.out.println(i);\n",
    "}"
   ]
  },
  {
   "cell_type": "markdown",
   "id": "bb2ca7ca",
   "metadata": {},
   "source": [
    "## Java Web Start (JWS)\n",
    "__Java Web Start (JWS)__ is a technology that allows you to deploy a desktop Java application directly from a web page."
   ]
  },
  {
   "cell_type": "markdown",
   "id": "3b1c48e3",
   "metadata": {},
   "source": [
    "## Sentinel Controlled Loop\n",
    "A __sentinel-controlled__ loop (aka sentinel-controlled repetition or indefinite repetition) is a loop where the number of loops/repeats needed isn't known in advance (as opposed to __counter-controlled__ loops where we define a variable to count a specific number of times before stopping execution). In a sentinel-controlled loop, the loop controller (the sentinel) is determined within the body of the loop execution. This can be a variable like a boolean or the end of a particular set of data.\n",
    "\n",
    "Common sentinel-controlled loops:\n",
    "- `while` loop\n",
    "- `do while` loop"
>>>>>>> 070f3157b54f07342111cfd7dd0d3ad02aa8c076
   ]
  },
  {
   "cell_type": "markdown",
<<<<<<< HEAD
   "id": "b48520b3",
   "metadata": {},
   "source": [
    "## Using increment (`++`) or decrement (`--`) in a loop's conditional\n",
    "When using increment and decrement operators in a loop's conditional the increment/decrement operation will always be completed even if the loops condition is evaluated as false and the loop's body never executed."
=======
   "id": "4df894ff",
   "metadata": {},
   "source": [
    "## Remember: an ArrayList which isn't type-safe defaults to type `Object`\n",
    "If an ArrayList is instantiated without specifying a type, it will be an Object-type ArrayList by default. Therefore, if you use an __enhanced for loop__ to loop through the ArrayList you will need to specify the data type as Object in the for loop expression."
>>>>>>> 070f3157b54f07342111cfd7dd0d3ad02aa8c076
   ]
  },
  {
   "cell_type": "code",
<<<<<<< HEAD
   "execution_count": 76,
   "id": "ca3e7ac4",
   "metadata": {},
   "outputs": [
    {
     "name": "stdout",
     "output_type": "stream",
     "text": [
      "X is 0\n",
      "Y is 6"
     ]
    },
=======
   "execution_count": 2,
   "id": "3d2d1fe3",
   "metadata": {},
   "outputs": [
    {
     "ename": "incompatible types",
     "evalue": " java.lang.Object cannot be converted to java.lang.String",
     "output_type": "error",
     "traceback": [
      "\u001b[1;31mincompatible types: java.lang.Object cannot be converted to java.lang.String\u001b[0;0m",
      "\u001b[1;31m for(String s: myStringAL){\u001b[0;0m",
      "\u001b[1;31m               ^         ^   \u001b[0;0m"
     ]
    }
   ],
   "source": [
    "import java.util.ArrayList;\n",
    "\n",
    "ArrayList myStringAL = new ArrayList<>();\n",
    "for(String s: myStringAL){} // will throw an error as we can't access an object ArrayList using a String variable"
   ]
  },
  {
   "cell_type": "code",
   "execution_count": 3,
   "id": "11f93b32",
   "metadata": {},
   "outputs": [
>>>>>>> 070f3157b54f07342111cfd7dd0d3ad02aa8c076
    {
     "data": {
      "text/plain": [
       "null"
      ]
     },
<<<<<<< HEAD
     "execution_count": 76,
=======
     "execution_count": 3,
>>>>>>> 070f3157b54f07342111cfd7dd0d3ad02aa8c076
     "metadata": {},
     "output_type": "execute_result"
    }
   ],
   "source": [
<<<<<<< HEAD
    "int x = 1;\n",
    "int y = 5;\n",
    "\n",
    "if (x-- >= y++) {\n",
    "    System.out.println(\"in the loop\"); // we'll never get this far\n",
    "}\n",
    "\n",
    "System.out.printf(\"X is %d%nY is %d\", x, y);"
=======
    "import java.util.ArrayList;\n",
    "\n",
    "ArrayList myObjAL = new ArrayList<>();\n",
    "for(Object o: myObjAL) {} // no error as we're using an object variable to access object ArrayList items"
   ]
  },
  {
   "cell_type": "markdown",
   "id": "3f8fde84",
   "metadata": {},
   "source": [
    "## Multiple classes can be defined in a single .java file\n",
    "There can be only ONE *public* class in a single `.java` file but you can have multiple classes which are not declared as `public`."
   ]
  },
  {
   "cell_type": "code",
   "execution_count": 9,
   "id": "ce983a8f",
   "metadata": {},
   "outputs": [
    {
     "data": {
      "text/plain": [
       "com.twosigma.beaker.javash.bkr695d1fad.A"
      ]
     },
     "execution_count": 9,
     "metadata": {},
     "output_type": "execute_result"
    }
   ],
   "source": [
    "public class A{}\n",
    "class B{}\n",
    "class C{}\n",
    "\n",
    "class Main{\n",
    "    public static void main(String [] args) {\n",
    "        System.out.println(\"Foo\");\n",
    "    }\n",
    "}"
   ]
  },
  {
   "cell_type": "code",
   "execution_count": 10,
   "id": "a76535fb",
   "metadata": {},
   "outputs": [
    {
     "ename": "ERROR",
     "evalue": " java.lang.IllegalStateException",
     "output_type": "error",
     "traceback": [
      "\u001b[1;31mERROR: java.lang.IllegalStateException: class D is public, should be declared in a file named D.java\u001b[0;0m",
      "\u001b[1;31m public class D{}\u001b[0;0m",
      "\u001b[1;31m ^               ^ \u001b[0;0m"
     ]
    }
   ],
   "source": [
    "public class C{}\n",
    "public class D{}"
   ]
  },
  {
   "cell_type": "markdown",
   "id": "f167fb7d",
   "metadata": {},
   "source": [
    "## The `final` modifier can be used with a method signature parameter\n",
    "As mentioned elsewhere, the `final` keyword cannot be used to declare local variables *except* with parameters in the method signature. For example..\n",
    "<br>\n",
    "<br>Not allowed:\n",
    "<br>`public void myMethod() {`\n",
    "<br>&nbsp;&nbsp;&nbsp;&nbsp;__`final`__ `String myVar;`\n",
    "<br>`}`\n",
    "<br>\n",
    "<br>Allowed:\n",
    "<br>`public void myMethod(`__`final int i`__)`{`\n",
    "<br>`}`"
   ]
  },
  {
   "cell_type": "code",
   "execution_count": 16,
   "id": "fcb43c99",
   "metadata": {},
   "outputs": [
    {
     "data": {
      "text/plain": [
       "test.beaker.Test"
      ]
     },
     "execution_count": 16,
     "metadata": {},
     "output_type": "execute_result"
    }
   ],
   "source": [
    "package test.beaker;\n",
    "\n",
    "public class Test {\n",
    "    public void tesMeth(final int i) {\n",
    "        System.out.println(\"Allowed\");\n",
    "    }\n",
    "}"
   ]
  },
  {
   "cell_type": "markdown",
   "id": "03cb58f7",
   "metadata": {},
   "source": [
    "## Java's runtime environment will insert casts when using an arithmetic operator\n",
    "When using an arithmetic operator (e.g. `+=`, `*`, `/`) the JRE will automatically insert a cast where necessary. For example the following will not throw an error but the value will be truncated to fit and may become nonsensical/unusable depending on your intentions."
>>>>>>> 070f3157b54f07342111cfd7dd0d3ad02aa8c076
   ]
  },
  {
   "cell_type": "code",
<<<<<<< HEAD
   "execution_count": 79,
   "id": "7e1b8ca1",
=======
   "execution_count": 17,
   "id": "0e4344a0",
>>>>>>> 070f3157b54f07342111cfd7dd0d3ad02aa8c076
   "metadata": {},
   "outputs": [
    {
     "name": "stdout",
     "output_type": "stream",
     "text": [
<<<<<<< HEAD
      "Loop 1: a is 8, b is 11\n",
      "Loop 2: a is 9, b is 10\n",
      "Loop 3: a is 10, b is 9\n"
=======
      "-56\n"
>>>>>>> 070f3157b54f07342111cfd7dd0d3ad02aa8c076
     ]
    },
    {
     "data": {
      "text/plain": [
       "null"
      ]
     },
<<<<<<< HEAD
     "execution_count": 79,
=======
     "execution_count": 17,
>>>>>>> 070f3157b54f07342111cfd7dd0d3ad02aa8c076
     "metadata": {},
     "output_type": "execute_result"
    }
   ],
   "source": [
<<<<<<< HEAD
    "int a = 7;\n",
    "int b = 12;\n",
    "int counter = 1;\n",
    "\n",
    "while(b-- > a++) {\n",
    "    System.out.printf(\"Loop %d: a is %d, b is %d%n\", counter, a, b);\n",
    "    counter++;\n",
    "}"
=======
    "byte b = 10;\n",
    "b *= 20;\n",
    "System.out.println(b);"
>>>>>>> 070f3157b54f07342111cfd7dd0d3ad02aa8c076
   ]
  },
  {
   "cell_type": "markdown",
<<<<<<< HEAD
   "id": "d56b0e38",
   "metadata": {},
   "source": [
    "## It's possible (but pointless) to include both an import statement and the fully qualified reference for the imported class\n",
    "Java will not throw any errors if you both import a class and refer to it using its fully qualified reference (you could also mix both without error). However, to do so has no benefit."
=======
   "id": "bde1af8a",
   "metadata": {},
   "source": [
    "## String's `valueOf()` method\n",
    "The `valueOf()` method is an overloaded String method which converts various values into their String representation. It is a `static` method and thus can be called using the `String` class (e.g. `String.valueOf(x)`) or from a String object (e.g. `\"this is a string\".valueOf(x)`)."
>>>>>>> 070f3157b54f07342111cfd7dd0d3ad02aa8c076
   ]
  },
  {
   "cell_type": "code",
<<<<<<< HEAD
   "execution_count": 93,
   "id": "ab0e3efe",
=======
   "execution_count": 19,
   "id": "4d57a8fc",
>>>>>>> 070f3157b54f07342111cfd7dd0d3ad02aa8c076
   "metadata": {},
   "outputs": [
    {
     "name": "stdout",
     "output_type": "stream",
     "text": [
<<<<<<< HEAD
      "-1557467701\n",
      "[A, B, C]\n"
=======
      "convertedB is true\n",
      "convertedC is C\n",
      "convertedD is 0.56\n",
      "convertedF is 4.76\n"
>>>>>>> 070f3157b54f07342111cfd7dd0d3ad02aa8c076
     ]
    },
    {
     "data": {
      "text/plain": [
       "null"
      ]
     },
<<<<<<< HEAD
     "execution_count": 93,
=======
     "execution_count": 19,
>>>>>>> 070f3157b54f07342111cfd7dd0d3ad02aa8c076
     "metadata": {},
     "output_type": "execute_result"
    }
   ],
   "source": [
<<<<<<< HEAD
    "import java.util.ArrayList;\n",
    "import java.util.Random;\n",
    "\n",
    "\n",
    "java.util.Random r = new java.util.Random();\n",
    "System.out.println(r.nextInt());\n",
    "\n",
    "ArrayList<String> al = new java.util.ArrayList<>();\n",
    "al.add(\"A\");\n",
    "al.add(\"B\");\n",
    "al.add(\"C\");\n",
    "System.out.println(al);"
=======
    "boolean b = true;\n",
    "char c = 'C';\n",
    "double d = 0.56;\n",
    "float f = 4.76f;\n",
    "\n",
    "String convertedB = String.valueOf(b);\n",
    "String convertedC = new String().valueOf(c);\n",
    "String convertedD = \"hello\".valueOf(d);\n",
    "String convertedF = \"\".valueOf(f);\n",
    "\n",
    "System.out.printf(\"convertedB is %s%nconvertedC is %s%nconvertedD is %s%nconvertedF is %s%n\", convertedB, convertedC, convertedD, convertedF);"
   ]
  },
  {
   "cell_type": "markdown",
   "id": "410f25c2",
   "metadata": {},
   "source": [
    "## Passing an int value to the ArrayList constructor\n",
    "You can set the initial capacity of an ArrayList by passing an integer value to the constructor: `ArrayList myAL = new ArrayList(2);`. \n",
    "\n",
    "__NOTE__: the default initial capacity of ArrayList is 10 and setting an initial capacity doesn't prevent the ArrayList from automatically expanding as needed when you add to it."
   ]
  },
  {
   "cell_type": "code",
   "execution_count": 23,
   "id": "2a4fd70d",
   "metadata": {},
   "outputs": [
    {
     "data": {
      "text/plain": [
       "null"
      ]
     },
     "execution_count": 23,
     "metadata": {},
     "output_type": "execute_result"
    }
   ],
   "source": [
    "java.util.ArrayList<String> myAL = new java.util.ArrayList<>(4); // sets the initial capacity to 4"
>>>>>>> 070f3157b54f07342111cfd7dd0d3ad02aa8c076
   ]
  },
  {
   "cell_type": "markdown",
<<<<<<< HEAD
   "id": "b213244d",
   "metadata": {},
   "source": [
    "## You can use string concatenation in `printf()` also\n",
    "Since `printf()` takes a string and and then the variables to be inserted you may expect that you can't mix in string concatenation as well, however, you can as long as the strings being concatenated are passed in first (before the variables)."
=======
   "id": "f4ee59d5",
   "metadata": {},
   "source": [
    "## Remember: overloading a constructor without sufficiently changing the number/type of parameters will cause compilation error\n",
    "Be on the lookout for sample code which has overloads a constructor and check that the constructor is overloaded correctly. If there's more than one constructor declared without changing the number/type of parameters, the code will not compile."
   ]
  },
  {
   "cell_type": "code",
   "execution_count": 24,
   "id": "142621fe",
   "metadata": {},
   "outputs": [
    {
     "data": {
      "text/plain": [
       "test.beaker.ClassWithOverloadedConstructor"
      ]
     },
     "execution_count": 24,
     "metadata": {},
     "output_type": "execute_result"
    }
   ],
   "source": [
    "package test.beaker;\n",
    "// correctly overloaded constructors\n",
    "public class ClassWithOverloadedConstructor {\n",
    "    private int myInt;\n",
    "    private String myString;\n",
    "    \n",
    "    public ClassWithOverloadedConstructor(int i, String s){\n",
    "        this.myInt = 0;\n",
    "        this.myString = \"unknown\";\n",
    "    }\n",
    "    \n",
    "    public ClassWithOverloadedConstructor(int i){\n",
    "        this.myInt = i;\n",
    "        this.myString = \"unknown\";\n",
    "    }\n",
    "    \n",
    "    public ClassWithOverloadedConstructor(String s){\n",
    "        this.myInt = 0;\n",
    "        this.myString = s;\n",
    "    }\n",
    "}"
>>>>>>> 070f3157b54f07342111cfd7dd0d3ad02aa8c076
   ]
  },
  {
   "cell_type": "code",
<<<<<<< HEAD
   "execution_count": 100,
   "id": "358e3dc6",
=======
   "execution_count": 26,
   "id": "a1b28b0c",
>>>>>>> 070f3157b54f07342111cfd7dd0d3ad02aa8c076
   "metadata": {},
   "outputs": [
    {
     "name": "stdout",
     "output_type": "stream",
     "text": [
<<<<<<< HEAD
      "My string variable is foo\n",
      "My boolean variable is true\n",
      "My double variable is 2.00"
=======
      "test.beaker.ClassWithOverloadedConstructor@7d4535d9\n"
>>>>>>> 070f3157b54f07342111cfd7dd0d3ad02aa8c076
     ]
    },
    {
     "data": {
      "text/plain": [
       "null"
      ]
     },
<<<<<<< HEAD
     "execution_count": 100,
=======
     "execution_count": 26,
>>>>>>> 070f3157b54f07342111cfd7dd0d3ad02aa8c076
     "metadata": {},
     "output_type": "execute_result"
    }
   ],
   "source": [
<<<<<<< HEAD
    "String s = \"foo\";\n",
    "boolean b = true;\n",
    "double d = 2.0;\n",
    "\n",
    "System.out.printf(\"My string variable is %s\" + \"\\nMy boolean variable is %b\" + \"\\nMy double variable is %.2f\", s, b, d);"
=======
    "package test.beaker;\n",
    "\n",
    "ClassWithOverloadedConstructor myObj1 = new ClassWithOverloadedConstructor(14);\n",
    "ClassWithOverloadedConstructor myObj2 = new ClassWithOverloadedConstructor(\"foo\");\n",
    "ClassWithOverloadedConstructor myObj3 = new ClassWithOverloadedConstructor(26, \"bar\");"
   ]
  },
  {
   "cell_type": "code",
   "execution_count": 27,
   "id": "05899a44",
   "metadata": {},
   "outputs": [
    {
     "ename": "ERROR",
     "evalue": " java.lang.IllegalStateException",
     "output_type": "error",
     "traceback": [
      "\u001b[1;31mERROR: java.lang.IllegalStateException: constructor BadOverloading(java.lang.String) is already defined in class test.beaker.BadOverloading\u001b[0;0m",
      "\u001b[1;31m public BadOverloading(String c) { this.myStr1 = \"unknown\"; this.myStr2 = c; }\u001b[0;0m",
      "\u001b[1;31m ^                                                                            ^ \u001b[0;0m"
     ]
    }
   ],
   "source": [
    "package test.beaker;\n",
    "\n",
    "public class BadOverloading {\n",
    "    private String myStr1;\n",
    "    private String myStr2;\n",
    "    \n",
    "    public BadOverloading(String b) { // constructor with one string parameter\n",
    "        this.myStr1 = b;\n",
    "        this.myStr2 = \"unknown\";\n",
    "    }\n",
    "    \n",
    "    public BadOverloading(String c) { // constructor with one string parameter\n",
    "        this.myStr1 = \"unknown\";\n",
    "        this.myStr2 = c;\n",
    "    }\n",
    "}"
>>>>>>> 070f3157b54f07342111cfd7dd0d3ad02aa8c076
   ]
  },
  {
   "cell_type": "code",
   "execution_count": null,
<<<<<<< HEAD
   "id": "39d3e17f",
=======
   "id": "fed5ffd9",
>>>>>>> 070f3157b54f07342111cfd7dd0d3ad02aa8c076
   "metadata": {},
   "outputs": [],
   "source": []
  }
 ],
 "metadata": {
  "kernelspec": {
   "display_name": "Java",
   "language": "java",
   "name": "java"
  },
  "language_info": {
   "codemirror_mode": "text/x-java",
   "file_extension": ".java",
   "mimetype": "",
   "name": "Java",
   "nbconverter_exporter": "",
   "version": "1.8.0_121"
  },
  "toc": {
   "base_numbering": 1,
   "nav_menu": {},
   "number_sections": false,
   "sideBar": false,
   "skip_h1_title": false,
   "title_cell": "Table of Contents",
   "title_sidebar": "Contents",
   "toc_cell": false,
   "toc_position": {},
   "toc_section_display": false,
   "toc_window_display": false
  }
 },
 "nbformat": 4,
 "nbformat_minor": 5
}
