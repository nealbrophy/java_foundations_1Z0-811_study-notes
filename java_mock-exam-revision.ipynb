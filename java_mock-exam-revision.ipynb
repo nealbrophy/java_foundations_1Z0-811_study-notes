{
 "cells": [
  {
   "cell_type": "markdown",
   "id": "44666fed",
   "metadata": {},
   "source": [
    "# Java Mock-Exam Revision"
   ]
  },
  {
   "cell_type": "markdown",
   "id": "268f1a20",
   "metadata": {},
   "source": [
    "## Import statements in exam questions\n",
    "According to the Oracle website: *if sample code do not include package or import statements and the question doesn't explicitly refer to these missing statements, then assume that all sample code is in the same package or import statements exist to support them*. __However__, in several mock tests assuming import statements were present resulted in incorrect answers. So, it would seem that the the advice isn't always applicable. Upon querying it with eCollege instructors I received the following feedback:\n",
    "- *In the Oracle exam, they won't try and trick you regarding missing import statements. If the question is testing you about imports statements, the point will be clearly made. The key is to watch out for line numbers. If you can clearly see Line 1 marked in the program, you know that there are no previous lines.*\n",
    "- If there are no line numbers...*We don't know what statements there are on Lines 1-3. In the question, unless told to the contrary, we have to then assume that the import statements are present on Lines 1-3.*"
   ]
  },
  {
   "cell_type": "markdown",
   "id": "1d498ee5",
   "metadata": {},
   "source": [
    "## `Iterator`\n",
    "The `Iterator` class is in the `java.util` package and allows for the creation of an iterator object."
   ]
  },
  {
   "cell_type": "markdown",
   "id": "228f312b",
   "metadata": {},
   "source": [
    "## `Random`\n",
    "The `Random` class is in the `java.util` package and allows for the creation of pseudo-random numbers."
   ]
  },
  {
   "cell_type": "markdown",
   "id": "9442a8bd",
   "metadata": {},
   "source": [
    "## `substring()`\n",
    "The first argument passed to the `substring()` method is a __zero-based__ index but the second argument passed is __one-based__ *AND* __inclusive__. So `substring(1,10)` defines the target as starting at the second index and ending at the tenth. \n",
    "\n",
    "__NOTE:__ The value of `substring` isn't stored in memory unless assigned to a variable."
   ]
  },
  {
   "cell_type": "code",
   "execution_count": 4,
   "id": "dffca4fe",
   "metadata": {},
   "outputs": [
    {
     "name": "stdout",
     "output_type": "stream",
     "text": [
      "The char at zero-based index 1 is \"e\"\n",
      "The char at zero-based index 10 is \"d\"\n",
      "The substring starting at zero-based index 1 and ending at ONE-based index 10 is \"ello Worl\"\n"
     ]
    },
    {
     "data": {
      "text/plain": [
       "null"
      ]
     },
     "execution_count": 4,
     "metadata": {},
     "output_type": "execute_result"
    }
   ],
   "source": [
    "String myLongString = \"Hello World!\";\n",
    "String myShortString = myLongString.substring(1,10);\n",
    "char startIndex = myLongString.charAt(1);\n",
    "char endIndex = myLongString.charAt(10);\n",
    "System.out.printf(\"The char at zero-based index 1 is \\\"%s\\\"%nThe char at zero-based index 10 is \\\"%s\\\"%nThe substring starting at zero-based index 1 and ending at ONE-based index 10 is \\\"%s\\\"%n\", \n",
    "                  startIndex, \n",
    "                  endIndex, \n",
    "                  myShortString);"
   ]
  },
  {
   "cell_type": "markdown",
   "id": "f38f13ff",
   "metadata": {},
   "source": [
    "## `switch` statement's `default` argument\n",
    "A `switch` statement's `default` label can be placed anywhere (i.e. it doesn't need to be the last option in a `switch`) and will only be selected if the rest of the `case` branches aren't selected. *However*, the rule regarding `break` still applies; so if you don't include the `break` keyword within your default branch any other outputs below will be executed until the next `break` or the end of the switch statement is reached."
   ]
  },
  {
   "cell_type": "code",
   "execution_count": 7,
   "id": "a17c9d0d",
   "metadata": {},
   "outputs": [
    {
     "name": "stdout",
     "output_type": "stream",
     "text": [
      "The word is \"Rest\"\n"
     ]
    },
    {
     "data": {
      "text/plain": [
       "null"
      ]
     },
     "execution_count": 7,
     "metadata": {},
     "output_type": "execute_result"
    }
   ],
   "source": [
    "String myString = \"Rest\";\n",
    "switch (myString) {\n",
    "    default:\n",
    "        System.out.println(\"None of the words have been found\");\n",
    "    case \"Best\":\n",
    "        System.out.println(\"The word is \\\"Best\\\"\");\n",
    "        break;\n",
    "    case \"Rest\":\n",
    "        System.out.println(\"The word is \\\"Rest\\\"\");\n",
    "        break;\n",
    "    case \"Nest\":\n",
    "        System.out.println(\"The word is \\\"Test\\\"\");\n",
    "        break;\n",
    "}"
   ]
  },
  {
   "cell_type": "markdown",
   "id": "55e46ba6",
   "metadata": {},
   "source": [
    "## Overloading methods\n",
    "To overload a method you need to change either the number or type of the parameters (the arguments passed to the method). It's not enough to change to just change the return type. So the following would result in a compile error:\n",
    "<br>\n",
    "<br>`public int addNums(int a, int b) {`\n",
    "<br>&nbsp;&nbsp;&nbsp;&nbsp;`return (a + b);`\n",
    "<br>`}`\n",
    "<br>\n",
    "<br>`public float addNums(int a, int b) {`\n",
    "<br>&nbsp;&nbsp;&nbsp;&nbsp;`return (a + b);`\n",
    "<br>`}`"
   ]
  },
  {
   "cell_type": "code",
   "execution_count": 9,
   "id": "a778f5bd",
   "metadata": {},
   "outputs": [
    {
     "ename": "ERROR",
     "evalue": " java.lang.IllegalStateException",
     "output_type": "error",
     "traceback": [
      "\u001b[1;31mERROR: java.lang.IllegalStateException: method addNums(int,int) is already defined in class test.beaker.NumClass\u001b[0;0m",
      "\u001b[1;31m public float addNums(int a, int b) { return (a + b); }\u001b[0;0m",
      "\u001b[1;31m ^                                                     ^ \u001b[0;0m"
     ]
    }
   ],
   "source": [
    "package test.beaker;\n",
    "\n",
    "public class NumClass {\n",
    "    public int addNums(int a, int b) {\n",
    "    return (a + b);\n",
    "    }\n",
    "\n",
    "    public float addNums(int a, int b) {\n",
    "        return (a + b);\n",
    "    }\n",
    "}"
   ]
  },
  {
   "cell_type": "markdown",
   "id": "9c71dd50",
   "metadata": {},
   "source": [
    "## `compareTo()`\n",
    "The `.compareTo()` String method will compare two strings *lexicographically* __character-by-character__ based on the unicode code-point value of each character and return an `int` which is the difference between the strings. The comparison will be from the perspective of the string it is called on. So, in this example:\n",
    "<br>\n",
    "<br>`String strA = \"Hello\";`\n",
    "<br>`String strB = \"World\";`\n",
    "<br>`System.out.println(strA.compareTo(strB));`\n",
    "\n",
    "If `strA` has a higher code-point value the value printed will be a positive integer. If `strA` has a lower code-point value the value will be a negative integer. If both strings have the same value `0` will be printed."
   ]
  },
  {
   "cell_type": "code",
   "execution_count": 14,
   "id": "0bc32fb4",
   "metadata": {},
   "outputs": [
    {
     "name": "stdout",
     "output_type": "stream",
     "text": [
      "32\n"
     ]
    },
    {
     "data": {
      "text/plain": [
       "null"
      ]
     },
     "execution_count": 14,
     "metadata": {},
     "output_type": "execute_result"
    }
   ],
   "source": [
    "String firstString = \"hello World\";\n",
    "String secondString = \"Hello World\";\n",
    "System.out.println(firstString.compareTo(secondString));"
   ]
  },
  {
   "cell_type": "markdown",
   "id": "9d9717e2",
   "metadata": {},
   "source": [
    "## `System.out.format()`\n",
    "The `System.out.format()` functions virtually identical to `System.out.println()`"
   ]
  },
  {
   "cell_type": "code",
   "execution_count": 15,
   "id": "62f38f6d",
   "metadata": {},
   "outputs": [
    {
     "name": "stdout",
     "output_type": "stream",
     "text": [
      "Hello\n",
      "World"
     ]
    },
    {
     "data": {
      "text/plain": [
       "null"
      ]
     },
     "execution_count": 15,
     "metadata": {},
     "output_type": "execute_result"
    }
   ],
   "source": [
    "System.out.println(\"Hello\");\n",
    "System.out.format(\"World\");"
   ]
  },
  {
   "cell_type": "markdown",
   "id": "02a01fc0",
   "metadata": {},
   "source": [
    "## Any decimal not explicitly declared or casted as a `float` will be treated as a `double`\n",
    "Anytime you want to use a decimal number, you need to either explicitly cast it as a `float` or treat it as a `double`."
   ]
  },
  {
   "cell_type": "code",
   "execution_count": 32,
   "id": "8e81d73e",
   "metadata": {},
   "outputs": [
    {
     "data": {
      "text/plain": [
       "test.beaker.DecimalsTest"
      ]
     },
     "execution_count": 32,
     "metadata": {},
     "output_type": "execute_result"
    }
   ],
   "source": [
    "package test.beaker;\n",
    "\n",
    "public class DecimalsTest {\n",
    "    public void myFloats(float a, float b) {\n",
    "        System.out.println(a+b);\n",
    "    }\n",
    "}"
   ]
  },
  {
   "cell_type": "code",
   "execution_count": 36,
   "id": "a54318f6",
   "metadata": {},
   "outputs": [
    {
     "ename": "incompatible types",
     "evalue": " possible lossy conversion from double to float",
     "output_type": "error",
     "traceback": [
      "\u001b[1;31mincompatible types: possible lossy conversion from double to float\u001b[0;0m",
      "\u001b[1;31m failTest.myFloats(2.5,4.1)\u001b[0;0m",
      "\u001b[1;31m                   ^  ^      \u001b[0;0m",
      "\u001b[1;31m\u001b[0;0m",
      "\u001b[1;31mSome messages have been simplified; recompile with -Xdiags:verbose to get full output\u001b[0;0m"
     ]
    }
   ],
   "source": [
    "package test.beaker;\n",
    "\n",
    "DecimalsTest failTest = new DecimalsTest();\n",
    "\n",
    "failTest.myFloats(2.5,4.1); // will cause error as the decimals are assumed to be doubles unless declared/cast as floats"
   ]
  },
  {
   "cell_type": "code",
   "execution_count": 37,
   "id": "10c5c9c2",
   "metadata": {},
   "outputs": [
    {
     "name": "stdout",
     "output_type": "stream",
     "text": [
      "6.6\n"
     ]
    },
    {
     "data": {
      "text/plain": [
       "null"
      ]
     },
     "execution_count": 37,
     "metadata": {},
     "output_type": "execute_result"
    }
   ],
   "source": [
    "package test.beaker;\n",
    "\n",
    "DecimalsTest myTest = new DecimalsTest();\n",
    "\n",
    "myTest.myFloats(2.5f,4.1f); // will work since we've declared the numbers as floats using \"f\""
   ]
  },
  {
   "cell_type": "markdown",
   "id": "3f8b2141",
   "metadata": {},
   "source": [
    "## Declaring constructors\n",
    "If you declare a constructor in your class the default no-argument constructor is no longer implicitly declared by Java. This means that if you don't declare a no-argument version of your constructor then trying to instantiate an object from your class without passing any arguments will cause an error. This isn't necessarily undesirable behaviour, you may not want your constructor to accept a no-argument instantiation but is something to be aware of.\n",
    "\n",
    "Additionally, if you create a subclass which extends a class which has an overridden constructor (and doesn't declare a no-argument version of the constructor) you will need to override the default constructor in your subclass as the default constructor implicitly calls `super()` and since the superclass' default constructor was overridden there's no no-argument constructor to be executed leading to a compilation error."
   ]
  },
  {
   "cell_type": "markdown",
   "id": "df9de637",
   "metadata": {},
   "source": [
    "## Multiple `catch` statements\n",
    "If you have multiple `catch` statements you __MUST__ declare them in order from most specific/concrete to least specific/most abstract otherwise you will receive a compilation error. If you get a question with sample code that includes chained `catch` statements make sure to keep this in mind."
   ]
  },
  {
   "cell_type": "markdown",
   "id": "739d5399",
   "metadata": {},
   "source": [
    "## `try`/`finally` \n",
    "The following try/catch/finally combinations are all acceptable:\n",
    "<br>\n",
    "<br>`try {...} catch {...}`\n",
    "<br>`try {...} catch {...} finally {...}`\n",
    "<br>`try {...} finally {...}`"
   ]
  },
  {
   "cell_type": "code",
   "execution_count": 40,
   "id": "47889cf9",
   "metadata": {},
   "outputs": [
    {
     "name": "stdout",
     "output_type": "stream",
     "text": [
      "Hello\n",
      "World\n"
     ]
    },
    {
     "data": {
      "text/plain": [
       "null"
      ]
     },
     "execution_count": 40,
     "metadata": {},
     "output_type": "execute_result"
    }
   ],
   "source": [
    "try {\n",
    "    System.out.println(\"Hello\");\n",
    "}\n",
    "\n",
    "finally {\n",
    "    System.out.println(\"World\");\n",
    "}"
   ]
  },
  {
   "cell_type": "markdown",
   "id": "f5280a9e",
   "metadata": {},
   "source": [
    "## `Iterator` is an `interface`\n",
    "As `Iterator` is an `interface` it cannot be instantiated. To create an `Iterator` you must:\n",
    "1. import it from *java.util*\n",
    "<br>`import java.util.Iterator;`\n",
    "<br><br>\n",
    "2. declare a variable to hold it\n",
    "<br>`Iterator<String> myIter;`\n",
    "<br><br>\n",
    "3. assign a collection object's iterator method to it\n",
    "<br>`myIter = myArrayList.iterator();`\n",
    "<br><br>\n",
    "__NOTE__: Alternatively you can combine 2 & 3 above\n",
    "<br>`Iterator<String> myIter = myArrayList.iterator();`"
   ]
  },
  {
   "cell_type": "code",
   "execution_count": 1,
   "id": "f4b8e301",
   "metadata": {},
   "outputs": [
    {
     "name": "stdout",
     "output_type": "stream",
     "text": [
      "A\n",
      "B\n",
      "C\n"
     ]
    },
    {
     "data": {
      "text/plain": [
       "null"
      ]
     },
     "execution_count": 1,
     "metadata": {},
     "output_type": "execute_result"
    }
   ],
   "source": [
    "import java.util.Iterator;\n",
    "import java.util.ArrayList;\n",
    "\n",
    "ArrayList<String> myArrayList = new ArrayList<>();\n",
    "myArrayList.add(\"A\");\n",
    "myArrayList.add(\"B\");\n",
    "myArrayList.add(\"C\");\n",
    "Iterator<String> myIter;\n",
    "myIter = myArrayList.iterator();\n",
    "\n",
    "while (myIter.hasNext()) {\n",
    "    System.out.println(myIter.next());\n",
    "}"
   ]
  },
  {
   "cell_type": "markdown",
   "id": "12a7f480",
   "metadata": {},
   "source": [
    "## `IOException` is a *checked* exception\n",
    "`IOException` is a checked exception and thus must be handled or declared to avoid compilation errors."
   ]
  },
  {
   "cell_type": "markdown",
   "id": "767fbe65",
   "metadata": {},
   "source": [
    "## Declared exceptions must be handled or thrown by the calling method\n",
    "If you declare an exception in a method signature (e.g. `myMethod() throws Exception {}`) the exception will need to be caught or handled my the calling method even if you include a try/catch statement in the method throwing the exception. For example if we declare the following:\n",
    "<br>\n",
    "<br>`public void myMethod() throws Exception {`\n",
    "<br>&nbsp;&nbsp;&nbsp;&nbsp;`try {...}`\n",
    "<br>&nbsp;&nbsp;&nbsp;&nbsp;`catch(Exception e) {`\n",
    "<br>&nbsp;&nbsp;&nbsp;&nbsp;&nbsp;&nbsp;&nbsp;&nbsp;`System.out.println(e);`\n",
    "<br>&nbsp;&nbsp;&nbsp;&nbsp;`}`\n",
    "<br>`}`\n",
    "\n",
    "Even thought we've included a try/catch here we will need to either handle or declare the exception wherever this method is called because we've explicitly stated that *myMethod* will throw its exception."
   ]
  },
  {
   "cell_type": "markdown",
   "id": "4e8e938c",
   "metadata": {},
   "source": [
    "## It's permitted to instantiate objects without assigning to a variable\n",
    "An object doesn't necessarily need to be assigned to a variable in order to be instantiated. For example, lets say you have a class with several static variables keeping track of how many objects are instantiated and you then instantiate several objects using only `new Objectname();`, those instantiations will still be counted by the static variable even though you haven't assigned them to a variable and thus can't do anything further with them."
   ]
  },
  {
   "cell_type": "code",
   "execution_count": 4,
   "id": "432493ad",
   "metadata": {},
   "outputs": [
    {
     "data": {
      "text/plain": [
       "test.beaker.ClsWithObjectCounter"
      ]
     },
     "execution_count": 4,
     "metadata": {},
     "output_type": "execute_result"
    }
   ],
   "source": [
    "// beaker test pkg\n",
    "package test.beaker;\n",
    "\n",
    "// create class\n",
    "public class ClsWithObjectCounter {\n",
    "    // private class var\n",
    "    private static int numObjCreated;\n",
    "    \n",
    "    // constructor\n",
    "    public ClsWithObjectCounter() {\n",
    "        numObjCreated++; // increment static var\n",
    "    }\n",
    "    \n",
    "    // getter method\n",
    "    public static int getNumObjCreated() {\n",
    "        return numObjCreated;\n",
    "    }\n",
    "}"
   ]
  },
  {
   "cell_type": "code",
   "execution_count": 5,
   "id": "3c66c5d9",
   "metadata": {},
   "outputs": [
    {
     "name": "stdout",
     "output_type": "stream",
     "text": [
      "2\n"
     ]
    },
    {
     "data": {
      "text/plain": [
       "null"
      ]
     },
     "execution_count": 5,
     "metadata": {},
     "output_type": "execute_result"
    }
   ],
   "source": [
    "// beaker test pkg\n",
    "package test.beaker;\n",
    "\n",
    "// instantiate some objects without assigning to variables\n",
    "new ClsWithObjectCounter();\n",
    "new ClsWithObjectCounter();\n",
    "\n",
    "// print the number of objects instantiated\n",
    "System.out.println(ClsWithObjectCounter.getNumObjCreated());"
   ]
  },
  {
   "cell_type": "markdown",
   "id": "b223ea36",
   "metadata": {},
   "source": [
    "## non \"type-safe\" ArrayList can store any object reference\n",
    "Declaring an ArrayList as type-safe using `<Type>` is the recommended practice, however, Java will not prevent you from declaring an ArrayList without this. If you create an ArrayList that isn't type-save you can store any object reference in it."
   ]
  },
  {
   "cell_type": "code",
   "execution_count": 11,
   "id": "5bad35a3",
   "metadata": {},
   "outputs": [
    {
     "data": {
      "text/plain": [
       "test.beaker.Scooter"
      ]
     },
     "execution_count": 11,
     "metadata": {},
     "output_type": "execute_result"
    }
   ],
   "source": [
    "// beakerx test pkg\n",
    "package test.beaker;\n",
    "\n",
    "// create an arbitrary class to use\n",
    "class Scooter {}"
   ]
  },
  {
   "cell_type": "code",
   "execution_count": 13,
   "id": "2c61dc85",
   "metadata": {},
   "outputs": [
    {
     "ename": "no suitable method found for add(test.beaker.Scooter)",
     "evalue": "no suitable method found for add(test.beaker.Scooter)",
     "output_type": "error",
     "traceback": [
      "\u001b[1;31mno suitable method found for add(test.beaker.Scooter)\u001b[0;0m",
      "\u001b[1;31m    method java.util.Collection.add(java.lang.String) is not applicable\u001b[0;0m",
      "\u001b[1;31m      (argument mismatch; test.beaker.Scooter cannot be converted to java.lang.String)\u001b[0;0m",
      "\u001b[1;31m    method java.util.List.add(java.lang.String) is not applicable\u001b[0;0m",
      "\u001b[1;31m      (argument mismatch; test.beaker.Scooter cannot be converted to java.lang.String)\u001b[0;0m",
      "\u001b[1;31m    method java.util.AbstractCollection.add(java.lang.String) is not applicable\u001b[0;0m",
      "\u001b[1;31m      (argument mismatch; test.beaker.Scooter cannot be converted to java.lang.String)\u001b[0;0m",
      "\u001b[1;31m    method java.util.AbstractList.add(java.lang.String) is not applicable\u001b[0;0m",
      "\u001b[1;31m      (argument mismatch; test.beaker.Scooter cannot be converted to java.lang.String)\u001b[0;0m",
      "\u001b[1;31m    method java.util.ArrayList.add(java.lang.String) is not applicable\u001b[0;0m",
      "\u001b[1;31m      (argument mismatch; test.beaker.Scooter cannot be converted to java.lang.String)\u001b[0;0m",
      "\u001b[1;31m myStringAL.add(new Scooter())\u001b[0;0m",
      "\u001b[1;31m ^             ^                \u001b[0;0m",
      "\u001b[1;31m\u001b[0;0m",
      "\u001b[1;31mSome messages have been simplified; recompile with -Xdiags:verbose to get full output\u001b[0;0m"
     ]
    }
   ],
   "source": [
    "// beakerx test pkg\n",
    "package test.beaker;\n",
    "\n",
    "// import ArrayList\n",
    "import java.util.ArrayList;\n",
    "\n",
    "// create an ArrayList type-safe as Strings only\n",
    "ArrayList<String> myStringAL = new ArrayList<>();\n",
    "myStringAL.add(\"Hello\");\n",
    "myStringAL.add(new String(\"World\"));\n",
    "myStringAL.add(new Scooter()); // this will cause an error as we declared myStringAL to be String objects only\n",
    "System.out.println(myStringAL);"
   ]
  },
  {
   "cell_type": "code",
   "execution_count": 14,
   "id": "360b4e6d",
   "metadata": {},
   "outputs": [
    {
     "name": "stdout",
     "output_type": "stream",
     "text": [
      "[Hello, World, test.beaker.Scooter@5aace2fd]\n"
     ]
    },
    {
     "data": {
      "text/plain": [
       "null"
      ]
     },
     "execution_count": 14,
     "metadata": {},
     "output_type": "execute_result"
    }
   ],
   "source": [
    "// beakerx test pkg\n",
    "package test.beaker;\n",
    "\n",
    "// import ArrayList\n",
    "import java.util.ArrayList;\n",
    "\n",
    "// create an ArrayList without declaring object type\n",
    "ArrayList myUnsafeAL = new ArrayList();\n",
    "myUnsafeAL.add(\"Hello\");\n",
    "myUnsafeAL.add(new String(\"World\"));\n",
    "myUnsafeAL.add(new Scooter()); // this will work as the un-safe ArrayList will take ANY object reference\n",
    "System.out.println(myUnsafeAL);"
   ]
  },
  {
   "cell_type": "markdown",
   "id": "c07a1d24",
   "metadata": {},
   "source": [
    "## The `%f` placeholder of `printf`/`format` can round decimals\n",
    "If you specify the number of decimal places to be used in the `%f` placeholder within a `printf` or `format` the decimal will be rounded as needed.\n",
    "\n",
    "__NOTE__: standard rounding rules apply (i.e. decimals of `.5` and above round UP, so `3.500` rounds UP to `4`)"
   ]
  },
  {
   "cell_type": "code",
   "execution_count": 29,
   "id": "eae3e607",
   "metadata": {},
   "outputs": [
    {
     "name": "stdout",
     "output_type": "stream",
     "text": [
      "My float is 12.435000\n",
      "My rounded floar is 12.44\n"
     ]
    },
    {
     "data": {
      "text/plain": [
       "null"
      ]
     },
     "execution_count": 29,
     "metadata": {},
     "output_type": "execute_result"
    }
   ],
   "source": [
    "float myFloat = 12.435f;\n",
    "System.out.format(\"My float is %f%n\", myFloat); // no decimal spaces specified so full float will print\n",
    "System.out.printf(\"My rounded floar is %.2f%n\", myFloat); // rounded to 2 decimal places"
   ]
  },
  {
   "cell_type": "markdown",
   "id": "b7f89ab8",
   "metadata": {},
   "source": [
    "## Incorrectly overloaded methods will fail at compilation\n",
    "If a method is incorrectly overloaded, the program will fail to compile (i.e. the program won't compile and then fail at runtime)."
   ]
  },
  {
   "cell_type": "code",
   "execution_count": 30,
   "id": "394202f5",
   "metadata": {},
   "outputs": [
    {
     "ename": "ERROR",
     "evalue": " java.lang.IllegalStateException",
     "output_type": "error",
     "traceback": [
      "\u001b[1;31mERROR: java.lang.IllegalStateException: method printStuff() is already defined in class test.beaker.MyNewClass\u001b[0;0m",
      "\u001b[1;31m public String printStuff() { return \"Stuff\"; }\u001b[0;0m",
      "\u001b[1;31m ^                                             ^ \u001b[0;0m"
     ]
    }
   ],
   "source": [
    "// beakerx test pkg\n",
    "package test.beaker;\n",
    "\n",
    "// create a class\n",
    "class MyNewClass {\n",
    "    public void printStuff() {\n",
    "        System.out.println(\"Stuff\");\n",
    "    }\n",
    "    \n",
    "    public String printStuff() { // incorrecty overloaded as changing return type only isn't sufficient, type/number of parameters needs to change also\n",
    "        return \"Stuff\";\n",
    "    }\n",
    "}"
   ]
  },
  {
   "cell_type": "markdown",
   "id": "d4264081",
   "metadata": {},
   "source": [
    "## You can't declare `private` *local* variables\n",
    "The `private` access modifier can only be used when declaring class/object variables __NOT__ local (e.g. method) variables."
   ]
  },
  {
   "cell_type": "code",
   "execution_count": 36,
   "id": "f95456fd",
   "metadata": {},
   "outputs": [
    {
     "data": {
      "text/plain": [
       "test.beaker.AccessTest"
      ]
     },
     "execution_count": 36,
     "metadata": {},
     "output_type": "execute_result"
    }
   ],
   "source": [
    "// beakerx test pkg\n",
    "package test.beaker;\n",
    "\n",
    "// create class with private var\n",
    "public class AccessTest {\n",
    "    private boolean secretVar = true; // will work as this is a class var\n",
    "}"
   ]
  },
  {
   "cell_type": "code",
   "execution_count": 37,
   "id": "8ed297e2",
   "metadata": {},
   "outputs": [
    {
     "ename": "ERROR",
     "evalue": " java.lang.IllegalStateException",
     "output_type": "error",
     "traceback": [
      "\u001b[1;31mERROR: java.lang.IllegalStateException: illegal start of expression\u001b[0;0m",
      "\u001b[1;31m private boolean secretVar = tr\u001b[0;0m",
      "\u001b[1;31m ^                              \u001b[0;0m"
     ]
    }
   ],
   "source": [
    "// beakerx test pkg\n",
    "package test.beakerx;\n",
    "\n",
    "// extend the AccessTest class and add a method with a private local var\n",
    "public class ExtraAccess extends AccessTest {\n",
    "    public void thingPrinter() {\n",
    "        private boolean secretVar = true; // will caues an error\n",
    "        System.out.println(secretVar);\n",
    "    }\n",
    "}"
   ]
  },
  {
   "cell_type": "markdown",
   "id": "9fea0ad0",
   "metadata": {},
   "source": [
    "## A non-static method __CANNOT__ be called from a static context\n",
    "Variables/methods declared as `static` can be called without instantiating an object. Non-static variables/methods (any var or method that isn't explicitly declared as `static`) can only be called from an instantiated object.\n",
    "\n",
    "For example, if we have a TextObject class with a printString method declared like this:\n",
    "<br>\n",
    "<br>`public class TextObject {`\n",
    "<br>&nbsp;&nbsp;&nbsp;&nbsp;`public void printString(String foo) {`\n",
    "<br>&nbsp;&nbsp;&nbsp;&nbsp;&nbsp;&nbsp;&nbsp;&nbsp;`System.out.println(foo);`\n",
    "<br>&nbsp;&nbsp;&nbsp;&nbsp;`}`\n",
    "\n",
    "We cannot call that method without instantiating an object, for example trying to call it from a main method like this:\n",
    "<br>\n",
    "<br>`public static void main (String [] args) {`\n",
    "<br>&nbsp;&nbsp;&nbsp;&nbsp;`printString(\"Hello\");`\n",
    "<br>&nbsp;&nbsp;&nbsp;&nbsp;`}`"
   ]
  },
  {
   "cell_type": "code",
   "execution_count": 48,
   "id": "1c1ceb78",
   "metadata": {},
   "outputs": [
    {
     "ename": "ERROR",
     "evalue": " java.lang.IllegalStateException",
     "output_type": "error",
     "traceback": [
      "\u001b[1;31mERROR: java.lang.IllegalStateException: non-static method test() cannot be referenced from a static context\u001b[0;0m",
      "\u001b[1;31m test()\u001b[0;0m",
      "\u001b[1;31m ^   ^   \u001b[0;0m"
     ]
    }
   ],
   "source": [
    "// create a class\n",
    "public class MyTest {\n",
    "    \n",
    "    // non-static \"test\" method\n",
    "    public void test() {\n",
    "        return;\n",
    "    }\n",
    "    \n",
    "    // call method from the static main method\n",
    "    public static void main (String [] args) {\n",
    "        test();\n",
    "    }\n",
    "}"
   ]
  },
  {
   "cell_type": "code",
   "execution_count": null,
   "id": "3f9264e4",
   "metadata": {},
   "outputs": [],
   "source": []
  }
 ],
 "metadata": {
  "kernelspec": {
   "display_name": "Java",
   "language": "java",
   "name": "java"
  },
  "language_info": {
   "codemirror_mode": "text/x-java",
   "file_extension": ".java",
   "mimetype": "",
   "name": "Java",
   "nbconverter_exporter": "",
   "version": "1.8.0_121"
  },
  "toc": {
   "base_numbering": 1,
   "nav_menu": {},
   "number_sections": false,
   "sideBar": false,
   "skip_h1_title": false,
   "title_cell": "Table of Contents",
   "title_sidebar": "Contents",
   "toc_cell": false,
   "toc_position": {},
   "toc_section_display": false,
   "toc_window_display": false
  }
 },
 "nbformat": 4,
 "nbformat_minor": 5
}
