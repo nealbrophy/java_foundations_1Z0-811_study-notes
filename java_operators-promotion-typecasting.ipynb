{
 "cells": [
  {
   "cell_type": "markdown",
   "id": "9bc47514",
   "metadata": {},
   "source": [
    "# Operators, Promotion, and Type casting"
   ]
  },
  {
   "cell_type": "markdown",
   "id": "53fff849",
   "metadata": {},
   "source": [
    "## Order of operations\n",
    "As with most programming languages a clear order of operations needs to be set for occasions when multiple operations are requested at the same time. Java's order of operations is as follows:\n",
    "\n",
    "Code|Meaning|Importance\n",
    ":--|:--|:--\n",
    "`()`|Parentheses|1\n",
    "`++`&`--`|Increment/Decrement|2\n",
    "`*`&`/`|Multiplication/Division|3\n",
    "`*`&`-`|Addition/Subtraction|4\n",
    "\n",
    "If multiple operations of the same importance are requested at the same time they are evaluated from left to right."
   ]
  },
  {
   "cell_type": "markdown",
   "id": "401d74e9",
   "metadata": {},
   "source": [
    "## Binary operators\n",
    "Binary operators are operators which take two \"operands\" e.g. *add this to that*.\n",
    "\n",
    "Operator|Name|Usage|Example\n",
    ":--|:--|:--|:--\n",
    "`+`|Plus|Add numerical values/concatenate strings w/ other strings, variables etc|`System.out.println(\"I am \"+myAge+\" years old\")`\n",
    "`-`|Minus|Subtract numerical values|`netSalary = grossSalary - taxDue`\n",
    "`*`|Times|Multiplication/Duplication|`bunnyMultiplier = bunny * 2`\n",
    "`/`|Divide|Division|`System.out.println(42/12)`\n",
    "`%`|Modulus/Remainder|Returns remainder of division|`System.out.print(12%11) // prints 1`\n",
    "\n",
    "__NOTE__: *division by zero will result in an error message*"
   ]
  },
  {
   "cell_type": "markdown",
   "id": "562d7869",
   "metadata": {},
   "source": [
    "## Unary operators\n",
    "Unary operators only take one operand e.g. *increase this by 1*.\n",
    "\n",
    "Operator|Name|Usage\n",
    ":--|:--|:--\n",
    "`+`|Unary Plus|Indicates positive value\n",
    "`-`|Unary Minus|Indicates negative value\n",
    "`++`|Increment|Increase by 1\n",
    "`--`|Decrement|Decrease by 1\n",
    "`!`|Logical complement|Inverts the value of a boolean"
   ]
  },
  {
   "cell_type": "markdown",
   "id": "8558c46e",
   "metadata": {},
   "source": [
    "## Assignment operators\n",
    "As you'd expect, assignment operators assign a value.\n",
    "\n",
    "Operator|Name|Description|Example\n",
    ":--|:--|:--|:--\n",
    "`=`|equals|Assigns the value on the right to the item on the left|`myInt = 10`\n",
    "`+=`|plus-equals|Increases and assigns the item on the left by the item on the right|`myInt += 1`\n",
    "`-=`|minus-equals|Decreases and assigns the item on the left by the item on the right|`myInt -= 4`\n",
    "`*=`|times-equals|Multiplies and assigns the item on the left by the item on the right|`myInt *= 3`\n",
    "`/=`|divide-equals|Divides and assigns the item on the left by the on the right|`myInt /= 2`\n",
    "`%=`|remainder-equals|Gets the remainder of the item on the left divided by the item on the right and assigns|`myInt %= 1`"
   ]
  },
  {
   "cell_type": "markdown",
   "id": "944bc326",
   "metadata": {},
   "source": [
    "## Logical operators\n",
    "Logical operators are generally used for comparing two things e.g. *Is this bigger than that*.\n",
    "\n",
    "### Equality & relational Operators\n",
    "\n",
    "Operator|Meaning\n",
    ":--|:--\n",
    "`==`|Equal to\n",
    "`!=`|Not equal to\n",
    "`>`|Greater than\n",
    "`>=`|Greater than or equal to\n",
    "`<`|Less than\n",
    "`<=`|Less than or equal to\n",
    "\n",
    "### Conditional operators\n",
    "\n",
    "Operator|Meaning\n",
    ":--|:--\n",
    "`&&`|Conditional AND\n",
    "`\\|\\|`|Conditional OR\n",
    "`?:`|Ternary (shorthand for `if then else` statement)\n",
    "\n",
    "__NOTE__: *In the case of `&&` the second part of the operation will only be reached if the first part is true. In the case of `||` the second part will only be reached if the first part is false. For example \"is x AND y true\" you only need to worry about whether \"y\" is true if you've already established that \"x\" is true.*\n",
    "\n",
    "### Type comparison operator\n",
    "\n",
    "Operator|Meaning\n",
    ":--|:--\n",
    "`instanceof`|Compares an object to a specified type"
   ]
  },
  {
   "cell_type": "markdown",
   "id": "12eeb2fd",
   "metadata": {},
   "source": [
    "## Increment and Decrement\n",
    "As in many languages Java has a shorthand for incrementing and decrementing by `1`:\n",
    "- `++` increments (increases) the value by 1\n",
    "- `--` decrements (decreases) the value by 1\n",
    "\n",
    "The placement of the increment/decrement is important as Java includes the concept of *pre*-decrement/increment and *post*-decrement/increment. If you're performing multiple operations at the same time and you place the `++`/`--` *before* the variable to be incremented/decremented then Java will perform the increment/decrement before any other operations. \n",
    "\n",
    "Example:"
   ]
  },
  {
   "cell_type": "code",
   "execution_count": 1,
   "id": "00dcaf49",
   "metadata": {},
   "outputs": [
    {
     "name": "stdout",
     "output_type": "stream",
     "text": [
      "7\n",
      "8\n"
     ]
    },
    {
     "data": {
      "text/plain": [
       "null"
      ]
     },
     "execution_count": 1,
     "metadata": {},
     "output_type": "execute_result"
    }
   ],
   "source": [
    "int myInt = 7; // initialise myInt with value of 7\n",
    "System.out.println(myInt++); // print and THEN increment by 1\n",
    "System.out.println(myInt); // just print (so we can see that it was in fact incremented)"
   ]
  },
  {
   "cell_type": "code",
   "execution_count": null,
   "id": "c70ac878",
   "metadata": {},
   "outputs": [],
   "source": []
  }
 ],
 "metadata": {
  "kernelspec": {
   "display_name": "Java",
   "language": "java",
   "name": "java"
  },
  "language_info": {
   "codemirror_mode": "text/x-java",
   "file_extension": ".java",
   "mimetype": "",
   "name": "Java",
   "nbconverter_exporter": "",
   "version": "1.8.0_121"
  },
  "toc": {
   "base_numbering": 1,
   "nav_menu": {},
   "number_sections": false,
   "sideBar": false,
   "skip_h1_title": false,
   "title_cell": "Table of Contents",
   "title_sidebar": "Contents",
   "toc_cell": false,
   "toc_position": {},
   "toc_section_display": false,
   "toc_window_display": false
  }
 },
 "nbformat": 4,
 "nbformat_minor": 5
}
